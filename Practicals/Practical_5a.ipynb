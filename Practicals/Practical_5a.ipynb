{
 "cells": [
  {
   "cell_type": "markdown",
   "metadata": {
    "application/vnd.databricks.v1+cell": {
     "cellMetadata": {},
     "inputWidgets": {},
     "nuid": "d1adf143-c797-462c-b352-c5b551dae028",
     "showTitle": false,
     "title": ""
    }
   },
   "source": [
    "## Practical 5a: Delta Lake\n",
    "\n",
    "This notebook provides an example of updates and the transaction log.\n",
    "\n",
    "Source: Bennie Haelen, “Delta Lake: Up & Running”"
   ]
  },
  {
   "cell_type": "code",
   "execution_count": 0,
   "metadata": {
    "application/vnd.databricks.v1+cell": {
     "cellMetadata": {},
     "inputWidgets": {},
     "nuid": "932a9ac2-7ab8-4a2e-a8b6-adeb30f7c33f",
     "showTitle": false,
     "title": ""
    }
   },
   "outputs": [],
   "source": [
    "df = spark.createDataFrame([(1, 'P1'),(2, 'P2'),(3, 'P3'),(4, 'P4') ], [\"patientID\", \"name\"])"
   ]
  },
  {
   "cell_type": "code",
   "execution_count": 0,
   "metadata": {
    "application/vnd.databricks.v1+cell": {
     "cellMetadata": {},
     "inputWidgets": {},
     "nuid": "615b85c8-9e87-4c70-a24e-9e209762975c",
     "showTitle": false,
     "title": ""
    }
   },
   "outputs": [],
   "source": [
    "df.coalesce(2).write.format(\"delta\").mode(\"overwrite\").save( \"/tmp/deltaPath\")"
   ]
  },
  {
   "cell_type": "code",
   "execution_count": 0,
   "metadata": {
    "application/vnd.databricks.v1+cell": {
     "cellMetadata": {},
     "inputWidgets": {},
     "nuid": "cc66ffd0-b5ca-4c43-9cdb-d892c85aa966",
     "showTitle": false,
     "title": ""
    }
   },
   "outputs": [
    {
     "output_type": "stream",
     "name": "stdout",
     "output_type": "stream",
     "text": [
      "Out[10]: [FileInfo(path='dbfs:/tmp/deltaPath/_delta_log/', name='_delta_log/', size=0, modificationTime=0),\n FileInfo(path='dbfs:/tmp/deltaPath/part-00000-f5fe1f7f-23b9-4cf0-a17a-005a556926a2-c000.snappy.parquet', name='part-00000-f5fe1f7f-23b9-4cf0-a17a-005a556926a2-c000.snappy.parquet', size=847, modificationTime=1677205162000),\n FileInfo(path='dbfs:/tmp/deltaPath/part-00001-00120c57-c3fb-459f-aa67-1a34b3d5bea5-c000.snappy.parquet', name='part-00001-00120c57-c3fb-459f-aa67-1a34b3d5bea5-c000.snappy.parquet', size=847, modificationTime=1677205162000)]"
     ]
    }
   ],
   "source": [
    "dbutils.fs.ls(\"/tmp/deltaPath\")"
   ]
  },
  {
   "cell_type": "code",
   "execution_count": 0,
   "metadata": {
    "application/vnd.databricks.v1+cell": {
     "cellMetadata": {},
     "inputWidgets": {},
     "nuid": "ff6c05cf-9f30-4910-b664-770e2abaacf6",
     "showTitle": false,
     "title": ""
    }
   },
   "outputs": [
    {
     "output_type": "stream",
     "name": "stdout",
     "output_type": "stream",
     "text": [
      "Out[11]: [FileInfo(path='dbfs:/tmp/deltaPath/_delta_log/00000000000000000000.crc', name='00000000000000000000.crc', size=2922, modificationTime=1677205167000),\n FileInfo(path='dbfs:/tmp/deltaPath/_delta_log/00000000000000000000.json', name='00000000000000000000.json', size=1934, modificationTime=1677205163000)]"
     ]
    }
   ],
   "source": [
    "dbutils.fs.ls(\"/tmp/deltaPath/_delta_log\")"
   ]
  },
  {
   "cell_type": "code",
   "execution_count": 0,
   "metadata": {
    "application/vnd.databricks.v1+cell": {
     "cellMetadata": {},
     "inputWidgets": {},
     "nuid": "4f27155b-4e92-4215-8748-eeb35c79b631",
     "showTitle": false,
     "title": ""
    }
   },
   "outputs": [
    {
     "output_type": "stream",
     "name": "stdout",
     "output_type": "stream",
     "text": [
      "+--------------------+--------------------+--------------------+--------+\n|                 add|          commitInfo|            metaData|protocol|\n+--------------------+--------------------+--------------------+--------+\n|                null|{0224-010716-k9oi...|                null|    null|\n|                null|                null|                null|  {1, 2}|\n|                null|                null|{1677205160905, {...|    null|\n|{true, 1677205162...|                null|                null|    null|\n|{true, 1677205162...|                null|                null|    null|\n+--------------------+--------------------+--------------------+--------+\n\n"
     ]
    }
   ],
   "source": [
    "delta_log0=spark.read.format(\"json\").load(\"/tmp/deltaPath/_delta_log/00000000000000000000.json\")\n",
    "delta_log0.show()"
   ]
  },
  {
   "cell_type": "code",
   "execution_count": 0,
   "metadata": {
    "application/vnd.databricks.v1+cell": {
     "cellMetadata": {},
     "inputWidgets": {},
     "nuid": "c1bf8afd-795d-424d-bb11-0537db85da28",
     "showTitle": false,
     "title": ""
    }
   },
   "outputs": [
    {
     "output_type": "stream",
     "name": "stdout",
     "output_type": "stream",
     "text": [
      "Out[13]: [Row(add=None),\n Row(add=None),\n Row(add=None),\n Row(add=Row(dataChange=True, modificationTime=1677205162000, path='part-00000-f5fe1f7f-23b9-4cf0-a17a-005a556926a2-c000.snappy.parquet', size=847, stats='{\"numRecords\":2,\"minValues\":{\"patientID\":1,\"name\":\"P1\"},\"maxValues\":{\"patientID\":2,\"name\":\"P2\"},\"nullCount\":{\"patientID\":0,\"name\":0}}', tags=Row(INSERTION_TIME='1677205162000000', MAX_INSERTION_TIME='1677205162000000', MIN_INSERTION_TIME='1677205162000000', OPTIMIZE_TARGET_SIZE='268435456'))),\n Row(add=Row(dataChange=True, modificationTime=1677205162000, path='part-00001-00120c57-c3fb-459f-aa67-1a34b3d5bea5-c000.snappy.parquet', size=847, stats='{\"numRecords\":2,\"minValues\":{\"patientID\":3,\"name\":\"P3\"},\"maxValues\":{\"patientID\":4,\"name\":\"P4\"},\"nullCount\":{\"patientID\":0,\"name\":0}}', tags=Row(INSERTION_TIME='1677205162000001', MAX_INSERTION_TIME='1677205162000001', MIN_INSERTION_TIME='1677205162000001', OPTIMIZE_TARGET_SIZE='268435456')))]"
     ]
    }
   ],
   "source": [
    "delta_log0.select('add').collect()"
   ]
  },
  {
   "cell_type": "code",
   "execution_count": 0,
   "metadata": {
    "application/vnd.databricks.v1+cell": {
     "cellMetadata": {},
     "inputWidgets": {},
     "nuid": "14a8a23f-3c53-42da-9c9a-ee268fe57ced",
     "showTitle": false,
     "title": ""
    }
   },
   "outputs": [
    {
     "output_type": "stream",
     "name": "stdout",
     "output_type": "stream",
     "text": [
      "Out[14]: [Row(commitInfo=Row(clusterId='0224-010716-k9oi2cwj', engineInfo='Databricks-Runtime/11.3.x-scala2.12', isBlindAppend=False, isolationLevel='WriteSerializable', notebook=Row(notebookId='2632371252532864'), operation='WRITE', operationMetrics=Row(numFiles='2', numOutputBytes='1694', numOutputRows='4'), operationParameters=Row(mode='Overwrite', partitionBy='[]'), timestamp=1677205162769, txnId='73338f9f-0f3c-4e8d-bee4-68c90baa238f', userId='7450770214914438', userName='aixin@comp.nus.edu.sg')),\n Row(commitInfo=None),\n Row(commitInfo=None),\n Row(commitInfo=None),\n Row(commitInfo=None)]"
     ]
    }
   ],
   "source": [
    "delta_log0.select('commitInfo').collect()"
   ]
  },
  {
   "cell_type": "code",
   "execution_count": 0,
   "metadata": {
    "application/vnd.databricks.v1+cell": {
     "cellMetadata": {},
     "inputWidgets": {},
     "nuid": "482f83c6-1136-4e88-945a-3ab78e8fbd98",
     "showTitle": false,
     "title": ""
    }
   },
   "outputs": [
    {
     "output_type": "stream",
     "name": "stdout",
     "output_type": "stream",
     "text": [
      "Out[15]: [Row(metaData=None),\n Row(metaData=None),\n Row(metaData=Row(createdTime=1677205160905, format=Row(provider='parquet'), id='4fe8f773-d6ab-47f3-bb59-881300fb3676', partitionColumns=[], schemaString='{\"type\":\"struct\",\"fields\":[{\"name\":\"patientID\",\"type\":\"long\",\"nullable\":true,\"metadata\":{}},{\"name\":\"name\",\"type\":\"string\",\"nullable\":true,\"metadata\":{}}]}')),\n Row(metaData=None),\n Row(metaData=None)]"
     ]
    }
   ],
   "source": [
    "delta_log0.select('metaData').collect()"
   ]
  },
  {
   "cell_type": "code",
   "execution_count": 0,
   "metadata": {
    "application/vnd.databricks.v1+cell": {
     "cellMetadata": {},
     "inputWidgets": {},
     "nuid": "b89f806f-4bd7-487c-bd12-a4ebfb67a429",
     "showTitle": false,
     "title": ""
    }
   },
   "outputs": [],
   "source": [
    "df = spark.createDataFrame([(5, 'P5'),(6, 'P6')], [\"patientID\", \"name\"])\n",
    "df.coalesce(1).write.format(\"delta\").mode(\"append\").save(\"/tmp/deltaPath\")"
   ]
  },
  {
   "cell_type": "code",
   "execution_count": 0,
   "metadata": {
    "application/vnd.databricks.v1+cell": {
     "cellMetadata": {},
     "inputWidgets": {},
     "nuid": "ae6366fe-1245-419e-99b0-f52251bbc74c",
     "showTitle": false,
     "title": ""
    }
   },
   "outputs": [
    {
     "output_type": "stream",
     "name": "stdout",
     "output_type": "stream",
     "text": [
      "+--------------------+--------------------+\n|                 add|          commitInfo|\n+--------------------+--------------------+\n|                null|{0224-010716-k9oi...|\n|{true, 1677205246...|                null|\n+--------------------+--------------------+\n\n"
     ]
    }
   ],
   "source": [
    "delta_log1=spark.read.format(\"json\").load(\"/tmp/deltaPath/_delta_log/00000000000000000001.json\")\n",
    "delta_log1.show()"
   ]
  },
  {
   "cell_type": "code",
   "execution_count": 0,
   "metadata": {
    "application/vnd.databricks.v1+cell": {
     "cellMetadata": {},
     "inputWidgets": {},
     "nuid": "03fcdbf5-a727-4b07-9181-af80fbc02754",
     "showTitle": false,
     "title": ""
    }
   },
   "outputs": [
    {
     "output_type": "stream",
     "name": "stdout",
     "output_type": "stream",
     "text": [
      "+---------+----+\n|patientID|name|\n+---------+----+\n|        1|  P1|\n|        2|  P2|\n|        3|  P3|\n|        4|  P4|\n|        5|  P5|\n|        6|  P6|\n+---------+----+\n\n"
     ]
    }
   ],
   "source": [
    "spark.read.format(\"delta\").load(\"/tmp/deltaPath\").show()\n"
   ]
  },
  {
   "cell_type": "code",
   "execution_count": 0,
   "metadata": {
    "application/vnd.databricks.v1+cell": {
     "cellMetadata": {},
     "inputWidgets": {},
     "nuid": "8f5a3df9-86e0-4424-89ce-d6756c5419de",
     "showTitle": false,
     "title": ""
    }
   },
   "outputs": [],
   "source": [
    "from delta.tables import *\n",
    "deltaTable = DeltaTable.forPath(spark, \"/tmp/deltaPath\")"
   ]
  },
  {
   "cell_type": "code",
   "execution_count": 0,
   "metadata": {
    "application/vnd.databricks.v1+cell": {
     "cellMetadata": {},
     "inputWidgets": {},
     "nuid": "e2558175-fe0c-4d82-91de-88540e43627f",
     "showTitle": false,
     "title": ""
    }
   },
   "outputs": [],
   "source": [
    "from pyspark.sql.functions import *\n",
    "deltaTable.update(col(\"PatientID\") == 1, {\"name\": lit(\"P11\")})"
   ]
  },
  {
   "cell_type": "code",
   "execution_count": 0,
   "metadata": {
    "application/vnd.databricks.v1+cell": {
     "cellMetadata": {},
     "inputWidgets": {},
     "nuid": "49fb8a5f-fe71-4bb5-9622-0273a7ca594d",
     "showTitle": false,
     "title": ""
    }
   },
   "outputs": [
    {
     "output_type": "stream",
     "name": "stdout",
     "output_type": "stream",
     "text": [
      "+---------+----+\n|patientID|name|\n+---------+----+\n|        1| P11|\n|        2|  P2|\n|        3|  P3|\n|        4|  P4|\n|        5|  P5|\n|        6|  P6|\n+---------+----+\n\n"
     ]
    }
   ],
   "source": [
    "spark.read.format(\"delta\").load(\"/tmp/deltaPath\").show()"
   ]
  },
  {
   "cell_type": "code",
   "execution_count": 0,
   "metadata": {
    "application/vnd.databricks.v1+cell": {
     "cellMetadata": {},
     "inputWidgets": {},
     "nuid": "b784d5ca-9c04-4df7-b218-bc7027d3d5c2",
     "showTitle": false,
     "title": ""
    }
   },
   "outputs": [
    {
     "output_type": "stream",
     "name": "stdout",
     "output_type": "stream",
     "text": [
      "+--------------------+--------------------+--------------------+\n|                 add|          commitInfo|              remove|\n+--------------------+--------------------+--------------------+\n|                null|{0224-010716-k9oi...|                null|\n|                null|                null|{true, 1677205283...|\n|{true, 1677205284...|                null|                null|\n+--------------------+--------------------+--------------------+\n\n"
     ]
    }
   ],
   "source": [
    "delta_log2=spark.read.format(\"json\").load(\"/tmp/deltaPath/_delta_log/00000000000000000002.json\")\n",
    "delta_log2.show()"
   ]
  },
  {
   "cell_type": "code",
   "execution_count": 0,
   "metadata": {
    "application/vnd.databricks.v1+cell": {
     "cellMetadata": {},
     "inputWidgets": {},
     "nuid": "9702b2f9-d990-46e0-9d89-7aa953a7758c",
     "showTitle": false,
     "title": ""
    }
   },
   "outputs": [
    {
     "output_type": "stream",
     "name": "stdout",
     "output_type": "stream",
     "text": [
      "Out[23]: [FileInfo(path='dbfs:/tmp/deltaPath/_delta_log/00000000000000000000.crc', name='00000000000000000000.crc', size=2922, modificationTime=1677205167000),\n FileInfo(path='dbfs:/tmp/deltaPath/_delta_log/00000000000000000000.json', name='00000000000000000000.json', size=1934, modificationTime=1677205163000),\n FileInfo(path='dbfs:/tmp/deltaPath/_delta_log/00000000000000000001.crc', name='00000000000000000001.crc', size=3413, modificationTime=1677205249000),\n FileInfo(path='dbfs:/tmp/deltaPath/_delta_log/00000000000000000001.json', name='00000000000000000001.json', size=1014, modificationTime=1677205247000),\n FileInfo(path='dbfs:/tmp/deltaPath/_delta_log/00000000000000000002.crc', name='00000000000000000002.crc', size=3414, modificationTime=1677205288000),\n FileInfo(path='dbfs:/tmp/deltaPath/_delta_log/00000000000000000002.json', name='00000000000000000002.json', size=1499, modificationTime=1677205284000)]"
     ]
    }
   ],
   "source": [
    "dbutils.fs.ls(\"/tmp/deltaPath/_delta_log\")"
   ]
  },
  {
   "cell_type": "code",
   "execution_count": 0,
   "metadata": {
    "application/vnd.databricks.v1+cell": {
     "cellMetadata": {},
     "inputWidgets": {},
     "nuid": "7387b5b8-44f2-4f1e-8b1e-782ca7cf4bef",
     "showTitle": false,
     "title": ""
    }
   },
   "outputs": [],
   "source": []
  }
 ],
 "metadata": {
  "application/vnd.databricks.v1+notebook": {
   "dashboards": [],
   "language": "python",
   "notebookMetadata": {
    "pythonIndentUnit": 4
   },
   "notebookName": "Practical_5a",
   "widgets": {}
  }
 },
 "nbformat": 4,
 "nbformat_minor": 0
}
