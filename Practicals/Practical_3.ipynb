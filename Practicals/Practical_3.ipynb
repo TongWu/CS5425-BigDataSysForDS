{
 "cells": [
  {
   "cell_type": "markdown",
   "metadata": {
    "application/vnd.databricks.v1+cell": {
     "cellMetadata": {},
     "inputWidgets": {},
     "nuid": "79b0ff3d-3b81-4e5a-9d4c-13c0e7b08386",
     "showTitle": false,
     "title": ""
    }
   },
   "source": [
    "## Practical 3: Spark Streaming\n",
    "\n",
    "This notebook provides a structure streaming example using Spark. \n",
    "\n",
    "Source: https://github.com/databricks/Spark-The-Definitive-Guide"
   ]
  },
  {
   "cell_type": "code",
   "execution_count": 0,
   "metadata": {
    "application/vnd.databricks.v1+cell": {
     "cellMetadata": {},
     "inputWidgets": {},
     "nuid": "1442dfaa-b046-4f00-9ac3-d68526bbe2f7",
     "showTitle": false,
     "title": ""
    }
   },
   "outputs": [],
   "source": [
    "spark.conf.set(\"spark.sql.shuffle.partitions\", 5)"
   ]
  },
  {
   "cell_type": "code",
   "execution_count": 0,
   "metadata": {
    "application/vnd.databricks.v1+cell": {
     "cellMetadata": {},
     "inputWidgets": {},
     "nuid": "9d9d98ee-118c-4ba7-abe1-bbcdd7bd90bf",
     "showTitle": false,
     "title": ""
    }
   },
   "outputs": [],
   "source": [
    "static = spark.read.json(\"/databricks-datasets/definitive-guide/data/activity-data/\")\n",
    "dataSchema = static.schema\n"
   ]
  },
  {
   "cell_type": "code",
   "execution_count": 0,
   "metadata": {
    "application/vnd.databricks.v1+cell": {
     "cellMetadata": {},
     "inputWidgets": {},
     "nuid": "4b3fec42-ebd4-48f7-b169-f82afb0d01b4",
     "showTitle": false,
     "title": ""
    }
   },
   "outputs": [],
   "source": [
    "streaming = spark.readStream.schema(dataSchema).option(\"maxFilesPerTrigger\", 1)\\\n",
    "  .json(\"/databricks-datasets/definitive-guide/data/activity-data\")\n"
   ]
  },
  {
   "cell_type": "code",
   "execution_count": 0,
   "metadata": {
    "application/vnd.databricks.v1+cell": {
     "cellMetadata": {},
     "inputWidgets": {},
     "nuid": "f693d788-cbcb-462b-becc-9ddfdba40729",
     "showTitle": false,
     "title": ""
    }
   },
   "outputs": [],
   "source": [
    "activityCounts = streaming.groupBy(\"gt\").count()\n"
   ]
  },
  {
   "cell_type": "code",
   "execution_count": 0,
   "metadata": {
    "application/vnd.databricks.v1+cell": {
     "cellMetadata": {},
     "inputWidgets": {},
     "nuid": "e0001096-ff45-4ec7-967b-a252b54de358",
     "showTitle": false,
     "title": ""
    }
   },
   "outputs": [],
   "source": [
    "activityQuery = activityCounts.writeStream.queryName(\"activity_counts\")\\\n",
    "  .format(\"memory\").outputMode(\"complete\")\\\n",
    "  .start()\n"
   ]
  },
  {
   "cell_type": "code",
   "execution_count": 0,
   "metadata": {
    "application/vnd.databricks.v1+cell": {
     "cellMetadata": {},
     "inputWidgets": {},
     "nuid": "c2561972-28de-4fbf-9f05-e61cd0181635",
     "showTitle": false,
     "title": ""
    }
   },
   "outputs": [
    {
     "output_type": "stream",
     "name": "stdout",
     "output_type": "stream",
     "text": [
      "Out[32]: {'id': '3aa468d2-26b3-4a65-af03-da352d4299f0',\n 'runId': '2ea9a799-e04c-4974-9279-bafa6685ec0f',\n 'name': 'activity_counts',\n 'timestamp': '2023-02-13T08:36:53.500Z',\n 'batchId': 80,\n 'numInputRows': 0,\n 'inputRowsPerSecond': 0.0,\n 'processedRowsPerSecond': 0.0,\n 'durationMs': {'latestOffset': 109, 'triggerExecution': 109},\n 'stateOperators': [{'operatorName': 'stateStoreSave',\n   'numRowsTotal': 7,\n   'numRowsUpdated': 0,\n   'allUpdatesTimeMs': 180,\n   'numRowsRemoved': 0,\n   'allRemovalsTimeMs': 0,\n   'commitTimeMs': 1649,\n   'memoryUsedBytes': 4280,\n   'numRowsDroppedByWatermark': 0,\n   'numShufflePartitions': 5,\n   'numStateStoreInstances': 5,\n   'customMetrics': {'loadedMapCacheHitCount': 790,\n    'loadedMapCacheMissCount': 0,\n    'stateOnCurrentVersionSizeBytes': 1864}}],\n 'sources': [{'description': 'FileStreamSource[dbfs:/databricks-datasets/definitive-guide/data/activity-data]',\n   'startOffset': {'logOffset': 79},\n   'endOffset': {'logOffset': 79},\n   'latestOffset': None,\n   'numInputRows': 0,\n   'inputRowsPerSecond': 0.0,\n   'processedRowsPerSecond': 0.0}],\n 'sink': {'description': 'MemorySink', 'numOutputRows': 0}}"
     ]
    }
   ],
   "source": [
    "activityQuery.lastProgress"
   ]
  },
  {
   "cell_type": "code",
   "execution_count": 0,
   "metadata": {
    "application/vnd.databricks.v1+cell": {
     "cellMetadata": {},
     "inputWidgets": {},
     "nuid": "4a6e259c-9cec-42e0-adac-c2de15640197",
     "showTitle": false,
     "title": ""
    }
   },
   "outputs": [
    {
     "output_type": "stream",
     "name": "stdout",
     "output_type": "stream",
     "text": [
      "Out[33]: {'message': 'Stopped', 'isDataAvailable': False, 'isTriggerActive': False}"
     ]
    }
   ],
   "source": [
    "activityQuery.status"
   ]
  },
  {
   "cell_type": "code",
   "execution_count": 0,
   "metadata": {
    "application/vnd.databricks.v1+cell": {
     "cellMetadata": {},
     "inputWidgets": {},
     "nuid": "254df1fd-5fb6-464d-a457-9320cc7f7cec",
     "showTitle": false,
     "title": ""
    }
   },
   "outputs": [
    {
     "output_type": "stream",
     "name": "stdout",
     "output_type": "stream",
     "text": [
      "+----------+-------+\n|        gt|  count|\n+----------+-------+\n|       sit| 984714|\n|     stand| 910783|\n|stairsdown| 749059|\n|      walk|1060402|\n|  stairsup| 836598|\n|      null| 835725|\n|      bike| 863710|\n+----------+-------+\n\n+----------+-------+\n|        gt|  count|\n+----------+-------+\n|       sit| 984714|\n|     stand| 910783|\n|stairsdown| 749059|\n|      walk|1060402|\n|  stairsup| 836598|\n|      null| 835725|\n|      bike| 863710|\n+----------+-------+\n\n+----------+-------+\n|        gt|  count|\n+----------+-------+\n|       sit| 984714|\n|     stand| 910783|\n|stairsdown| 749059|\n|      walk|1060402|\n|  stairsup| 836598|\n|      null| 835725|\n|      bike| 863710|\n+----------+-------+\n\n+----------+-------+\n|        gt|  count|\n+----------+-------+\n|       sit| 984714|\n|     stand| 910783|\n|stairsdown| 749059|\n|      walk|1060402|\n|  stairsup| 836598|\n|      null| 835725|\n|      bike| 863710|\n+----------+-------+\n\n+----------+-------+\n|        gt|  count|\n+----------+-------+\n|       sit| 984714|\n|     stand| 910783|\n|stairsdown| 749059|\n|      walk|1060402|\n|  stairsup| 836598|\n|      null| 835725|\n|      bike| 863710|\n+----------+-------+\n\n"
     ]
    }
   ],
   "source": [
    "from time import sleep\n",
    "for x in range(5):\n",
    "    spark.sql(\"SELECT * FROM activity_counts\").show()\n",
    "    sleep(1)\n"
   ]
  },
  {
   "cell_type": "code",
   "execution_count": 0,
   "metadata": {
    "application/vnd.databricks.v1+cell": {
     "cellMetadata": {},
     "inputWidgets": {},
     "nuid": "8fd2fd4d-e2fc-4fb4-bdd4-09e5bb9598f7",
     "showTitle": false,
     "title": ""
    }
   },
   "outputs": [],
   "source": [
    "from pyspark.sql.functions import expr\n",
    "simpleTransform = streaming.withColumn(\"stairs\", expr(\"gt like '%stairs%'\"))\\\n",
    "  .where(\"stairs\")\\\n",
    "  .where(\"gt is not null\")\\\n",
    "  .select(\"gt\", \"model\", \"arrival_time\", \"creation_time\")\\\n",
    "  .writeStream\\\n",
    "  .queryName(\"simple_transform\")\\\n",
    "  .format(\"memory\")\\\n",
    "  .outputMode(\"append\")\\\n",
    "  .start()\n"
   ]
  },
  {
   "cell_type": "code",
   "execution_count": 0,
   "metadata": {
    "application/vnd.databricks.v1+cell": {
     "cellMetadata": {},
     "inputWidgets": {},
     "nuid": "b2d5654e-0f81-4033-8fc6-1264d577394f",
     "showTitle": false,
     "title": ""
    }
   },
   "outputs": [],
   "source": [
    "deviceModelStats = streaming.cube(\"gt\", \"model\").avg()\\\n",
    "  .drop(\"avg(Arrival_time)\")\\\n",
    "  .drop(\"avg(Creation_Time)\")\\\n",
    "  .drop(\"avg(Index)\")\\\n",
    "  .writeStream.queryName(\"device_counts\").format(\"memory\")\\\n",
    "  .outputMode(\"complete\")\\\n",
    "  .start()\n"
   ]
  },
  {
   "cell_type": "code",
   "execution_count": 0,
   "metadata": {
    "application/vnd.databricks.v1+cell": {
     "cellMetadata": {},
     "inputWidgets": {},
     "nuid": "28ac0a75-0535-42b3-a3c0-3d79f4eacbe4",
     "showTitle": false,
     "title": ""
    }
   },
   "outputs": [],
   "source": [
    "historicalAgg = static.groupBy(\"gt\", \"model\").avg()\n",
    "deviceModelStats = streaming.drop(\"Arrival_Time\", \"Creation_Time\", \"Index\")\\\n",
    "  .cube(\"gt\", \"model\").avg()\\\n",
    "  .join(historicalAgg, [\"gt\", \"model\"])\\\n",
    "  .writeStream.queryName(\"device_counts\").format(\"memory\")\\\n",
    "  .outputMode(\"complete\")\\\n",
    "  .start()\n"
   ]
  },
  {
   "cell_type": "code",
   "execution_count": 0,
   "metadata": {
    "application/vnd.databricks.v1+cell": {
     "cellMetadata": {},
     "inputWidgets": {},
     "nuid": "5b1464df-f48d-4e9d-a833-7db48a922367",
     "showTitle": false,
     "title": ""
    }
   },
   "outputs": [],
   "source": []
  }
 ],
 "metadata": {
  "application/vnd.databricks.v1+notebook": {
   "dashboards": [],
   "language": "python",
   "notebookMetadata": {
    "pythonIndentUnit": 4
   },
   "notebookName": "Practical_3",
   "widgets": {}
  }
 },
 "nbformat": 4,
 "nbformat_minor": 0
}
