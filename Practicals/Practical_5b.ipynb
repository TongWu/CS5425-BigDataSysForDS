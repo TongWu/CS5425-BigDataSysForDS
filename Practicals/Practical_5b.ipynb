{
 "cells": [
  {
   "cell_type": "markdown",
   "metadata": {
    "application/vnd.databricks.v1+cell": {
     "cellMetadata": {},
     "inputWidgets": {},
     "nuid": "7168eb59-8008-46c2-a65f-f06d92004c1a",
     "showTitle": false,
     "title": ""
    }
   },
   "source": [
    "## Practical 5b: Delta Lake\n",
    "\n",
    "This notebook provides an example of Checkpoint File.\n",
    "\n",
    "Source: Bennie Haelen, “Delta Lake: Up & Running”"
   ]
  },
  {
   "cell_type": "code",
   "execution_count": 0,
   "metadata": {
    "application/vnd.databricks.v1+cell": {
     "cellMetadata": {},
     "inputWidgets": {},
     "nuid": "0d52ff3d-34a0-4d80-b66f-3c21349ad53a",
     "showTitle": false,
     "title": ""
    }
   },
   "outputs": [],
   "source": [
    "data = spark.range(0, 10)\n",
    "data.coalesce(1).write.format(\"delta\").mode(\"overwrite\").save('/tmp/deltaPath2')\n"
   ]
  },
  {
   "cell_type": "code",
   "execution_count": 0,
   "metadata": {
    "application/vnd.databricks.v1+cell": {
     "cellMetadata": {},
     "inputWidgets": {},
     "nuid": "c1dafd16-d7c1-4932-bc13-469e486aba77",
     "showTitle": false,
     "title": ""
    }
   },
   "outputs": [
    {
     "output_type": "stream",
     "name": "stdout",
     "output_type": "stream",
     "text": [
      "+---+\n| id|\n+---+\n|  0|\n|  1|\n|  2|\n|  3|\n|  4|\n|  5|\n|  6|\n|  7|\n|  8|\n|  9|\n+---+\n\n"
     ]
    }
   ],
   "source": [
    "spark.read.format(\"delta\").load(\"/tmp/deltaPath2\").show()"
   ]
  },
  {
   "cell_type": "code",
   "execution_count": 0,
   "metadata": {
    "application/vnd.databricks.v1+cell": {
     "cellMetadata": {},
     "inputWidgets": {},
     "nuid": "6d0c6177-c0bb-42c9-8363-330b57195d3e",
     "showTitle": false,
     "title": ""
    }
   },
   "outputs": [
    {
     "output_type": "stream",
     "name": "stdout",
     "output_type": "stream",
     "text": [
      "Out[19]: [FileInfo(path='dbfs:/tmp/deltaPath2/_delta_log/', name='_delta_log/', size=0, modificationTime=0),\n FileInfo(path='dbfs:/tmp/deltaPath2/part-00000-00c8c2a5-7081-46fd-890f-8a787f66cb0e-c000.snappy.parquet', name='part-00000-00c8c2a5-7081-46fd-890f-8a787f66cb0e-c000.snappy.parquet', size=661, modificationTime=1679537126000)]"
     ]
    }
   ],
   "source": [
    "dbutils.fs.ls(\"/tmp/deltaPath2/\")"
   ]
  },
  {
   "cell_type": "code",
   "execution_count": 0,
   "metadata": {
    "application/vnd.databricks.v1+cell": {
     "cellMetadata": {},
     "inputWidgets": {},
     "nuid": "6e4d977a-ba1b-4576-867c-f0d1c8bb818c",
     "showTitle": false,
     "title": ""
    }
   },
   "outputs": [
    {
     "output_type": "stream",
     "name": "stdout",
     "output_type": "stream",
     "text": [
      "Out[20]: [FileInfo(path='dbfs:/tmp/deltaPath2/_delta_log/00000000000000000000.crc', name='00000000000000000000.crc', size=2285, modificationTime=1679537131000),\n FileInfo(path='dbfs:/tmp/deltaPath2/_delta_log/00000000000000000000.json', name='00000000000000000000.json', size=1292, modificationTime=1679537127000)]"
     ]
    }
   ],
   "source": [
    "dbutils.fs.ls(\"/tmp/deltaPath2/_delta_log\")"
   ]
  },
  {
   "cell_type": "code",
   "execution_count": 0,
   "metadata": {
    "application/vnd.databricks.v1+cell": {
     "cellMetadata": {},
     "inputWidgets": {},
     "nuid": "df56e84a-1d68-48e0-9e8c-0a17776aad01",
     "showTitle": false,
     "title": ""
    }
   },
   "outputs": [
    {
     "output_type": "stream",
     "name": "stdout",
     "output_type": "stream",
     "text": [
      "+--------------------+--------------------+--------------------+--------+\n|                 add|          commitInfo|            metaData|protocol|\n+--------------------+--------------------+--------------------+--------+\n|                null|{0323-015514-ydmb...|                null|    null|\n|                null|                null|                null|  {1, 2}|\n|                null|                null|{1679537125465, {...|    null|\n|{true, 1679537126...|                null|                null|    null|\n+--------------------+--------------------+--------------------+--------+\n\n"
     ]
    }
   ],
   "source": [
    "spark.read.format(\"json\").load(\"/tmp/deltaPath2/_delta_log/00000000000000000000.json\").show()"
   ]
  },
  {
   "cell_type": "code",
   "execution_count": 0,
   "metadata": {
    "application/vnd.databricks.v1+cell": {
     "cellMetadata": {},
     "inputWidgets": {},
     "nuid": "d688df48-8679-4779-8919-39a86c2c8443",
     "showTitle": false,
     "title": ""
    }
   },
   "outputs": [],
   "source": [
    "for index in range(9):\n",
    "    data = spark.range(0, 10)\n",
    "    data.coalesce(1).write.format(\"delta\").mode(\"append\").save('/tmp/deltaPath2')"
   ]
  },
  {
   "cell_type": "code",
   "execution_count": 0,
   "metadata": {
    "application/vnd.databricks.v1+cell": {
     "cellMetadata": {},
     "inputWidgets": {},
     "nuid": "e917a9ac-b145-4626-9be8-6d826c14d472",
     "showTitle": false,
     "title": ""
    }
   },
   "outputs": [
    {
     "output_type": "stream",
     "name": "stdout",
     "output_type": "stream",
     "text": [
      "Out[23]: 100"
     ]
    }
   ],
   "source": [
    "spark.read.format(\"delta\").load(\"/tmp/deltaPath2\").count()"
   ]
  },
  {
   "cell_type": "code",
   "execution_count": 0,
   "metadata": {
    "application/vnd.databricks.v1+cell": {
     "cellMetadata": {},
     "inputWidgets": {},
     "nuid": "46b9aec7-da33-42ec-b0df-2c2cff4f406a",
     "showTitle": false,
     "title": ""
    }
   },
   "outputs": [
    {
     "output_type": "stream",
     "name": "stdout",
     "output_type": "stream",
     "text": [
      "Out[24]: [FileInfo(path='dbfs:/tmp/deltaPath2/_delta_log/00000000000000000000.crc', name='00000000000000000000.crc', size=2285, modificationTime=1679537131000),\n FileInfo(path='dbfs:/tmp/deltaPath2/_delta_log/00000000000000000000.json', name='00000000000000000000.json', size=1292, modificationTime=1679537127000),\n FileInfo(path='dbfs:/tmp/deltaPath2/_delta_log/00000000000000000001.crc', name='00000000000000000001.crc', size=2715, modificationTime=1679537162000),\n FileInfo(path='dbfs:/tmp/deltaPath2/_delta_log/00000000000000000001.json', name='00000000000000000001.json', size=952, modificationTime=1679537161000),\n FileInfo(path='dbfs:/tmp/deltaPath2/_delta_log/00000000000000000002.crc', name='00000000000000000002.crc', size=3143, modificationTime=1679537165000),\n FileInfo(path='dbfs:/tmp/deltaPath2/_delta_log/00000000000000000002.json', name='00000000000000000002.json', size=952, modificationTime=1679537163000),\n FileInfo(path='dbfs:/tmp/deltaPath2/_delta_log/00000000000000000003.crc', name='00000000000000000003.crc', size=3571, modificationTime=1679537167000),\n FileInfo(path='dbfs:/tmp/deltaPath2/_delta_log/00000000000000000003.json', name='00000000000000000003.json', size=952, modificationTime=1679537165000),\n FileInfo(path='dbfs:/tmp/deltaPath2/_delta_log/00000000000000000004.crc', name='00000000000000000004.crc', size=3999, modificationTime=1679537169000),\n FileInfo(path='dbfs:/tmp/deltaPath2/_delta_log/00000000000000000004.json', name='00000000000000000004.json', size=952, modificationTime=1679537167000),\n FileInfo(path='dbfs:/tmp/deltaPath2/_delta_log/00000000000000000005.crc', name='00000000000000000005.crc', size=4427, modificationTime=1679537171000),\n FileInfo(path='dbfs:/tmp/deltaPath2/_delta_log/00000000000000000005.json', name='00000000000000000005.json', size=952, modificationTime=1679537169000),\n FileInfo(path='dbfs:/tmp/deltaPath2/_delta_log/00000000000000000006.crc', name='00000000000000000006.crc', size=4855, modificationTime=1679537174000),\n FileInfo(path='dbfs:/tmp/deltaPath2/_delta_log/00000000000000000006.json', name='00000000000000000006.json', size=952, modificationTime=1679537172000),\n FileInfo(path='dbfs:/tmp/deltaPath2/_delta_log/00000000000000000007.crc', name='00000000000000000007.crc', size=5283, modificationTime=1679537177000),\n FileInfo(path='dbfs:/tmp/deltaPath2/_delta_log/00000000000000000007.json', name='00000000000000000007.json', size=952, modificationTime=1679537175000),\n FileInfo(path='dbfs:/tmp/deltaPath2/_delta_log/00000000000000000008.crc', name='00000000000000000008.crc', size=5711, modificationTime=1679537179000),\n FileInfo(path='dbfs:/tmp/deltaPath2/_delta_log/00000000000000000008.json', name='00000000000000000008.json', size=952, modificationTime=1679537177000),\n FileInfo(path='dbfs:/tmp/deltaPath2/_delta_log/00000000000000000009.crc', name='00000000000000000009.crc', size=6141, modificationTime=1679537181000),\n FileInfo(path='dbfs:/tmp/deltaPath2/_delta_log/00000000000000000009.json', name='00000000000000000009.json', size=952, modificationTime=1679537179000)]"
     ]
    }
   ],
   "source": [
    "dbutils.fs.ls(\"/tmp/deltaPath2/_delta_log\")"
   ]
  },
  {
   "cell_type": "code",
   "execution_count": 0,
   "metadata": {
    "application/vnd.databricks.v1+cell": {
     "cellMetadata": {},
     "inputWidgets": {},
     "nuid": "45f8db45-2495-4a21-94c3-2c6e7e3c0489",
     "showTitle": false,
     "title": ""
    }
   },
   "outputs": [],
   "source": [
    "data = spark.range(0, 10)\n",
    "data.coalesce(1).write.format(\"delta\").mode(\"append\").save('/tmp/deltaPath2')"
   ]
  },
  {
   "cell_type": "code",
   "execution_count": 0,
   "metadata": {
    "application/vnd.databricks.v1+cell": {
     "cellMetadata": {},
     "inputWidgets": {},
     "nuid": "cc5d9c0b-0524-4805-ada9-ecd9badbef14",
     "showTitle": false,
     "title": ""
    }
   },
   "outputs": [
    {
     "output_type": "stream",
     "name": "stdout",
     "output_type": "stream",
     "text": [
      "Out[26]: [FileInfo(path='dbfs:/tmp/deltaPath2/_delta_log/00000000000000000000.crc', name='00000000000000000000.crc', size=2285, modificationTime=1679537131000),\n FileInfo(path='dbfs:/tmp/deltaPath2/_delta_log/00000000000000000000.json', name='00000000000000000000.json', size=1292, modificationTime=1679537127000),\n FileInfo(path='dbfs:/tmp/deltaPath2/_delta_log/00000000000000000001.crc', name='00000000000000000001.crc', size=2715, modificationTime=1679537162000),\n FileInfo(path='dbfs:/tmp/deltaPath2/_delta_log/00000000000000000001.json', name='00000000000000000001.json', size=952, modificationTime=1679537161000),\n FileInfo(path='dbfs:/tmp/deltaPath2/_delta_log/00000000000000000002.crc', name='00000000000000000002.crc', size=3143, modificationTime=1679537165000),\n FileInfo(path='dbfs:/tmp/deltaPath2/_delta_log/00000000000000000002.json', name='00000000000000000002.json', size=952, modificationTime=1679537163000),\n FileInfo(path='dbfs:/tmp/deltaPath2/_delta_log/00000000000000000003.crc', name='00000000000000000003.crc', size=3571, modificationTime=1679537167000),\n FileInfo(path='dbfs:/tmp/deltaPath2/_delta_log/00000000000000000003.json', name='00000000000000000003.json', size=952, modificationTime=1679537165000),\n FileInfo(path='dbfs:/tmp/deltaPath2/_delta_log/00000000000000000004.crc', name='00000000000000000004.crc', size=3999, modificationTime=1679537169000),\n FileInfo(path='dbfs:/tmp/deltaPath2/_delta_log/00000000000000000004.json', name='00000000000000000004.json', size=952, modificationTime=1679537167000),\n FileInfo(path='dbfs:/tmp/deltaPath2/_delta_log/00000000000000000005.crc', name='00000000000000000005.crc', size=4427, modificationTime=1679537171000),\n FileInfo(path='dbfs:/tmp/deltaPath2/_delta_log/00000000000000000005.json', name='00000000000000000005.json', size=952, modificationTime=1679537169000),\n FileInfo(path='dbfs:/tmp/deltaPath2/_delta_log/00000000000000000006.crc', name='00000000000000000006.crc', size=4855, modificationTime=1679537174000),\n FileInfo(path='dbfs:/tmp/deltaPath2/_delta_log/00000000000000000006.json', name='00000000000000000006.json', size=952, modificationTime=1679537172000),\n FileInfo(path='dbfs:/tmp/deltaPath2/_delta_log/00000000000000000007.crc', name='00000000000000000007.crc', size=5283, modificationTime=1679537177000),\n FileInfo(path='dbfs:/tmp/deltaPath2/_delta_log/00000000000000000007.json', name='00000000000000000007.json', size=952, modificationTime=1679537175000),\n FileInfo(path='dbfs:/tmp/deltaPath2/_delta_log/00000000000000000008.crc', name='00000000000000000008.crc', size=5711, modificationTime=1679537179000),\n FileInfo(path='dbfs:/tmp/deltaPath2/_delta_log/00000000000000000008.json', name='00000000000000000008.json', size=952, modificationTime=1679537177000),\n FileInfo(path='dbfs:/tmp/deltaPath2/_delta_log/00000000000000000009.crc', name='00000000000000000009.crc', size=6141, modificationTime=1679537181000),\n FileInfo(path='dbfs:/tmp/deltaPath2/_delta_log/00000000000000000009.json', name='00000000000000000009.json', size=952, modificationTime=1679537179000),\n FileInfo(path='dbfs:/tmp/deltaPath2/_delta_log/00000000000000000010.checkpoint.parquet', name='00000000000000000010.checkpoint.parquet', size=15477, modificationTime=1679537212000),\n FileInfo(path='dbfs:/tmp/deltaPath2/_delta_log/00000000000000000010.crc', name='00000000000000000010.crc', size=6569, modificationTime=1679537211000),\n FileInfo(path='dbfs:/tmp/deltaPath2/_delta_log/00000000000000000010.json', name='00000000000000000010.json', size=952, modificationTime=1679537209000),\n FileInfo(path='dbfs:/tmp/deltaPath2/_delta_log/_last_checkpoint', name='_last_checkpoint', size=4295, modificationTime=1679537212000)]"
     ]
    }
   ],
   "source": [
    "dbutils.fs.ls(\"/tmp/deltaPath2/_delta_log\")"
   ]
  },
  {
   "cell_type": "code",
   "execution_count": 0,
   "metadata": {
    "application/vnd.databricks.v1+cell": {
     "cellMetadata": {},
     "inputWidgets": {},
     "nuid": "00e56dbe-6e0f-418e-b472-0b35d86a98cb",
     "showTitle": false,
     "title": ""
    }
   },
   "outputs": [
    {
     "output_type": "stream",
     "name": "stdout",
     "output_type": "stream",
     "text": [
      "+----+--------------------+------+--------------------+------------------+\n| txn|                 add|remove|            metaData|          protocol|\n+----+--------------------+------+--------------------+------------------+\n|null|                null|  null|                null|{1, 2, null, null}|\n|null|                null|  null|{55ec790c-3dca-40...|              null|\n|null|{part-00000-00c8c...|  null|                null|              null|\n|null|{part-00000-09bdd...|  null|                null|              null|\n|null|{part-00000-11676...|  null|                null|              null|\n|null|{part-00000-36512...|  null|                null|              null|\n|null|{part-00000-4c702...|  null|                null|              null|\n|null|{part-00000-53830...|  null|                null|              null|\n|null|{part-00000-829b7...|  null|                null|              null|\n|null|{part-00000-a34ab...|  null|                null|              null|\n|null|{part-00000-c35bf...|  null|                null|              null|\n|null|{part-00000-ca49c...|  null|                null|              null|\n|null|{part-00000-d8cb3...|  null|                null|              null|\n+----+--------------------+------+--------------------+------------------+\n\n"
     ]
    }
   ],
   "source": [
    "spark.read.format(\"parquet\").load(\"/tmp/deltaPath2/_delta_log/00000000000000000010.checkpoint.parquet\").show()"
   ]
  },
  {
   "cell_type": "code",
   "execution_count": 0,
   "metadata": {
    "application/vnd.databricks.v1+cell": {
     "cellMetadata": {},
     "inputWidgets": {},
     "nuid": "f1758ac2-92c2-4fb3-9485-a1f7a655b3dc",
     "showTitle": false,
     "title": ""
    }
   },
   "outputs": [],
   "source": [
    "for index in range(11):\n",
    "    data = spark.range(0, 10)\n",
    "    data.coalesce(1).write.format(\"delta\").mode(\"append\").save('/tmp/deltaPath2')"
   ]
  },
  {
   "cell_type": "code",
   "execution_count": 0,
   "metadata": {
    "application/vnd.databricks.v1+cell": {
     "cellMetadata": {},
     "inputWidgets": {},
     "nuid": "e61feeb7-3501-482c-a5a7-d393e3a81565",
     "showTitle": false,
     "title": ""
    }
   },
   "outputs": [
    {
     "output_type": "stream",
     "name": "stdout",
     "output_type": "stream",
     "text": [
      "Out[29]: [FileInfo(path='dbfs:/tmp/deltaPath2/_delta_log/00000000000000000000.crc', name='00000000000000000000.crc', size=2285, modificationTime=1679537131000),\n FileInfo(path='dbfs:/tmp/deltaPath2/_delta_log/00000000000000000000.json', name='00000000000000000000.json', size=1292, modificationTime=1679537127000),\n FileInfo(path='dbfs:/tmp/deltaPath2/_delta_log/00000000000000000001.crc', name='00000000000000000001.crc', size=2715, modificationTime=1679537162000),\n FileInfo(path='dbfs:/tmp/deltaPath2/_delta_log/00000000000000000001.json', name='00000000000000000001.json', size=952, modificationTime=1679537161000),\n FileInfo(path='dbfs:/tmp/deltaPath2/_delta_log/00000000000000000002.crc', name='00000000000000000002.crc', size=3143, modificationTime=1679537165000),\n FileInfo(path='dbfs:/tmp/deltaPath2/_delta_log/00000000000000000002.json', name='00000000000000000002.json', size=952, modificationTime=1679537163000),\n FileInfo(path='dbfs:/tmp/deltaPath2/_delta_log/00000000000000000003.crc', name='00000000000000000003.crc', size=3571, modificationTime=1679537167000),\n FileInfo(path='dbfs:/tmp/deltaPath2/_delta_log/00000000000000000003.json', name='00000000000000000003.json', size=952, modificationTime=1679537165000),\n FileInfo(path='dbfs:/tmp/deltaPath2/_delta_log/00000000000000000004.crc', name='00000000000000000004.crc', size=3999, modificationTime=1679537169000),\n FileInfo(path='dbfs:/tmp/deltaPath2/_delta_log/00000000000000000004.json', name='00000000000000000004.json', size=952, modificationTime=1679537167000),\n FileInfo(path='dbfs:/tmp/deltaPath2/_delta_log/00000000000000000005.crc', name='00000000000000000005.crc', size=4427, modificationTime=1679537171000),\n FileInfo(path='dbfs:/tmp/deltaPath2/_delta_log/00000000000000000005.json', name='00000000000000000005.json', size=952, modificationTime=1679537169000),\n FileInfo(path='dbfs:/tmp/deltaPath2/_delta_log/00000000000000000006.crc', name='00000000000000000006.crc', size=4855, modificationTime=1679537174000),\n FileInfo(path='dbfs:/tmp/deltaPath2/_delta_log/00000000000000000006.json', name='00000000000000000006.json', size=952, modificationTime=1679537172000),\n FileInfo(path='dbfs:/tmp/deltaPath2/_delta_log/00000000000000000007.crc', name='00000000000000000007.crc', size=5283, modificationTime=1679537177000),\n FileInfo(path='dbfs:/tmp/deltaPath2/_delta_log/00000000000000000007.json', name='00000000000000000007.json', size=952, modificationTime=1679537175000),\n FileInfo(path='dbfs:/tmp/deltaPath2/_delta_log/00000000000000000008.crc', name='00000000000000000008.crc', size=5711, modificationTime=1679537179000),\n FileInfo(path='dbfs:/tmp/deltaPath2/_delta_log/00000000000000000008.json', name='00000000000000000008.json', size=952, modificationTime=1679537177000),\n FileInfo(path='dbfs:/tmp/deltaPath2/_delta_log/00000000000000000009.crc', name='00000000000000000009.crc', size=6141, modificationTime=1679537181000),\n FileInfo(path='dbfs:/tmp/deltaPath2/_delta_log/00000000000000000009.json', name='00000000000000000009.json', size=952, modificationTime=1679537179000),\n FileInfo(path='dbfs:/tmp/deltaPath2/_delta_log/00000000000000000010.checkpoint.parquet', name='00000000000000000010.checkpoint.parquet', size=15477, modificationTime=1679537212000),\n FileInfo(path='dbfs:/tmp/deltaPath2/_delta_log/00000000000000000010.crc', name='00000000000000000010.crc', size=6569, modificationTime=1679537211000),\n FileInfo(path='dbfs:/tmp/deltaPath2/_delta_log/00000000000000000010.json', name='00000000000000000010.json', size=952, modificationTime=1679537209000),\n FileInfo(path='dbfs:/tmp/deltaPath2/_delta_log/00000000000000000011.crc', name='00000000000000000011.crc', size=6997, modificationTime=1679537263000),\n FileInfo(path='dbfs:/tmp/deltaPath2/_delta_log/00000000000000000011.json', name='00000000000000000011.json', size=953, modificationTime=1679537260000),\n FileInfo(path='dbfs:/tmp/deltaPath2/_delta_log/00000000000000000012.crc', name='00000000000000000012.crc', size=7425, modificationTime=1679537265000),\n FileInfo(path='dbfs:/tmp/deltaPath2/_delta_log/00000000000000000012.json', name='00000000000000000012.json', size=953, modificationTime=1679537263000),\n FileInfo(path='dbfs:/tmp/deltaPath2/_delta_log/00000000000000000013.crc', name='00000000000000000013.crc', size=7853, modificationTime=1679537268000),\n FileInfo(path='dbfs:/tmp/deltaPath2/_delta_log/00000000000000000013.json', name='00000000000000000013.json', size=953, modificationTime=1679537266000),\n FileInfo(path='dbfs:/tmp/deltaPath2/_delta_log/00000000000000000014.crc', name='00000000000000000014.crc', size=8281, modificationTime=1679537271000),\n FileInfo(path='dbfs:/tmp/deltaPath2/_delta_log/00000000000000000014.json', name='00000000000000000014.json', size=953, modificationTime=1679537268000),\n FileInfo(path='dbfs:/tmp/deltaPath2/_delta_log/00000000000000000015.crc', name='00000000000000000015.crc', size=8711, modificationTime=1679537274000),\n FileInfo(path='dbfs:/tmp/deltaPath2/_delta_log/00000000000000000015.json', name='00000000000000000015.json', size=953, modificationTime=1679537272000),\n FileInfo(path='dbfs:/tmp/deltaPath2/_delta_log/00000000000000000016.crc', name='00000000000000000016.crc', size=9139, modificationTime=1679537277000),\n FileInfo(path='dbfs:/tmp/deltaPath2/_delta_log/00000000000000000016.json', name='00000000000000000016.json', size=953, modificationTime=1679537275000),\n FileInfo(path='dbfs:/tmp/deltaPath2/_delta_log/00000000000000000017.crc', name='00000000000000000017.crc', size=9567, modificationTime=1679537279000),\n FileInfo(path='dbfs:/tmp/deltaPath2/_delta_log/00000000000000000017.json', name='00000000000000000017.json', size=953, modificationTime=1679537277000),\n FileInfo(path='dbfs:/tmp/deltaPath2/_delta_log/00000000000000000018.crc', name='00000000000000000018.crc', size=9995, modificationTime=1679537283000),\n FileInfo(path='dbfs:/tmp/deltaPath2/_delta_log/00000000000000000018.json', name='00000000000000000018.json', size=953, modificationTime=1679537280000),\n FileInfo(path='dbfs:/tmp/deltaPath2/_delta_log/00000000000000000019.crc', name='00000000000000000019.crc', size=10423, modificationTime=1679537286000),\n FileInfo(path='dbfs:/tmp/deltaPath2/_delta_log/00000000000000000019.json', name='00000000000000000019.json', size=953, modificationTime=1679537283000),\n FileInfo(path='dbfs:/tmp/deltaPath2/_delta_log/00000000000000000020.checkpoint.parquet', name='00000000000000000020.checkpoint.parquet', size=16006, modificationTime=1679537289000),\n FileInfo(path='dbfs:/tmp/deltaPath2/_delta_log/00000000000000000020.crc', name='00000000000000000020.crc', size=10851, modificationTime=1679537288000),\n FileInfo(path='dbfs:/tmp/deltaPath2/_delta_log/00000000000000000020.json', name='00000000000000000020.json', size=953, modificationTime=1679537286000),\n FileInfo(path='dbfs:/tmp/deltaPath2/_delta_log/00000000000000000021.crc', name='00000000000000000021.crc', size=11279, modificationTime=1679537294000),\n FileInfo(path='dbfs:/tmp/deltaPath2/_delta_log/00000000000000000021.json', name='00000000000000000021.json', size=953, modificationTime=1679537291000),\n FileInfo(path='dbfs:/tmp/deltaPath2/_delta_log/_last_checkpoint', name='_last_checkpoint', size=4295, modificationTime=1679537289000)]"
     ]
    }
   ],
   "source": [
    "dbutils.fs.ls(\"/tmp/deltaPath2/_delta_log\")"
   ]
  },
  {
   "cell_type": "code",
   "execution_count": 0,
   "metadata": {
    "application/vnd.databricks.v1+cell": {
     "cellMetadata": {},
     "inputWidgets": {},
     "nuid": "5b824593-af2f-4570-a821-165296a7283d",
     "showTitle": false,
     "title": ""
    }
   },
   "outputs": [
    {
     "output_type": "stream",
     "name": "stdout",
     "output_type": "stream",
     "text": [
      "+----+--------------------+------+--------------------+------------------+\n| txn|                 add|remove|            metaData|          protocol|\n+----+--------------------+------+--------------------+------------------+\n|null|                null|  null|                null|{1, 2, null, null}|\n|null|                null|  null|{55ec790c-3dca-40...|              null|\n|null|{part-00000-00c8c...|  null|                null|              null|\n|null|{part-00000-09bdd...|  null|                null|              null|\n|null|{part-00000-11676...|  null|                null|              null|\n|null|{part-00000-162e1...|  null|                null|              null|\n|null|{part-00000-23031...|  null|                null|              null|\n|null|{part-00000-2aff5...|  null|                null|              null|\n|null|{part-00000-36512...|  null|                null|              null|\n|null|{part-00000-3b89f...|  null|                null|              null|\n|null|{part-00000-4c702...|  null|                null|              null|\n|null|{part-00000-4cdc0...|  null|                null|              null|\n|null|{part-00000-50aa5...|  null|                null|              null|\n|null|{part-00000-53830...|  null|                null|              null|\n|null|{part-00000-829b7...|  null|                null|              null|\n|null|{part-00000-9a2d7...|  null|                null|              null|\n|null|{part-00000-a34ab...|  null|                null|              null|\n|null|{part-00000-a9238...|  null|                null|              null|\n|null|{part-00000-b54f7...|  null|                null|              null|\n|null|{part-00000-bb2b5...|  null|                null|              null|\n|null|{part-00000-c35bf...|  null|                null|              null|\n|null|{part-00000-ca49c...|  null|                null|              null|\n|null|{part-00000-d8cb3...|  null|                null|              null|\n+----+--------------------+------+--------------------+------------------+\n\n"
     ]
    }
   ],
   "source": [
    "spark.read.format(\"parquet\").load(\"/tmp/deltaPath2/_delta_log/00000000000000000020.checkpoint.parquet\").show(40)"
   ]
  },
  {
   "cell_type": "code",
   "execution_count": 0,
   "metadata": {
    "application/vnd.databricks.v1+cell": {
     "cellMetadata": {},
     "inputWidgets": {},
     "nuid": "d81ecab9-ab79-4114-8165-da4a0174e1a7",
     "showTitle": false,
     "title": ""
    }
   },
   "outputs": [],
   "source": []
  }
 ],
 "metadata": {
  "application/vnd.databricks.v1+notebook": {
   "dashboards": [],
   "language": "python",
   "notebookMetadata": {
    "pythonIndentUnit": 4
   },
   "notebookName": "Practical_5b",
   "widgets": {}
  }
 },
 "nbformat": 4,
 "nbformat_minor": 0
}
