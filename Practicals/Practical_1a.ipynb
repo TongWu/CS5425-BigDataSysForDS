{
 "cells": [
  {
   "cell_type": "markdown",
   "metadata": {
    "application/vnd.databricks.v1+cell": {
     "cellMetadata": {},
     "inputWidgets": {},
     "nuid": "7c0459ac-c437-450c-afe7-97f01e7dee93",
     "showTitle": false,
     "title": ""
    }
   },
   "source": [
    "# Practical 1a: Saprk Basic I\n",
    "\n",
    "This notebook is the end-to-end example, showing how to use DataFrame and Spark SQL for common data analytics patterns and operations on a [San Francisco Fire Department Calls ](https://data.sfgov.org/Public-Safety/Fire-Department-Calls-for-Service/nuek-vuh3) dataset.\n",
    "\n",
    "Source: https://github.com/databricks/LearningSparkV2"
   ]
  },
  {
   "cell_type": "markdown",
   "metadata": {
    "application/vnd.databricks.v1+cell": {
     "cellMetadata": {},
     "inputWidgets": {},
     "nuid": "f5fd209d-2ce0-4cfe-8dd8-a4a87cc530b2",
     "showTitle": false,
     "title": ""
    }
   },
   "source": [
    "Inspect location where the SF Fire Department Fire calls data set is stored in the public dataset S3 bucket"
   ]
  },
  {
   "cell_type": "code",
   "execution_count": 0,
   "metadata": {
    "application/vnd.databricks.v1+cell": {
     "cellMetadata": {},
     "inputWidgets": {},
     "nuid": "e84fc25c-f5e1-436a-aa22-6305bd6d543c",
     "showTitle": false,
     "title": ""
    }
   },
   "outputs": [
    {
     "output_type": "display_data",
     "data": {
      "text/html": [
       "<style scoped>\n",
       "  .table-result-container {\n",
       "    max-height: 300px;\n",
       "    overflow: auto;\n",
       "  }\n",
       "  table, th, td {\n",
       "    border: 1px solid black;\n",
       "    border-collapse: collapse;\n",
       "  }\n",
       "  th, td {\n",
       "    padding: 5px;\n",
       "  }\n",
       "  th {\n",
       "    text-align: left;\n",
       "  }\n",
       "</style><div class='table-result-container'><table class='table-result'><thead style='background-color: white'><tr><th>path</th><th>name</th><th>size</th><th>modificationTime</th></tr></thead><tbody><tr><td>dbfs:/databricks-datasets/learning-spark-v2/sf-fire/sf-fire-calls.csv</td><td>sf-fire-calls.csv</td><td>1137925359</td><td>1576280979000</td></tr></tbody></table></div>"
      ]
     },
     "metadata": {
      "application/vnd.databricks.v1+output": {
       "addedWidgets": {},
       "aggData": [],
       "aggError": "",
       "aggOverflow": false,
       "aggSchema": [],
       "aggSeriesLimitReached": false,
       "aggType": "",
       "arguments": {},
       "columnCustomDisplayInfos": {},
       "data": [
        [
         "dbfs:/databricks-datasets/learning-spark-v2/sf-fire/sf-fire-calls.csv",
         "sf-fire-calls.csv",
         1137925359,
         1576280979000
        ]
       ],
       "datasetInfos": [],
       "dbfsResultPath": null,
       "isJsonSchema": true,
       "metadata": {
        "isDbfsCommandResult": false
       },
       "overflow": false,
       "plotOptions": {
        "customPlotOptions": {},
        "displayType": "table",
        "pivotAggregation": null,
        "pivotColumns": null,
        "xColumns": null,
        "yColumns": null
       },
       "removedWidgets": [],
       "schema": [
        {
         "metadata": "{}",
         "name": "path",
         "type": "\"string\""
        },
        {
         "metadata": "{}",
         "name": "name",
         "type": "\"string\""
        },
        {
         "metadata": "{}",
         "name": "size",
         "type": "\"long\""
        },
        {
         "metadata": "{}",
         "name": "modificationTime",
         "type": "\"long\""
        }
       ],
       "type": "table"
      }
     },
     "output_type": "display_data"
    }
   ],
   "source": [
    "%fs ls /databricks-datasets/learning-spark-v2/sf-fire/sf-fire-calls.csv"
   ]
  },
  {
   "cell_type": "markdown",
   "metadata": {
    "application/vnd.databricks.v1+cell": {
     "cellMetadata": {},
     "inputWidgets": {},
     "nuid": "d95bd019-dbde-4278-965d-d41ccfcec553",
     "showTitle": false,
     "title": ""
    }
   },
   "source": [
    "Define the location of the public dataset on the S3 bucket"
   ]
  },
  {
   "cell_type": "code",
   "execution_count": 0,
   "metadata": {
    "application/vnd.databricks.v1+cell": {
     "cellMetadata": {},
     "inputWidgets": {},
     "nuid": "1f4474c9-801b-4d93-ac49-d17a5d18a78c",
     "showTitle": false,
     "title": ""
    }
   },
   "outputs": [],
   "source": [
    "from pyspark.sql.types import *\n",
    "from pyspark.sql.functions import *\n",
    "\n",
    "sf_fire_file = \"/databricks-datasets/learning-spark-v2/sf-fire/sf-fire-calls.csv\""
   ]
  },
  {
   "cell_type": "markdown",
   "metadata": {
    "application/vnd.databricks.v1+cell": {
     "cellMetadata": {},
     "inputWidgets": {},
     "nuid": "31d657d1-8ecd-4234-910f-3f100d714d61",
     "showTitle": false,
     "title": ""
    }
   },
   "source": [
    "Inspect the data looks like before defining a schema"
   ]
  },
  {
   "cell_type": "code",
   "execution_count": 0,
   "metadata": {
    "application/vnd.databricks.v1+cell": {
     "cellMetadata": {},
     "inputWidgets": {},
     "nuid": "874919e9-8a76-45b2-85ab-d4f1b240f94d",
     "showTitle": false,
     "title": ""
    }
   },
   "outputs": [
    {
     "output_type": "display_data",
     "data": {
      "text/html": [
       "<style scoped>\n",
       "  .ansiout {\n",
       "    display: block;\n",
       "    unicode-bidi: embed;\n",
       "    white-space: pre-wrap;\n",
       "    word-wrap: break-word;\n",
       "    word-break: break-all;\n",
       "    font-family: \"Source Code Pro\", \"Menlo\", monospace;;\n",
       "    font-size: 13px;\n",
       "    color: #555;\n",
       "    margin-left: 4px;\n",
       "    line-height: 19px;\n",
       "  }\n",
       "</style>\n",
       "<div class=\"ansiout\">[Truncated to first 65536 bytes]\n",
       "Call Number,Unit ID,Incident Number,CallType,Call Date,Watch Date,Call Final Disposition,Available DtTm,Address,City,Zipcode of Incident,Battalion,Station Area,Box,OrigPriority,Priority,Final Priority,ALS Unit,Call Type Group,NumAlarms,UnitType,Unit sequence in call dispatch,Fire Prevention District,Supervisor District,Neighborhood,Location,RowID,Delay\n",
       "20110014,M29,2003234,Medical Incident,01/11/2002,01/10/2002,Other,01/11/2002 01:58:43 AM,10TH ST/MARKET ST,SF,94103,B02,36,2338,1,1,2,true,&quot;&quot;,1,MEDIC,1,2,6,Tenderloin,&quot;(37.7765408927183, -122.417501464907)&quot;,020110014-M29,5.233333333333333\n",
       "20110015,M08,2003233,Medical Incident,01/11/2002,01/10/2002,Other,01/11/2002 02:10:17 AM,300 Block of 5TH ST,SF,94107,B03,08,2243,1,1,2,true,&quot;&quot;,1,MEDIC,1,3,6,South of Market,&quot;(37.7792841462441, -122.402061300134)&quot;,020110015-M08,3.0833333333333335\n",
       "20110016,B02,2003235,Structure Fire,01/11/2002,01/10/2002,Other,01/11/2002 01:47:00 AM,2000 Block of CALIFORNIA ST,SF,94109,B04,38,3362,3,3,3,false,&quot;&quot;,1,CHIEF,6,4,5,Pacific Heights,&quot;(37.7895840679362, -122.428071912459)&quot;,020110016-B02,3.05\n",
       "20110016,B04,2003235,Structure Fire,01/11/2002,01/10/2002,Other,01/11/2002 01:51:54 AM,2000 Block of CALIFORNIA ST,SF,94109,B04,38,3362,3,3,3,false,&quot;&quot;,1,CHIEF,3,4,5,Pacific Heights,&quot;(37.7895840679362, -122.428071912459)&quot;,020110016-B04,2.316666666666667\n",
       "20110016,D2,2003235,Structure Fire,01/11/2002,01/10/2002,Other,01/11/2002 01:47:00 AM,2000 Block of CALIFORNIA ST,SF,94109,B04,38,3362,3,3,3,false,&quot;&quot;,1,CHIEF,4,4,5,Pacific Heights,&quot;(37.7895840679362, -122.428071912459)&quot;,020110016-D2,3.0166666666666666\n",
       "20110016,E03,2003235,Structure Fire,01/11/2002,01/10/2002,Other,01/11/2002 01:47:00 AM,2000 Block of CALIFORNIA ST,SF,94109,B04,38,3362,3,3,3,false,&quot;&quot;,1,ENGINE,7,4,5,Pacific Heights,&quot;(37.7895840679362, -122.428071912459)&quot;,020110016-E03,2.683333333333333\n",
       "20110016,E38,2003235,Structure Fire,01/11/2002,01/10/2002,Other,01/11/2002 01:51:17 AM,2000 Block of CALIFORNIA ST,SF,94109,B04,38,3362,3,3,3,false,&quot;&quot;,1,ENGINE,1,4,5,Pacific Heights,&quot;(37.7895840679362, -122.428071912459)&quot;,020110016-E38,2.1\n",
       "20110016,E41,2003235,Structure Fire,01/11/2002,01/10/2002,Other,01/11/2002 01:47:00 AM,2000 Block of CALIFORNIA ST,SF,94109,B04,38,3362,3,3,3,false,&quot;&quot;,1,ENGINE,8,4,5,Pacific Heights,&quot;(37.7895840679362, -122.428071912459)&quot;,020110016-E41,2.716666666666667\n",
       "20110016,M03,2003235,Structure Fire,01/11/2002,01/10/2002,Other,01/11/2002 01:46:38 AM,2000 Block of CALIFORNIA ST,SF,94109,B04,38,3362,3,3,3,true,&quot;&quot;,1,MEDIC,10,4,5,Pacific Heights,&quot;(37.7895840679362, -122.428071912459)&quot;,020110016-M03,2.7666666666666666\n",
       "20110016,RS1,2003235,Structure Fire,01/11/2002,01/10/2002,Other,01/11/2002 01:46:57 AM,2000 Block of CALIFORNIA ST,SF,94109,B04,38,3362,3,3,3,false,&quot;&quot;,1,RESCUE SQUAD,9,4,5,Pacific Heights,&quot;(37.7895840679362, -122.428071912459)&quot;,020110016-RS1,3.2666666666666666\n",
       "20110016,T03,2003235,Structure Fire,01/11/2002,01/10/2002,Other,01/11/2002 01:47:00 AM,2000 Block of CALIFORNIA ST,SF,94109,B04,38,3362,3,3,3,false,&quot;&quot;,1,TRUCK,5,4,5,Pacific Heights,&quot;(37.7895840679362, -122.428071912459)&quot;,020110016-T03,3.2333333333333334\n",
       "20110016,T13,2003235,Structure Fire,01/11/2002,01/10/2002,Other,01/11/2002 01:51:44 AM,2000 Block of CALIFORNIA ST,SF,94109,B04,38,3362,3,3,3,false,&quot;&quot;,1,TRUCK,2,4,5,Pacific Heights,&quot;(37.7895840679362, -122.428071912459)&quot;,020110016-T13,2.95\n",
       "20110017,M13,2003236,Medical Incident,01/11/2002,01/10/2002,Other,01/11/2002 02:27:14 AM,700 Block of FOLSOM ST,SF,94107,B03,01,2176,1,1,2,true,&quot;&quot;,1,MEDIC,1,3,6,South of Market,&quot;(37.7831757914875, -122.399603541822)&quot;,020110017-M13,6.933333333333334\n",
       "20110019,M36,2003238,Medical Incident,01/11/2002,01/10/2002,Other,01/11/2002 02:28:30 AM,9TH ST/LARKIN ST,SF,94103,B02,36,2337,1,1,2,true,&quot;&quot;,1,MEDIC,1,2,6,South of Market,&quot;(37.7774938436091, -122.41629170277)&quot;,020110019-M36,6.116666666666666\n",
       "20110020,E38,2003239,Outside Fire,01/11/2002,01/10/2002,Other,01/11/2002 02:15:33 AM,3000 Block of WEBSTER ST,SF,94123,B04,16,3462,3,3,3,false,&quot;&quot;,1,ENGINE,1,4,2,Marina,&quot;(37.7984543611006, -122.434151287383)&quot;,020110020-E38,1.4833333333333334\n",
       "20110021,E03,2003240,Medical Incident,01/11/2002,01/10/2002,Other,01/11/2002 02:17:23 AM,300 Block of ELLIS ST,SF,94102,B03,03,1461,3,3,3,false,&quot;&quot;,1,ENGINE,1,3,6,Tenderloin,&quot;(37.7850246606887, -122.411971890566)&quot;,020110021-E03,2.933333333333333\n",
       "20110021,M03,2003240,Medical Incident,01/11/2002,01/10/2002,Other,01/11/2002 02:21:00 AM,300 Block of ELLIS ST,SF,94102,B03,03,1461,3,3,3,true,&quot;&quot;,1,MEDIC,2,3,6,Tenderloin,&quot;(37.7850246606887, -122.411971890566)&quot;,020110021-M03,4.416666666666667\n",
       "20110022,E42,2003241,Medical Incident,01/11/2002,01/10/2002,Other,01/11/2002 02:21:10 AM,0 Block of SILVERVIEW DR,SF,94124,B10,42,6495,3,3,3,true,&quot;&quot;,1,ENGINE,2,10,10,Bayview Hunters Point,&quot;(37.7337623673897, -122.396113802632)&quot;,020110022-E42,4.833333333333333\n",
       "20110022,M17,2003241,Medical Incident,01/11/2002,01/10/2002,Other,01/11/2002 03:01:18 AM,0 Block of SILVERVIEW DR,SF,94124,B10,42,6495,3,3,3,true,&quot;&quot;,1,MEDIC,1,10,10,Bayview Hunters Point,&quot;(37.7337623673897, -122.396113802632)&quot;,020110022-M17,4.7\n",
       "20110023,E03,2003242,Medical Incident,01/11/2002,01/10/2002,Other,01/11/2002 02:30:38 AM,MARKET ST/MCALLISTER ST,SF,94102,B03,01,1455,3,3,3,false,&quot;&quot;,1,ENGINE,1,3,6,Tenderloin,&quot;(37.7811772186856, -122.411699931232)&quot;,020110023-E03,3.05\n",
       "20110023,M41,2003242,Medical Incident,01/11/2002,01/10/2002,Other,01/11/2002 02:39:50 AM,MARKET ST/MCALLISTER ST,SF,94102,B03,01,1455,3,3,3,true,&quot;&quot;,1,MEDIC,2,3,6,Tenderloin,&quot;(37.7811772186856, -122.411699931232)&quot;,020110023-M41,2.433333333333333\n",
       "20110024,E29,2003243,Medical Incident,01/11/2002,01/10/2002,Other,01/11/2002 02:28:34 AM,400 Block of KANSAS ST,SF,94107,B02,29,2422,3,3,3,false,&quot;&quot;,1,ENGINE,2,2,10,Potrero Hill,&quot;(37.7640801201771, -122.403538779847)&quot;,020110024-E29,3.933333333333333\n",
       "20110024,M29,2003243,Medical Incident,01/11/2002,01/10/2002,Other,01/11/2002 02:48:59 AM,400 Block of KANSAS ST,SF,94107,B02,29,2422,3,3,3,true,&quot;&quot;,1,MEDIC,1,2,10,Potrero Hill,&quot;(37.7640801201771, -122.403538779847)&quot;,020110024-M29,3.35\n",
       "20110025,E07,2003244,Medical Incident,01/11/2002,01/10/2002,Other,01/11/2002 02:39:58 AM,800 Block of VALENCIA ST,SF,94110,B06,07,5434,3,3,3,false,&quot;&quot;,1,ENGINE,2,6,9,Mission,&quot;(37.7589396460618, -122.421244589279)&quot;,020110025-E07,3.8666666666666667\n",
       "20110025,M07,2003244,Medical Incident,01/11/2002,01/10/2002,Other,01/11/2002 02:40:52 AM,800 Block of VALENCIA ST,SF,94110,B06,07,5434,3,3,3,true,&quot;&quot;,1,MEDIC,1,6,9,Mission,&quot;(37.7589396460618, -122.421244589279)&quot;,020110025-M07,4.716666666666667\n",
       "20110026,B03,2003245,Alarms,01/11/2002,01/10/2002,Other,01/11/2002 03:15:05 AM,2500 Block of MARIPOSA ST,SF,94110,B02,29,5243,3,3,3,false,&quot;&quot;,1,CHIEF,3,2,10,Mission,&quot;(37.7631695375953, -122.408796075221)&quot;,020110026-B03,1.85\n",
       "20110026,E29,2003245,Alarms,01/11/2002,01/10/2002,Other,01/11/2002 03:18:13 AM,2500 Block of MARIPOSA ST,SF,94110,B02,29,5243,3,3,3,false,&quot;&quot;,1,ENGINE,1,2,10,Mission,&quot;(37.7631695375953, -122.408796075221)&quot;,020110026-E29,3.0833333333333335\n",
       "20110026,T07,2003245,Alarms,01/11/2002,01/10/2002,Other,01/11/2002 03:01:46 AM,2500 Block of MARIPOSA ST,SF,94110,B02,29,5243,3,3,3,false,&quot;&quot;,1,TRUCK,2,2,10,Mission,&quot;(37.7631695375953, -122.408796075221)&quot;,020110026-T07,3.25\n",
       "20110027,E28,2003246,Medical Incident,01/11/2002,01/10/2002,Other,01/11/2002 03:18:05 AM,500 Block of FILBERT ST,SF,94133,B01,28,1265,3,3,3,false,&quot;&quot;,1,ENGINE,1,1,3,North Beach,&quot;(37.8013950796063, -122.408729618435)&quot;,020110027-E28,3.6666666666666665\n",
       "20110027,M28,2003246,Medical Incident,01/11/2002,01/10/2002,Other,01/11/2002 04:09:14 AM,500 Block of FILBERT ST,SF,94133,B01,28,1265,3,3,3,true,&quot;&quot;,1,MEDIC,2,1,3,North Beach,&quot;(37.8013950796063, -122.408729618435)&quot;,020110027-M28,3.0833333333333335\n",
       "20110028,E21,2003247,Vehicle Fire,01/11/2002,01/10/2002,Other,01/11/2002 03:55:07 AM,1000 Block of OAK ST,SF,94117,B05,21,4141,3,3,3,false,&quot;&quot;,1,ENGINE,1,5,5,Hayes Valley,&quot;(37.7732938420762, -122.436598149618)&quot;,020110028-E21,1.8833333333333333\n",
       "20110029,E08,2003248,Medical Incident,01/11/2002,01/10/2002,Other,01/11/2002 03:28:28 AM,800 Block of BRYANT ST,SF,94103,B03,08,2255,3,3,3,false,&quot;&quot;,1,ENGINE,2,3,6,South of Market,&quot;(37.775420706711, -122.403404791479)&quot;,020110029-E08,3.4\n",
       "20110029,M08,2003248,Medical Incident,01/11/2002,01/10/2002,Other,01/11/2002 04:02:46 AM,800 Block of BRYANT ST,SF,94103,B03,08,2255,3,3,3,true,&quot;&quot;,1,MEDIC,1,3,6,South of Market,&quot;(37.775420706711, -122.403404791479)&quot;,020110029-M08,2.45\n",
       "20110031,E36,2003249,Outside Fire,01/11/2002,01/10/2002,Other,01/11/2002 03:56:54 AM,1600 Block of MISSION ST,SF,94103,B02,36,5116,3,3,3,false,&quot;&quot;,1,ENGINE,1,2,6,Mission,&quot;(37.7720141510333, -122.419088601412)&quot;,020110031-E36,2.6166666666666667\n",
       "20110032,E11,2003250,Vehicle Fire,01/11/2002,01/10/2002,Other,01/11/2002 04:16:46 AM,APPLETON AV/MISSION ST,SF,94110,B06,32,5626,3,3,3,false,&quot;&quot;,1,ENGINE,1,6,9,Bernal Heights,&quot;(37.7388432849018, -122.423948785199)&quot;,020110032-E11,1.5\n",
       "20110033,E03,2003251,Outside Fire,01/11/2002,01/10/2002,Other,01/11/2002 04:13:10 AM,GOLDEN GATE AV/LARKIN ST,SF,94102,B02,03,1644,3,3,3,false,&quot;&quot;,1,ENGINE,1,2,6,Tenderloin,&quot;(37.7814474940022, -122.417145613411)&quot;,020110033-E03,2.283333333333333\n",
       "20110034,E35,2003252,Outside Fire,01/11/2002,01/10/2002,Other,01/11/2002 04:23:13 AM,BEALE ST/HOWARD ST,SF,94105,B03,35,2124,3,3,3,false,&quot;&quot;,1,ENGINE,1,3,6,Financial District/South Beach,&quot;(37.7899262298106, -122.394276229254)&quot;,020110034-E35,2.4\n",
       "20110035,E42,2003253,Medical Incident,01/11/2002,01/10/2002,Other,01/11/2002 04:31:08 AM,1200 Block of CORTLAND AVE,SF,94110,B10,32,5725,3,3,3,true,&quot;&quot;,1,ENGINE,1,10,9,Bernal Heights,&quot;(37.7397966983548, -122.411715561027)&quot;,020110035-E42,2.7\n",
       "20110035,M32,2003253,Medical Incident,01/11/2002,01/10/2002,Other,01/11/2002 04:59:27 AM,1200 Block of CORTLAND AVE,SF,94110,B10,32,5725,3,3,3,true,&quot;&quot;,1,MEDIC,2,10,9,Bernal Heights,&quot;(37.7397966983548, -122.411715561027)&quot;,020110035-M32,4.483333333333333\n",
       "20110036,E42,2003254,Smoke Investigation (Outside),01/11/2002,01/10/2002,Other,01/11/2002 05:12:18 AM,CALL BOX: CAMBRIDGE ST/STONEYBROOK AV,SF,94112,B09,32,5681,3,3,3,true,&quot;&quot;,1,ENGINE,1,9,11,Excelsior,&quot;(37.7310405925555, -122.421708125046)&quot;,020110036-E42,2.216666666666667\n",
       "20110037,E25,2003255,Outside Fire,01/11/2002,01/10/2002,Other,01/11/2002 05:47:57 AM,EVANS AV/TOLAND ST,SF,94124,B10,09,6422,3,3,3,false,&quot;&quot;,1,ENGINE,1,10,10,Bayview Hunters Point,&quot;(37.7472623482525, -122.396008614627)&quot;,020110037-E25,2.1333333333333333\n",
       "20110038,B05,2003256,Alarms,01/11/2002,01/10/2002,Other,01/11/2002 05:28:08 AM,400 Block of PARNASSUS AVE,SF,94131,B05,12,5155,3,3,3,false,&quot;&quot;,1,CHIEF,1,5,7,Inner Sunset,&quot;(37.7633165969878, -122.458205988587)&quot;,020110038-B05,3.5833333333333335\n",
       "20110038,E12,2003256,Alarms,01/11/2002,01/10/2002,Other,01/11/2002 05:37:27 AM,400 Block of PARNASSUS AVE,SF,94131,B05,12,5155,3,3,3,false,&quot;&quot;,1,ENGINE,2,5,7,Inner Sunset,&quot;(37.7633165969878, -122.458205988587)&quot;,020110038-E12,3.8333333333333335\n",
       "20110038,T12,2003256,Alarms,01/11/2002,01/10/2002,Other,01/11/2002 05:29:36 AM,400 Block of PARNASSUS AVE,SF,94131,B05,12,5155,3,3,3,false,&quot;&quot;,1,TRUCK,3,5,7,Inner Sunset,&quot;(37.7633165969878, -122.458205988587)&quot;,020110038-T12,4.666666666666667\n",
       "20110039,M41,2003257,Medical Incident,01/11/2002,01/10/2002,Other,01/11/2002 06:04:36 AM,400 Block of OFARRELL ST,SF,94102,B01,01,1452,2,2,2,true,&quot;&quot;,1,MEDIC,1,3,6,Tenderloin,&quot;(37.7858903312278, -122.411725719434)&quot;,020110039-M41,7.85\n",
       "20110042,E16,2003258,Medical Incident,01/11/2002,01/10/2002,Other,01/11/2002 06:08:57 AM,BAY ST/OCTAVIA ST,SF,94123,B04,16,3342,3,3,3,false,&quot;&quot;,1,ENGINE,1,4,2,Marina,&quot;(37.8035178181736, -122.430044997482)&quot;,020110042-E16,2.783333333333333\n",
       "20110042,M38,2003258,Medical Incident,01/11/2002,01/10/2002,Other,01/11/2002 06:05:22 AM,BAY ST/OCTAVIA ST,SF,94123,B04,16,3342,3,3,3,true,&quot;&quot;,1,MEDIC,2,4,2,Marina,&quot;(37.8035178181736, -122.430044997482)&quot;,020110042-M38,3.5166666666666666\n",
       "20110043,B04,2003259,Alarms,01/11/2002,01/10/2002,Other,01/11/2002 06:01:58 AM,1400 Block of SUTTER ST,SF,94109,B04,03,3223,3,3,3,false,&quot;&quot;,1,CHIEF,2,4,2,Western Addition,&quot;(37.7872890372638, -122.424236212664)&quot;,020110043-B04,3.4833333333333334\n",
       "20110043,E03,2003259,Alarms,01/11/2002,01/10/2002,Other,01/11/2002 06:09:24 AM,1400 Block of SUTTER ST,SF,94109,B04,03,3223,3,3,3,false,&quot;&quot;,1,ENGINE,1,4,2,Western Addition,&quot;(37.7872890372638, -122.424236212664)&quot;,020110043-E03,2.55\n",
       "20110043,T03,2003259,Alarms,01/11/2002,01/10/2002,Other,01/11/2002 06:01:58 AM,1400 Block of SUTTER ST,SF,94109,B04,03,3223,3,3,3,false,&quot;&quot;,1,TRUCK,3,4,2,Western Addition,&quot;(37.7872890372638, -122.424236212664)&quot;,020110043-T03,3.3833333333333333\n",
       "20110044,E01,2003260,Medical Incident,01/11/2002,01/10/2002,Other,01/11/2002 06:11:49 AM,0 Block of TURK ST,SF,94102,B03,01,1365,3,3,3,false,&quot;&quot;,1,ENGINE,2,3,6,Tenderloin,&quot;(37.7833862379382, -122.409853729941)&quot;,020110044-E01,2.4833333333333334\n",
       "20110044,M01,2003260,Medical Incident,01/11/2002,01/10/2002,Other,01/11/2002 06:40:32 AM,0 Block of TURK ST,SF,94102,B03,01,1365,3,3,3,true,&quot;&quot;,1,MEDIC,1,3,6,Tenderloin,&quot;(37.7833862379382, -122.409853729941)&quot;,020110044-M01,2.1333333333333333\n",
       "20110045,E42,2003261,Medical Incident,01/11/2002,01/10/2002,Other,01/11/2002 06:29:09 AM,1300 Block of SILVER AVE,SF,94134,B10,42,6356,3,3,3,true,&quot;&quot;,1,ENGINE,1,9,9,Portola,&quot;(37.7313928327632, -122.409221235075)&quot;,020110045-E42,3.7333333333333334\n",
       "20110045,M17,2003261,Medical Incident,01/11/2002,01/10/2002,Other,01/11/2002 07:33:17 AM,1300 Block of SILVER AVE,SF,94134,B10,42,6356,3,3,3,true,&quot;&quot;,1,MEDIC,2,9,9,Portola,&quot;(37.7313928327632, -122.409221235075)&quot;,020110045-M17,77.33333333333333\n",
       "20110045,M32,2003261,Medical Incident,01/11/2002,01/10/2002,Other,&quot;&quot;,1300 Block of SILVER AVE,SF,94134,B10,42,6356,3,3,3,true,&quot;&quot;,1,MEDIC,3,9,9,Portola,&quot;(37.7313928327632, -122.409221235075)&quot;,020110045-M32,3.5833333333333335\n",
       "20110046,E01,2003262,Medical Incident,01/11/2002,01/10/2002,Other,01/11/2002 06:30:51 AM,SANSOME ST/SUTTER ST,SF,94104,B01,13,1164,3,3,3,false,&quot;&quot;,1,ENGINE,1,1,3,Financial District/South Beach,&quot;(37.7902474029119, -122.400555263617)&quot;,020110046-E01,4.4\n",
       "20110046,M13,2003262,Medical Incident,01/11/2002,01/10/2002,Other,01/11/2002 07:16:55 AM,SANSOME ST/SUTTER ST,SF,94104,B01,13,1164,3,3,3,true,&quot;&quot;,1,MEDIC,2,1,3,Financial District/South Beach,&quot;(37.7902474029119, -122.400555263617)&quot;,020110046-M13,5.416666666666667\n",
       "20110050,B01,2003264,Alarms,01/11/2002,01/10/2002,Other,01/11/2002 06:32:14 AM,400 Block of SANSOME ST,SF,94111,B01,13,1166,3,3,3,false,&quot;&quot;,1,CHIEF,1,1,3,Chinatown,&quot;(37.7946419086629, -122.401377352704)&quot;,020110050-B01,2.283333333333333\n",
       "20110050,E02,2003264,Alarms,01/11/2002,01/10/2002,Other,01/11/2002 06:31:30 AM,400 Block of SANSOME ST,SF,94111,B01,13,1166,3,3,3,false,&quot;&quot;,1,ENGINE,2,1,3,Chinatown,&quot;(37.7946419086629, -122.401377352704)&quot;,020110050-E02,3.0833333333333335\n",
       "20110050,T02,2003264,Alarms,01/11/2002,01/10/2002,Other,01/11/2002 06:32:14 AM,400 Block of SANSOME ST,SF,94111,B01,13,1166,3,3,3,false,&quot;&quot;,1,TRUCK,3,1,3,Chinatown,&quot;(37.7946419086629, -122.401377352704)&quot;,020110050-T02,3.4833333333333334\n",
       "20110055,M43,2003265,Medical Incident,01/11/2002,01/10/2002,Other,01/11/2002 08:47:38 AM,700 Block of VISITACION AVE,SF,94134,B09,44,6256,1,1,2,true,&quot;&quot;,1,MEDIC,1,9,10,Visitacion Valley,&quot;(37.7111254719262, -122.406576155247)&quot;,020110055-M43,6.5\n",
       "20110056,E25,2003266,Outside Fire,01/11/2002,01/10/2002,Other,01/11/2002 07:10:41 AM,JENNINGS ST/REVERE AV,SF,94124,B10,17,6571,3,3,3,false,&quot;&quot;,1,ENGINE,1,10,10,Bayview Hunters Point,&quot;(37.7295427123834, -122.38641847796)&quot;,020110056-E25,4.283333333333333\n",
       "20110057,B01,2003267,Alarms,01/11/2002,01/10/2002,Other,01/11/2002 07:13:01 AM,2500 Block of VAN NESS AVE,SF,94109,B04,16,3146,3,3,3,false,&quot;&quot;,1,CHIEF,1,4,2,Russian Hill,&quot;(37.7990402347578, -122.42390548516)&quot;,020110057-B01,2.1666666666666665\n",
       "20110057,E16,2003267,Alarms,01/11/2002,01/10/2002,Other,01/11/2002 07:15:28 AM,2500 Block of VAN NESS AVE,SF,94109,B04,16,3146,3,3,3,false,&quot;&quot;,1,ENGINE,2,4,2,Russian Hill,&quot;(37.7990402347578, -122.42390548516)&quot;,020110057-E16,2.9833333333333334\n",
       "20110057,T16,2003267,Alarms,01/11/2002,01/10/2002,Other,01/11/2002 07:11:57 AM,2500 Block of VAN NESS AVE,SF,94109,B04,16,3146,3,3,3,false,&quot;&quot;,1,TRUCK,3,4,2,Russian Hill,&quot;(37.7990402347578, -122.42390548516)&quot;,020110057-T16,3.0166666666666666\n",
       "20110058,E22,2003268,Medical Incident,01/11/2002,01/10/2002,Other,01/11/2002 07:15:04 AM,2700 Block of LINCOLN WAY,SF,94122,B08,22,7512,3,3,3,false,&quot;&quot;,1,ENGINE,1,8,4,Sunset/Parkside,&quot;(37.7649109889038, -122.487428529752)&quot;,020110058-E22,6.85\n",
       "20110058,M18,2003268,Medical Incident,01/11/2002,01/10/2002,Other,01/11/2002 08:16:06 AM,2700 Block of LINCOLN WAY,SF,94122,B08,22,7512,3,3,3,true,&quot;&quot;,1,MEDIC,2,8,4,Sunset/Parkside,&quot;(37.7649109889038, -122.487428529752)&quot;,020110058-M18,6.85\n",
       "20110059,M36,2003269,Medical Incident,01/11/2002,01/10/2002,Other,01/11/2002 07:23:36 AM,16TH ST/SANCHEZ ST,SF,94114,B05,06,5231,3,3,3,true,&quot;&quot;,1,MEDIC,1,5,8,Castro/Upper Market,&quot;(37.7643735105108, -122.430882154098)&quot;,020110059-M36,3.2333333333333334\n",
       "20110060,E36,2003270,Medical Incident,01/11/2002,01/10/2002,Other,01/11/2002 07:24:53 AM,100 Block of VAN NESS AVE,SF,94102,B02,36,3166,3,3,3,false,&quot;&quot;,1,ENGINE,1,2,6,Tenderloin,&quot;(37.7768524577717, -122.419455012102)&quot;,020110060-E36,3.95\n",
       "20110060,M05,2003270,Medical Incident,01/11/2002,01/10/2002,Other,01/11/2002 08:00:10 AM,100 Block of VAN NESS AVE,SF,94102,B02,36,3166,3,3,3,true,&quot;&quot;,1,MEDIC,2,2,6,Tenderloin,&quot;(37.7768524577717, -122.419455012102)&quot;,020110060-M05,3.8333333333333335\n",
       "20110061,M01,2003271,Medical Incident,01/11/2002,01/10/2002,Other,01/11/2002 07:43:40 AM,0 Block of WASHBURN ST,SF,94103,B02,36,2336,2,2,2,true,&quot;&quot;,1,MEDIC,1,2,6,South of Market,&quot;(37.7752362231466, -122.414406294791)&quot;,020110061-M01,6.333333333333333\n",
       "20110062,M07,2003272,Medical Incident,01/11/2002,01/10/2002,Other,01/11/2002 08:22:39 AM,100 Block of DIAMOND ST,SF,94114,B05,06,5415,2,2,2,true,&quot;&quot;,1,MEDIC,1,6,8,Castro/Upper Market,&quot;(37.7599619000358, -122.437045577764)&quot;,020110062-M07,7.016666666666667\n",
       "20110063,B07,2003273,Alarms,01/11/2002,01/10/2002,Other,01/11/2002 07:25:06 AM,100 Block of JORDAN AVE,SF,94118,B07,10,4452,3,3,3,false,&quot;&quot;,1,CHIEF,2,7,2,Presidio Heights,&quot;(37.7826808102254, -122.456790301039)&quot;,020110063-B07,3.5166666666666666\n",
       "20110063,E10,2003273,Alarms,01/11/2002,01/10/2002,Other,01/11/2002 07:25:06 AM,100 Block of JORDAN AVE,SF,94118,B07,10,4452,3,3,3,false,&quot;&quot;,1,ENGINE,1,7,2,Presidio Heights,&quot;(37.7826808102254, -122.456790301039)&quot;,020110063-E10,3.966666666666667\n",
       "20110063,T10,2003273,Alarms,01/11/2002,01/10/2002,Other,01/11/2002 07:25:06 AM,100 Block of JORDAN AVE,SF,94118,B07,10,4452,3,3,3,false,&quot;&quot;,1,TRUCK,3,7,2,Presidio Heights,&quot;(37.7826808102254, -122.456790301039)&quot;,020110063-T10,2.9\n",
       "20110066,93,2003274,Medical Incident,01/11/2002,01/10/2002,Other,01/11/2002 08:21:08 AM,600 Block of VAN NESS AVE,SF,94102,B02,36,3164,2,2,2,false,&quot;&quot;,1,MEDIC,1,2,5,Western Addition,&quot;(37.78147394156, -122.42068958116)&quot;,020110066-93,9.1\n",
       "20110067,B03,2003275,Alarms,01/11/2002,01/10/2002,Other,01/11/2002 07:45:59 AM,300 Block of MAIN ST,SF,94105,B03,35,2117,3,3,3,false,&quot;&quot;,1,CHIEF,2,3,6,Financial District/South Beach,&quot;(37.7887132628625, -122.39113809089)&quot;,020110067-B03,2.2666666666666666\n",
       "20110067,E35,2003275,Alarms,01/11/2002,01/10/2002,Other,01/11/2002 07:45:59 AM,300 Block of MAIN ST,SF,94105,B03,35,2117,3,3,3,false,&quot;&quot;,1,ENGINE,1,3,6,Financial District/South Beach,&quot;(37.7887132628625, -122.39113809089)&quot;,020110067-E35,2.966666666666667\n",
       "20110067,T08,2003275,Alarms,01/11/2002,01/10/2002,Other,01/11/2002 07:45:39 AM,300 Block of MAIN ST,SF,94105,B03,35,2117,3,3,3,false,&quot;&quot;,1,TRUCK,3,3,6,Financial District/South Beach,&quot;(37.7887132628625, -122.39113809089)&quot;,020110067-T08,2.7666666666666666\n",
       "20110068,M17,2003276,Medical Incident,01/11/2002,01/10/2002,Other,01/11/2002 07:52:58 AM,1500 Block of QUESADA AVE,SF,94124,B10,17,6535,1,1,2,true,&quot;&quot;,1,MEDIC,1,10,10,Bayview Hunters Point,&quot;(37.7317161358979, -122.388705102774)&quot;,020110068-M17,5.983333333333333\n",
       "20110070,B07,2003277,Structure Fire,01/11/2002,01/10/2002,Other,01/11/2002 08:41:21 AM,1500 Block of 25TH AVE,SF,94122,B08,18,7454,3,3,3,false,&quot;&quot;,1,CHIEF,4,8,4,Sunset/Parkside,&quot;(37.7586192328271, -122.483157716813)&quot;,020110070-B07,2.283333333333333\n",
       "20110070,B08,2003277,Structure Fire,01/11/2002,01/10/2002,Other,01/11/2002 08:40:38 AM,1500 Block of 25TH AVE,SF,94122,B08,18,7454,3,3,3,false,&quot;&quot;,1,CHIEF,2,8,4,Sunset/Parkside,&quot;(37.7586192328271, -122.483157716813)&quot;,020110070-B08,3.033333333333333\n",
       "20110070,D2,2003277,Structure Fire,01/11/2002,01/10/2002,Other,01/11/2002 08:15:42 AM,1500 Block of 25TH AVE,SF,94122,B08,18,7454,3,3,3,false,&quot;&quot;,1,CHIEF,11,8,4,Sunset/Parkside,&quot;(37.7586192328271, -122.483157716813)&quot;,020110070-D2,5.416666666666667\n",
       "20110070,E20,2003277,Structure Fire,01/11/2002,01/10/2002,Other,01/11/2002 08:08:20 AM,1500 Block of 25TH AVE,SF,94122,B08,18,7454,3,3,3,false,&quot;&quot;,1,ENGINE,7,8,4,Sunset/Parkside,&quot;(37.7586192328271, -122.483157716813)&quot;,020110070-E20,5.083333333333333\n",
       "20110070,E22,2003277,Structure Fire,01/11/2002,01/10/2002,Other,01/11/2002 08:47:17 AM,1500 Block of 25TH AVE,SF,94122,B08,18,7454,3,3,3,false,&quot;&quot;,1,ENGINE,1,8,4,Sunset/Parkside,&quot;(37.7586192328271, -122.483157716813)&quot;,020110070-E22,1.8666666666666667\n",
       "20110070,E23,2003277,Structure Fire,01/11/2002,01/10/2002,Other,01/11/2002 08:58:04 AM,1500 Block of 25TH AVE,SF,94122,B08,18,7454,3,3,3,false,&quot;&quot;,1,ENGINE,10,8,4,Sunset/Parkside,&quot;(37.7586192328271, -122.483157716813)&quot;,020110070-E23,2.8666666666666667\n",
       "20110070,E40,2003277,Structure Fire,01/11/2002,01/10/2002,Other,01/11/2002 08:53:28 AM,1500 Block of 25TH AVE,SF,94122,B08,18,7454,3,3,3,true,&quot;&quot;,1,ENGINE,6,8,4,Sunset/Parkside,&quot;(37.7586192328271, -122.483157716813)&quot;,020110070-E40,1.7\n",
       "20110070,M12,2003277,Structure Fire,01/11/2002,01/10/2002,Other,01/11/2002 08:13:18 AM,1500 Block of 25TH AVE,SF,94122,B08,18,7454,3,3,3,true,&quot;&quot;,1,MEDIC,3,8,4,Sunset/Parkside,&quot;(37.7586192328271, -122.483157716813)&quot;,020110070-M12,1.8666666666666667\n",
       "20110070,RC2,2003277,Structure Fire,01/11/2002,01/10/2002,Other,01/11/2002 08:07:12 AM,1500 Block of 25TH AVE,SF,94122,B08,18,7454,3,3,3,true,&quot;&quot;,1,RESCUE CAPTAIN,9,8,4,Sunset/Parkside,&quot;(37.7586192328271, -122.483157716813)&quot;,020110070-RC2,8.183333333333334\n",
       "20110070,RS2,2003277,Structure Fire,01/11/2002,01/10/2002,Other,01/11/2002 08:05:50 AM,1500 Block of 25TH AVE,SF,94122,B08,18,7454,3,3,3,false,&quot;&quot;,1,RESCUE SQUAD,12,8,4,Sunset/Parkside,&quot;(37.7586192328271, -122.483157716813)&quot;,020110070-RS2,2.7333333333333334\n",
       "20110070,T12,2003277,Structure Fire,01/11/2002,01/10/2002,Other,01/11/2002 08:18:38 AM,1500 Block of 25TH AVE,SF,94122,B08,18,7454,3,3,3,false,&quot;&quot;,1,TRUCK,8,8,4,Sunset/Parkside,&quot;(37.7586192328271, -122.483157716813)&quot;,020110070-T12,5.983333333333333\n",
       "20110070,T18,2003277,Structure Fire,01/11/2002,01/10/2002,Other,01/11/2002 08:52:02 AM,1500 Block of 25TH AVE,SF,94122,B08,18,7454,3,3,3,false,&quot;&quot;,1,TRUCK,5,8,4,Sunset/Parkside,&quot;(37.7586192328271, -122.483157716813)&quot;,020110070-T18,2.6333333333333333\n",
       "20110071,E38,2003278,Alarms,01/11/2002,01/10/2002,Other,01/11/2002 08:01:38 AM,2500 Block of PACIFIC AVE,SF,94115,B04,38,3653,3,3,3,false,&quot;&quot;,1,ENGINE,1,4,2,Pacific Heights,&quot;(37.7929775957715, -122.437190625728)&quot;,020110071-E38,3.0\n",
       "20110072,E35,2003279,Structure Fire,01/11/2002,01/11/2002,Other,01/11/2002 08:03:26 AM,BEALE ST/FOLSOM ST,SF,94105,B03,35,2122,3,3,3,false,&quot;&quot;,1,ENGINE,1,3,6,Financial District/South Beach,&quot;(37.7886866619654, -122.392722833778)&quot;,020110072-E35,1.1333333333333333\n",
       "20110072,T08,2003279,Structure Fire,01/11/2002,01/11/2002,Other,01/11/2002 08:03:26 AM,BEALE ST/FOLSOM ST,SF,94105,B03,35,2122,3,3,3,false,&quot;&quot;,1,TRUCK,2,3,6,Financial District/South Beach,&quot;(37.7886866619654, -122.392722833778)&quot;,020110072-T08,1.75\n",
       "20110075,E34,2003280,Medical Incident,01/11/2002,01/11/2002,Other,01/11/2002 08:16:10 AM,GREAT HY/PACHECO ST,SF,94116,B08,23,7726,3,3,3,false,&quot;&quot;,1,ENGINE,2,8,4,Sunset/Parkside,&quot;(37.7491109380411, -122.507941547493)&quot;,020110075-E34,2.1\n",
       "20110075,M14,2003280,Medical Incident,01/11/2002,01/11/2002,Other,01/11/2002 08:15:30 AM,GREAT HY/PACHECO ST,SF,94116,B08,23,7726,3,3,3,true,&quot;&quot;,1,MEDIC,3,8,4,Sunset/Parkside,&quot;(37.7491109380411, -122.507941547493)&quot;,020110075-M14,2.066666666666667\n",
       "20110075,T19,2003280,Medical Incident,01/11/2002,01/11/2002,Other,01/11/2002 08:13:21 AM,GREAT HY/PACHECO ST,SF,94116,B08,23,7726,3,3,3,false,&quot;&quot;,1,TRUCK,4,8,4,Sunset/Parkside,&quot;(37.7491109380411, -122.507941547493)&quot;,020110075-T19,2.3333333333333335\n",
       "20110077,M08,2003284,Medical Incident,01/11/2002,01/11/2002,Other,01/11/2002 08:57:10 AM,200 Block of MARKET ST,SF,94111,B03,13,2809,1,1,2,false,&quot;&quot;,1,MEDIC,1,1,3,Financial District/South Beach,&quot;(37.7928236509312, -122.397034190089)&quot;,020110077-M08,18.066666666666666\n",
       "20110078,E14,2003281,Medical Incident,01/11/2002,01/11/2002,Other,01/11/2002 08:28:44 AM,700 Block of LA PLAYA,SF,94121,B07,34,7312,3,3,3,false,&quot;&quot;,1,ENGINE,1,7,1,Outer Richmond,&quot;(37.774196568977, -122.510033790907)&quot;,020110078-E14,1.9\n",
       "20110078,M10,2003281,Medical Incident,01/11/2002,01/11/2002,Other,01/11/2002 08:17:08 AM,700 Block of LA PLAYA,SF,94121,B07,34,7312,3,3,3,true,&quot;&quot;,1,MEDIC,4,7,1,Outer Richmond,&quot;(37.774196568977, -122.510033790907)&quot;,020110078-M10,1.7333333333333334\n",
       "\n",
       "*** WARNING: skipped 15495 bytes of output ***\n",
       "\n",
       "20110157,M43,2003321,Medical Incident,01/11/2002,01/11/2002,Other,01/11/2002 12:01:46 PM,0 Block of NICHOLS WAY,SF,94124,B10,17,6573,1,1,2,true,&quot;&quot;,1,MEDIC,1,10,10,Bayview Hunters Point,&quot;(37.7194008333885, -122.387234795761)&quot;,020110157-M43,6.3\n",
       "20110158,M17,2003320,Medical Incident,01/11/2002,01/11/2002,Other,01/11/2002 10:59:58 AM,KISKA RD/REARDON RD,SF,94124,B10,17,6625,3,3,3,true,&quot;&quot;,1,MEDIC,2,10,10,Bayview Hunters Point,&quot;(37.730015828394, -122.377202614092)&quot;,020110158-M17,3.216666666666667\n",
       "20110158,T17,2003320,Medical Incident,01/11/2002,01/11/2002,Other,01/11/2002 11:04:46 AM,KISKA RD/REARDON RD,SF,94124,B10,17,6625,3,3,3,false,&quot;&quot;,1,TRUCK,1,10,10,Bayview Hunters Point,&quot;(37.730015828394, -122.377202614092)&quot;,020110158-T17,2.783333333333333\n",
       "20110162,E44,2003322,Medical Incident,01/11/2002,01/11/2002,Other,01/11/2002 11:27:05 AM,1200 Block of BRUSSELS ST,SF,94134,B10,44,6316,3,3,3,false,&quot;&quot;,1,ENGINE,1,10,10,Visitacion Valley,&quot;(37.7168985416661, -122.40141886537)&quot;,020110162-E44,5.633333333333334\n",
       "20110163,E05,2003323,Medical Incident,01/11/2002,01/11/2002,Other,01/11/2002 11:10:11 AM,800 Block of FILLMORE ST,SF,94117,B05,05,3533,3,3,3,false,&quot;&quot;,1,ENGINE,3,2,5,Hayes Valley,&quot;(37.7772385093234, -122.431411206619)&quot;,020110163-E05,5.05\n",
       "20110163,M38,2003323,Medical Incident,01/11/2002,01/11/2002,Other,01/11/2002 12:13:33 PM,800 Block of FILLMORE ST,SF,94117,B05,05,3533,3,3,3,true,&quot;&quot;,1,MEDIC,1,2,5,Hayes Valley,&quot;(37.7772385093234, -122.431411206619)&quot;,020110163-M38,5.633333333333334\n",
       "20110164,E25,2003324,Structure Fire,01/11/2002,01/11/2002,Other,01/11/2002 11:09:34 AM,EARL ST/LA SALLE AV,SF,94124,B10,17,6664,3,3,3,false,&quot;&quot;,1,ENGINE,1,10,10,Bayview Hunters Point,&quot;(37.7280054654209, -122.373766115675)&quot;,020110164-E25,0.5333333333333333\n",
       "20110164,T17,2003324,Structure Fire,01/11/2002,01/11/2002,Other,01/11/2002 11:09:34 AM,EARL ST/LA SALLE AV,SF,94124,B10,17,6664,3,3,3,false,&quot;&quot;,1,TRUCK,2,10,10,Bayview Hunters Point,&quot;(37.7280054654209, -122.373766115675)&quot;,020110164-T17,0.48333333333333334\n",
       "20110165,E43,2003325,Medical Incident,01/11/2002,01/11/2002,Other,01/11/2002 11:47:00 AM,300 Block of LA GRANDE AVE,SF,94112,B09,43,0616,3,3,3,true,&quot;&quot;,1,ENGINE,1,9,11,McLaren Park,&quot;(37.7197515959451, -122.425588438069)&quot;,020110165-E43,2.45\n",
       "20110165,M17,2003325,Medical Incident,01/11/2002,01/11/2002,Other,01/11/2002 12:24:38 PM,300 Block of LA GRANDE AVE,SF,94112,B09,43,0616,3,3,3,true,&quot;&quot;,1,MEDIC,3,9,11,McLaren Park,&quot;(37.7197515959451, -122.425588438069)&quot;,020110165-M17,3.566666666666667\n",
       "20110165,RC3,2003325,Medical Incident,01/11/2002,01/11/2002,Other,01/11/2002 11:45:53 AM,300 Block of LA GRANDE AVE,SF,94112,B09,43,0616,3,3,3,true,&quot;&quot;,1,RESCUE CAPTAIN,2,9,11,McLaren Park,&quot;(37.7197515959451, -122.425588438069)&quot;,020110165-RC3,2.3\n",
       "20110166,B04,2003326,Alarms,01/11/2002,01/11/2002,Other,01/11/2002 11:10:54 AM,2200 Block of JACKSON ST,SF,94115,B04,38,3465,3,3,3,false,&quot;&quot;,1,CHIEF,2,4,2,Pacific Heights,&quot;(37.7928385256344, -122.432101129272)&quot;,020110166-B04,1.85\n",
       "20110166,E38,2003326,Alarms,01/11/2002,01/11/2002,Other,01/11/2002 11:14:39 AM,2200 Block of JACKSON ST,SF,94115,B04,38,3465,3,3,3,false,&quot;&quot;,1,ENGINE,1,4,2,Pacific Heights,&quot;(37.7928385256344, -122.432101129272)&quot;,020110166-E38,1.7166666666666666\n",
       "20110166,T13,2003326,Alarms,01/11/2002,01/11/2002,Other,01/11/2002 11:10:38 AM,2200 Block of JACKSON ST,SF,94115,B04,38,3465,3,3,3,true,&quot;&quot;,1,TRUCK,3,4,2,Pacific Heights,&quot;(37.7928385256344, -122.432101129272)&quot;,020110166-T13,2.2\n",
       "20110167,E34,2003327,Medical Incident,01/11/2002,01/11/2002,Other,01/11/2002 11:24:09 AM,600 Block of 39TH AVE,SF,94121,B07,34,7257,3,3,3,false,&quot;&quot;,1,ENGINE,1,7,1,Outer Richmond,&quot;(37.776553267268, -122.499453605944)&quot;,020110167-E34,2.6666666666666665\n",
       "20110167,E40,2003327,Medical Incident,01/11/2002,01/11/2002,Other,01/11/2002 11:32:14 AM,600 Block of 39TH AVE,SF,94121,B07,34,7257,3,3,3,true,&quot;&quot;,1,ENGINE,2,7,1,Outer Richmond,&quot;(37.776553267268, -122.499453605944)&quot;,020110167-E40,2.35\n",
       "20110167,M10,2003327,Medical Incident,01/11/2002,01/11/2002,Other,01/11/2002 12:11:33 PM,600 Block of 39TH AVE,SF,94121,B07,34,7257,3,3,3,true,&quot;&quot;,1,MEDIC,3,7,1,Outer Richmond,&quot;(37.776553267268, -122.499453605944)&quot;,020110167-M10,1.7166666666666666\n",
       "20110170,M01,2003332,Medical Incident,01/11/2002,01/11/2002,Other,01/11/2002 11:55:28 AM,1100 Block of HOWARD ST,SF,94103,B03,01,2314,1,1,2,true,&quot;&quot;,1,MEDIC,1,2,6,South of Market,&quot;(37.7768521020734, -122.410711239368)&quot;,020110170-M01,12.733333333333333\n",
       "20110171,M12,2003328,Medical Incident,01/11/2002,01/11/2002,Other,01/11/2002 12:08:45 PM,1500 Block of SLOAT BLVD,SF,94132,B08,19,7552,3,3,3,true,&quot;&quot;,1,MEDIC,2,8,7,Sunset/Parkside,&quot;(37.7339504451524, -122.489699172676)&quot;,020110171-M12,2.1166666666666667\n",
       "20110171,T19,2003328,Medical Incident,01/11/2002,01/11/2002,Other,01/11/2002 11:43:36 AM,1500 Block of SLOAT BLVD,SF,94132,B08,19,7552,3,3,3,false,&quot;&quot;,1,TRUCK,1,8,7,Sunset/Parkside,&quot;(37.7339504451524, -122.489699172676)&quot;,020110171-T19,1.0833333333333333\n",
       "20110173,T15,2003329,Other,01/11/2002,01/11/2002,Other,01/11/2002 11:27:48 AM,300 Block of VERNON ST,SF,94132,B09,33,8432,3,3,3,false,&quot;&quot;,1,TRUCK,1,9,11,Oceanview/Merced/Ingleside,&quot;(37.7187824064466, -122.468113420522)&quot;,020110173-T15,2.8833333333333333\n",
       "20110174,E31,2003330,Structure Fire,01/11/2002,01/11/2002,Other,01/11/2002 11:18:08 AM,25TH AV/GEARY BL,SF,94121,B07,14,7213,3,3,3,false,&quot;&quot;,1,ENGINE,1,7,1,Outer Richmond,&quot;(37.7800925816609, -122.484732261339)&quot;,020110174-E31,1.4\n",
       "20110174,T10,2003330,Structure Fire,01/11/2002,01/11/2002,Other,01/11/2002 11:18:00 AM,25TH AV/GEARY BL,SF,94121,B07,14,7213,3,3,3,true,&quot;&quot;,1,TRUCK,2,7,1,Outer Richmond,&quot;(37.7800925816609, -122.484732261339)&quot;,020110174-T10,1.9166666666666667\n",
       "20110175,B01,2003331,Alarms,01/11/2002,01/11/2002,Other,01/11/2002 11:24:03 AM,800 Block of CLAY ST,SF,94108,B01,13,1313,3,3,3,false,&quot;&quot;,1,CHIEF,1,1,3,Chinatown,&quot;(37.794138132306, -122.407728738815)&quot;,020110175-B01,0.9\n",
       "20110175,E02,2003331,Alarms,01/11/2002,01/11/2002,Other,01/11/2002 11:26:14 AM,800 Block of CLAY ST,SF,94108,B01,13,1313,3,3,3,false,&quot;&quot;,1,ENGINE,2,1,3,Chinatown,&quot;(37.794138132306, -122.407728738815)&quot;,020110175-E02,2.0166666666666666\n",
       "20110175,T02,2003331,Alarms,01/11/2002,01/11/2002,Other,01/11/2002 11:26:18 AM,800 Block of CLAY ST,SF,94108,B01,13,1313,3,3,3,false,&quot;&quot;,1,TRUCK,3,1,3,Chinatown,&quot;(37.794138132306, -122.407728738815)&quot;,020110175-T02,2.5166666666666666\n",
       "20110179,E07,2003334,Medical Incident,01/11/2002,01/11/2002,Other,01/11/2002 11:35:54 AM,3700 Block of 20TH ST,SF,94110,B06,07,5445,3,3,3,false,&quot;&quot;,1,ENGINE,1,6,8,Mission,&quot;(37.7582409266449, -122.424622419096)&quot;,020110179-E07,1.8666666666666667\n",
       "20110180,93,2003335,Medical Incident,01/11/2002,01/11/2002,Other,01/11/2002 12:13:17 PM,300 Block of ELLIS ST,SF,94102,B03,03,1461,3,3,3,true,&quot;&quot;,1,MEDIC,1,3,6,Tenderloin,&quot;(37.7849161843633, -122.411950042222)&quot;,020110180-93,6.15\n",
       "20110180,E01,2003335,Medical Incident,01/11/2002,01/11/2002,Other,01/11/2002 11:29:55 AM,300 Block of ELLIS ST,SF,94102,B03,03,1461,3,3,3,false,&quot;&quot;,1,ENGINE,2,3,6,Tenderloin,&quot;(37.7849161843633, -122.411950042222)&quot;,020110180-E01,7.3\n",
       "20110187,E05,2003336,Structure Fire,01/11/2002,01/11/2002,Other,01/11/2002 11:37:02 AM,FILLMORE ST/GEARY BL,SF,94115,B04,05,3541,3,3,3,false,&quot;&quot;,1,ENGINE,1,4,5,Western Addition,&quot;(37.7843550554153, -122.432914248043)&quot;,020110187-E05,0.9333333333333333\n",
       "20110187,T05,2003336,Structure Fire,01/11/2002,01/11/2002,Other,01/11/2002 11:37:13 AM,FILLMORE ST/GEARY BL,SF,94115,B04,05,3541,3,3,3,false,&quot;&quot;,1,TRUCK,2,4,5,Western Addition,&quot;(37.7843550554153, -122.432914248043)&quot;,020110187-T05,1.4833333333333334\n",
       "20110189,E12,2003337,Structure Fire,01/11/2002,01/11/2002,Other,01/11/2002 11:39:56 AM,CLAYTON ST/HAIGHT ST,SF,94117,B05,12,4525,3,3,3,true,&quot;&quot;,1,ENGINE,1,5,5,Haight Ashbury,&quot;(37.7697978509271, -122.448578814838)&quot;,020110189-E12,1.6166666666666667\n",
       "20110189,T12,2003337,Structure Fire,01/11/2002,01/11/2002,Other,01/11/2002 11:39:49 AM,CLAYTON ST/HAIGHT ST,SF,94117,B05,12,4525,3,3,3,false,&quot;&quot;,1,TRUCK,2,5,5,Haight Ashbury,&quot;(37.7697978509271, -122.448578814838)&quot;,020110189-T12,1.75\n",
       "20110190,M28,2003338,Medical Incident,01/11/2002,01/11/2002,Other,01/11/2002 11:51:13 AM,JACKSON ST/KEARNY ST,SF,94111,B01,13,1246,2,2,2,true,&quot;&quot;,1,MEDIC,1,1,3,Chinatown,&quot;(37.7962109543445, -122.405142978523)&quot;,020110190-M28,5.383333333333334\n",
       "20110192,B09,2003339,Structure Fire,01/11/2002,01/11/2002,Other,01/11/2002 11:47:00 AM,700 Block of FONT BLVD,SF,94132,B08,19,0868,3,3,3,false,&quot;&quot;,1,CHIEF,3,8,7,Lakeshore,&quot;(37.7230583826676, -122.483551461982)&quot;,020110192-B09,0.9833333333333333\n",
       "20110192,E19,2003339,Structure Fire,01/11/2002,01/11/2002,Other,01/11/2002 11:47:04 AM,700 Block of FONT BLVD,SF,94132,B08,19,0868,3,3,3,false,&quot;&quot;,1,ENGINE,1,8,7,Lakeshore,&quot;(37.7230583826676, -122.483551461982)&quot;,020110192-E19,0.9\n",
       "20110192,T19,2003339,Structure Fire,01/11/2002,01/11/2002,Other,01/11/2002 11:47:04 AM,700 Block of FONT BLVD,SF,94132,B08,19,0868,3,3,3,false,&quot;&quot;,1,TRUCK,2,8,7,Lakeshore,&quot;(37.7230583826676, -122.483551461982)&quot;,020110192-T19,0.9\n",
       "20110193,E02,2003340,Medical Incident,01/11/2002,01/11/2002,Other,01/11/2002 12:03:06 PM,400 Block of DAVIS CT,SF,94111,B01,13,1132,3,3,3,false,&quot;&quot;,1,ENGINE,2,1,3,Financial District/South Beach,&quot;(37.7967073395076, -122.398186156213)&quot;,020110193-E02,4.583333333333333\n",
       "20110193,M13,2003340,Medical Incident,01/11/2002,01/11/2002,Other,01/11/2002 12:57:57 PM,400 Block of DAVIS CT,SF,94111,B01,13,1132,3,3,3,true,&quot;&quot;,1,MEDIC,1,1,3,Financial District/South Beach,&quot;(37.7967073395076, -122.398186156213)&quot;,020110193-M13,3.783333333333333\n",
       "20110194,B01,2003341,Alarms,01/11/2002,01/11/2002,Other,01/11/2002 12:06:02 PM,1100 Block of BAY ST,SF,94123,B04,16,3236,3,3,3,false,&quot;&quot;,1,CHIEF,1,4,2,Marina,&quot;(37.8040712581595, -122.42525853062)&quot;,020110194-B01,0.8833333333333333\n",
       "20110194,E16,2003341,Alarms,01/11/2002,01/11/2002,Other,01/11/2002 12:07:44 PM,1100 Block of BAY ST,SF,94123,B04,16,3236,3,3,3,false,&quot;&quot;,1,ENGINE,3,4,2,Marina,&quot;(37.8040712581595, -122.42525853062)&quot;,020110194-E16,1.8666666666666667\n",
       "20110194,T16,2003341,Alarms,01/11/2002,01/11/2002,Other,01/11/2002 12:08:09 PM,1100 Block of BAY ST,SF,94123,B04,16,3236,3,3,3,false,&quot;&quot;,1,TRUCK,2,4,2,Marina,&quot;(37.8040712581595, -122.42525853062)&quot;,020110194-T16,3.033333333333333\n",
       "20110196,E28,2003342,Medical Incident,01/11/2002,01/11/2002,Other,01/11/2002 12:05:28 PM,600 Block of COMMERCIAL ST,SF,94111,B01,13,1233,3,3,3,false,&quot;&quot;,1,ENGINE,2,1,3,Chinatown,&quot;(37.794064372319, -122.403868638307)&quot;,020110196-E28,8.0\n",
       "20110196,M28,2003342,Medical Incident,01/11/2002,01/11/2002,Other,01/11/2002 11:59:38 AM,600 Block of COMMERCIAL ST,SF,94111,B01,13,1233,3,3,3,true,&quot;&quot;,1,MEDIC,3,1,3,Chinatown,&quot;(37.794064372319, -122.403868638307)&quot;,020110196-M28,7.766666666666667\n",
       "20110197,E05,2003343,Medical Incident,01/11/2002,01/11/2002,Other,01/11/2002 12:06:57 PM,1500 Block of WEBSTER ST,SF,94115,B04,05,3513,3,3,3,false,&quot;&quot;,1,ENGINE,1,4,5,Japantown,&quot;(37.784958590666, -122.431435274503)&quot;,020110197-E05,1.5166666666666666\n",
       "20110197,M05,2003343,Medical Incident,01/11/2002,01/11/2002,Other,01/11/2002 12:47:23 PM,1500 Block of WEBSTER ST,SF,94115,B04,05,3513,3,3,3,true,&quot;&quot;,1,MEDIC,2,4,5,Japantown,&quot;(37.784958590666, -122.431435274503)&quot;,020110197-M05,1.4166666666666667\n",
       "20110198,E15,2003344,Medical Incident,01/11/2002,01/11/2002,Other,01/11/2002 12:12:04 PM,0 Block of THERESA ST,SF,94112,B09,15,8264,3,3,3,true,&quot;&quot;,1,ENGINE,1,9,11,Outer Mission,&quot;(37.7282713187706, -122.433385191341)&quot;,020110198-E15,1.8833333333333333\n",
       "20110198,M15,2003344,Medical Incident,01/11/2002,01/11/2002,Other,01/11/2002 12:29:18 PM,0 Block of THERESA ST,SF,94112,B09,15,8264,3,3,3,true,&quot;&quot;,1,MEDIC,2,9,11,Outer Mission,&quot;(37.7282713187706, -122.433385191341)&quot;,020110198-M15,3.4\n",
       "20110198,RC4,2003344,Medical Incident,01/11/2002,01/11/2002,Other,01/11/2002 12:19:19 PM,0 Block of THERESA ST,SF,94112,B09,15,8264,3,3,3,true,&quot;&quot;,1,RESCUE CAPTAIN,3,9,11,Outer Mission,&quot;(37.7282713187706, -122.433385191341)&quot;,020110198-RC4,5.25\n",
       "20110204,E23,2003346,Medical Incident,01/11/2002,01/11/2002,Other,01/11/2002 12:27:30 PM,1300 Block of 46TH AVE,SF,94122,B08,23,7721,3,3,3,true,&quot;&quot;,1,ENGINE,1,8,4,Sunset/Parkside,&quot;(37.7613577781783, -122.505924512458)&quot;,020110204-E23,1.8833333333333333\n",
       "20110204,M18,2003346,Medical Incident,01/11/2002,01/11/2002,Other,01/11/2002 01:04:26 PM,1300 Block of 46TH AVE,SF,94122,B08,23,7721,3,3,3,true,&quot;&quot;,1,MEDIC,2,8,4,Sunset/Parkside,&quot;(37.7613577781783, -122.505924512458)&quot;,020110204-M18,2.2666666666666666\n",
       "20110210,E09,2003347,Citizen Assist / Service Call,01/11/2002,01/11/2002,Other,01/11/2002 12:58:15 PM,24TH ST/SAN BRUNO AV,SF,94110,B10,09,2562,3,3,3,false,&quot;&quot;,1,ENGINE,1,10,10,Mission,&quot;(37.7531214131675, -122.404363176874)&quot;,020110210-E09,3.7333333333333334\n",
       "20110215,E06,2003348,Medical Incident,01/11/2002,01/11/2002,Other,01/11/2002 01:08:40 PM,DIAMOND ST/MARKET ST,SF,94114,B05,06,5415,3,3,3,false,&quot;&quot;,1,ENGINE,1,5,8,Castro/Upper Market,&quot;(37.7618954753708, -122.437298717721)&quot;,020110215-E06,2.7666666666666666\n",
       "20110215,M07,2003348,Medical Incident,01/11/2002,01/11/2002,Other,01/11/2002 01:25:12 PM,DIAMOND ST/MARKET ST,SF,94114,B05,06,5415,3,3,3,true,&quot;&quot;,1,MEDIC,2,5,8,Castro/Upper Market,&quot;(37.7618954753708, -122.437298717721)&quot;,020110215-M07,4.683333333333334\n",
       "20110216,94,2003349,Medical Incident,01/11/2002,01/11/2002,Other,01/11/2002 01:03:53 PM,POST ST/STOCKTON ST,SF,94108,B01,01,1316,3,3,3,true,&quot;&quot;,1,MEDIC,2,1,3,Financial District/South Beach,&quot;(37.7884994798068, -122.406771145217)&quot;,020110216-94,2.216666666666667\n",
       "20110216,E01,2003349,Medical Incident,01/11/2002,01/11/2002,Other,01/11/2002 01:01:32 PM,POST ST/STOCKTON ST,SF,94108,B01,01,1316,3,3,3,false,&quot;&quot;,1,ENGINE,3,1,3,Financial District/South Beach,&quot;(37.7884994798068, -122.406771145217)&quot;,020110216-E01,2.3\n",
       "20110216,RS1,2003349,Medical Incident,01/11/2002,01/11/2002,Other,01/11/2002 01:01:32 PM,POST ST/STOCKTON ST,SF,94108,B01,01,1316,3,3,3,false,&quot;&quot;,1,RESCUE SQUAD,1,1,3,Financial District/South Beach,&quot;(37.7884994798068, -122.406771145217)&quot;,020110216-RS1,2.466666666666667\n",
       "20110217,91,2003350,Medical Incident,01/11/2002,01/11/2002,Other,01/11/2002 01:02:18 PM,MARKET ST/VAN NESS AV,SF,94103,B02,36,3212,1,1,2,true,&quot;&quot;,1,MEDIC,2,2,6,Mission,&quot;(37.7751470741622, -122.419255607214)&quot;,020110217-91,2.933333333333333\n",
       "20110223,92,2003351,Medical Incident,01/11/2002,01/11/2002,Other,01/11/2002 01:45:35 PM,LARKIN ST/MCALLISTER ST,SF,94102,B02,03,1553,3,3,3,true,&quot;&quot;,1,MEDIC,1,2,6,Tenderloin,&quot;(37.7804703413414, -122.416947606226)&quot;,020110223-92,2.2666666666666666\n",
       "20110223,E03,2003351,Medical Incident,01/11/2002,01/11/2002,Other,01/11/2002 01:16:31 PM,LARKIN ST/MCALLISTER ST,SF,94102,B02,03,1553,3,3,3,false,&quot;&quot;,1,ENGINE,2,2,6,Tenderloin,&quot;(37.7804703413414, -122.416947606226)&quot;,020110223-E03,2.9833333333333334\n",
       "20110225,E05,2003352,Medical Incident,01/11/2002,01/11/2002,Other,01/11/2002 01:22:07 PM,FILLMORE ST/GOLDEN GATE AV,SF,94115,B05,05,3516,3,3,3,false,&quot;&quot;,1,ENGINE,1,5,5,Western Addition,&quot;(37.7795641471317, -122.431951803212)&quot;,020110225-E05,1.2833333333333334\n",
       "20110225,M05,2003352,Medical Incident,01/11/2002,01/11/2002,Other,01/11/2002 01:59:12 PM,FILLMORE ST/GOLDEN GATE AV,SF,94115,B05,05,3516,3,3,3,true,&quot;&quot;,1,MEDIC,2,5,5,Western Addition,&quot;(37.7795641471317, -122.431951803212)&quot;,020110225-M05,1.5\n",
       "20110229,B03,2003353,Alarms,01/11/2002,01/11/2002,Other,01/11/2002 01:40:32 PM,500 Block of MINNA ST,SF,94103,B03,01,2251,3,3,3,false,&quot;&quot;,1,CHIEF,3,3,6,South of Market,&quot;(37.7800574377607, -122.408673540372)&quot;,020110229-B03,2.6333333333333333\n",
       "20110229,E01,2003353,Alarms,01/11/2002,01/11/2002,Other,01/11/2002 01:40:32 PM,500 Block of MINNA ST,SF,94103,B03,01,2251,3,3,3,false,&quot;&quot;,1,ENGINE,1,3,6,South of Market,&quot;(37.7800574377607, -122.408673540372)&quot;,020110229-E01,2.5833333333333335\n",
       "20110229,T01,2003353,Alarms,01/11/2002,01/11/2002,Other,01/11/2002 01:34:29 PM,500 Block of MINNA ST,SF,94103,B03,01,2251,3,3,3,false,&quot;&quot;,1,TRUCK,2,3,6,South of Market,&quot;(37.7800574377607, -122.408673540372)&quot;,020110229-T01,3.533333333333333\n",
       "20110231,E07,2003354,Structure Fire,01/11/2002,01/11/2002,Other,01/11/2002 01:35:06 PM,21ST ST/VALENCIA ST,SF,94110,B06,07,5456,3,3,3,false,&quot;&quot;,1,ENGINE,1,6,9,Mission,&quot;(37.7569020093743, -122.421117541576)&quot;,020110231-E07,0.9333333333333333\n",
       "20110231,T07,2003354,Structure Fire,01/11/2002,01/11/2002,Other,01/11/2002 01:34:35 PM,21ST ST/VALENCIA ST,SF,94110,B06,07,5456,3,3,3,false,&quot;&quot;,1,TRUCK,2,6,9,Mission,&quot;(37.7569020093743, -122.421117541576)&quot;,020110231-T07,1.35\n",
       "20110234,B05,2003355,Alarms,01/11/2002,01/11/2002,Other,01/11/2002 01:36:16 PM,600 Block of STEINER ST,SF,94117,B05,21,3631,3,3,3,false,&quot;&quot;,1,CHIEF,2,5,5,Hayes Valley,&quot;(37.7751510634662, -122.432804075352)&quot;,020110234-B05,3.15\n",
       "20110234,E21,2003355,Alarms,01/11/2002,01/11/2002,Other,01/11/2002 01:39:24 PM,600 Block of STEINER ST,SF,94117,B05,21,3631,3,3,3,false,&quot;&quot;,1,ENGINE,1,5,5,Hayes Valley,&quot;(37.7751510634662, -122.432804075352)&quot;,020110234-E21,2.216666666666667\n",
       "20110234,T05,2003355,Alarms,01/11/2002,01/11/2002,Other,01/11/2002 01:36:16 PM,600 Block of STEINER ST,SF,94117,B05,21,3631,3,3,3,false,&quot;&quot;,1,TRUCK,3,5,5,Hayes Valley,&quot;(37.7751510634662, -122.432804075352)&quot;,020110234-T05,2.75\n",
       "20110235,E14,2003356,Medical Incident,01/11/2002,01/11/2002,Other,01/11/2002 01:50:51 PM,500 Block of 18TH AVE,SF,94121,B07,31,7165,3,3,3,false,&quot;&quot;,1,ENGINE,2,7,1,Outer Richmond,&quot;(37.7775714175008, -122.477101447838)&quot;,020110235-E14,3.1333333333333333\n",
       "20110235,M14,2003356,Medical Incident,01/11/2002,01/11/2002,Other,01/11/2002 02:05:59 PM,500 Block of 18TH AVE,SF,94121,B07,31,7165,3,3,3,true,&quot;&quot;,1,MEDIC,1,7,1,Outer Richmond,&quot;(37.7775714175008, -122.477101447838)&quot;,020110235-M14,2.5833333333333335\n",
       "20110237,E32,2003357,Medical Incident,01/11/2002,01/11/2002,Other,01/11/2002 01:54:18 PM,300 Block of RICHLAND AVE,SF,94110,B06,32,5644,3,3,3,true,&quot;&quot;,1,ENGINE,1,6,9,Bernal Heights,&quot;(37.7357456024866, -122.418457095156)&quot;,020110237-E32,4.3\n",
       "20110237,E43,2003357,Medical Incident,01/11/2002,01/11/2002,Other,01/11/2002 02:10:18 PM,300 Block of RICHLAND AVE,SF,94110,B06,32,5644,3,3,3,true,&quot;&quot;,1,ENGINE,2,6,9,Bernal Heights,&quot;(37.7357456024866, -122.418457095156)&quot;,020110237-E43,4.1\n",
       "20110237,M43,2003357,Medical Incident,01/11/2002,01/11/2002,Other,01/11/2002 02:57:56 PM,300 Block of RICHLAND AVE,SF,94110,B06,32,5644,3,3,3,true,&quot;&quot;,1,MEDIC,4,6,9,Bernal Heights,&quot;(37.7357456024866, -122.418457095156)&quot;,020110237-M43,4.066666666666666\n",
       "20110237,RC3,2003357,Medical Incident,01/11/2002,01/11/2002,Other,01/11/2002 02:06:22 PM,300 Block of RICHLAND AVE,SF,94110,B06,32,5644,3,3,3,true,&quot;&quot;,1,RESCUE CAPTAIN,3,6,9,Bernal Heights,&quot;(37.7357456024866, -122.418457095156)&quot;,020110237-RC3,5.05\n",
       "20110239,94,2003359,Medical Incident,01/11/2002,01/11/2002,Other,01/11/2002 02:04:36 PM,MARKET ST/VAN NESS AV,SF,94103,B02,36,3212,1,1,2,true,&quot;&quot;,1,MEDIC,1,2,6,Mission,&quot;(37.7751470741622, -122.419255607214)&quot;,020110239-94,2.816666666666667\n",
       "20110240,91,2003360,Medical Incident,01/11/2002,01/11/2002,Other,01/11/2002 02:29:44 PM,900 Block of SACRAMENTO ST,SF,94108,B01,02,1326,3,3,3,true,&quot;&quot;,1,MEDIC,2,1,3,Chinatown,&quot;(37.7930721329454, -122.408125184867)&quot;,020110240-91,1.95\n",
       "20110240,E02,2003360,Medical Incident,01/11/2002,01/11/2002,Other,01/11/2002 02:11:22 PM,900 Block of SACRAMENTO ST,SF,94108,B01,02,1326,3,3,3,false,&quot;&quot;,1,ENGINE,1,1,3,Chinatown,&quot;(37.7930721329454, -122.408125184867)&quot;,020110240-E02,1.9333333333333333\n",
       "20110240,RC1,2003360,Medical Incident,01/11/2002,01/11/2002,Other,01/11/2002 02:27:25 PM,900 Block of SACRAMENTO ST,SF,94108,B01,02,1326,3,3,3,true,&quot;&quot;,1,RESCUE CAPTAIN,3,1,3,Chinatown,&quot;(37.7930721329454, -122.408125184867)&quot;,020110240-RC1,7.516666666666667\n",
       "20110241,92,2003361,Medical Incident,01/11/2002,01/11/2002,Other,01/11/2002 03:10:16 PM,CYRIL MAGNIN ST/EDDY ST,SF,94102,B03,01,1453,1,1,2,false,&quot;&quot;,1,MEDIC,1,3,6,Tenderloin,&quot;(37.7844527288793, -122.408493159961)&quot;,020110241-92,3.3333333333333335\n",
       "20110241,M01,2003361,Medical Incident,01/11/2002,01/11/2002,Other,&quot;&quot;,CYRIL MAGNIN ST/EDDY ST,SF,94102,B03,01,1453,1,1,2,true,&quot;&quot;,1,MEDIC,2,3,6,Tenderloin,&quot;(37.7844527288793, -122.408493159961)&quot;,020110241-M01,2.5833333333333335\n",
       "20110243,93,2003363,Medical Incident,01/11/2002,01/11/2002,Other,&quot;&quot;,600 Block of WISCONSIN ST,SF,94107,B10,37,2521,3,3,3,true,&quot;&quot;,1,MEDIC,2,10,10,Potrero Hill,&quot;(37.7585798761387, -122.398991240016)&quot;,020110243-93,3.966666666666667\n",
       "20110245,M01,2003367,Medical Incident,01/11/2002,01/11/2002,Other,01/11/2002 02:21:31 PM,200 Block of TAYLOR ST,SF,94102,B03,01,1453,2,2,2,true,&quot;&quot;,1,MEDIC,1,3,6,Tenderloin,&quot;(37.7845991269502, -122.411114048741)&quot;,020110245-M01,5.916666666666667\n",
       "20110248,94,2003364,Medical Incident,01/11/2002,01/11/2002,Other,01/11/2002 02:37:02 PM,5TH ST/MARKET ST,SF,94103,B03,01,1364,2,2,2,true,&quot;&quot;,1,MEDIC,1,3,6,South of Market,&quot;(37.7839914857614, -122.408066547804)&quot;,020110248-94,2.9166666666666665\n",
       "20110250,E16,2003365,Medical Incident,01/11/2002,01/11/2002,Other,01/11/2002 02:24:34 PM,LOMBARD ST/OCTAVIA ST,SF,94123,B04,16,3244,3,3,3,false,&quot;&quot;,1,ENGINE,1,4,2,Marina,&quot;(37.8006784057278, -122.429470885435)&quot;,020110250-E16,3.0166666666666666\n",
       "20110250,M38,2003365,Medical Incident,01/11/2002,01/11/2002,Other,01/11/2002 03:56:58 PM,LOMBARD ST/OCTAVIA ST,SF,94123,B04,16,3244,3,3,3,true,&quot;&quot;,1,MEDIC,2,4,2,Marina,&quot;(37.8006784057278, -122.429470885435)&quot;,020110250-M38,2.683333333333333\n",
       "20110251,K917,2003366,Medical Incident,01/11/2002,01/11/2002,Other,01/11/2002 02:24:01 PM,700 Block of MISSION ST,SF,94103,B03,01,2178,3,3,3,false,&quot;&quot;,1,PRIVATE,2,3,6,Financial District/South Beach,&quot;(37.785734819878, -122.402822924972)&quot;,020110251-K917,5.0\n",
       "20110252,M07,2003369,Medical Incident,01/11/2002,01/11/2002,Other,01/11/2002 02:34:23 PM,900 Block of CHURCH ST,SF,94114,B06,11,5467,2,2,2,true,&quot;&quot;,1,MEDIC,1,6,8,Noe Valley,&quot;(37.7552977169677, -122.42770533701)&quot;,020110252-M07,5.2\n",
       "20110253,E03,2003368,Medical Incident,01/11/2002,01/11/2002,Other,01/11/2002 02:23:48 PM,300 Block of ELLIS ST,SF,94102,B03,03,1461,3,3,3,false,&quot;&quot;,1,ENGINE,1,3,6,Tenderloin,&quot;(37.7849161843633, -122.411950042222)&quot;,020110253-E03,3.316666666666667\n",
       "20110257,E42,2003370,Structure Fire,01/11/2002,01/11/2002,Other,01/11/2002 02:29:50 PM,ANDOVER ST/CORTLAND AV,SF,94110,B06,32,5732,3,3,3,true,&quot;&quot;,1,ENGINE,1,6,9,Bernal Heights,&quot;(37.7390616989426, -122.416519601586)&quot;,020110257-E42,1.5166666666666666\n",
       "20110257,T11,2003370,Structure Fire,01/11/2002,01/11/2002,Other,01/11/2002 02:30:38 PM,ANDOVER ST/CORTLAND AV,SF,94110,B06,32,5732,3,3,3,false,&quot;&quot;,1,TRUCK,2,6,9,Bernal Heights,&quot;(37.7390616989426, -122.416519601586)&quot;,020110257-T11,0.9833333333333333\n",
       "20110258,E26,2003371,Structure Fire,01/11/2002,01/11/2002,Other,01/11/2002 02:33:01 PM,DUNCAN ST/RED ROCK WY,SF,94131,B06,26,8167,3,3,3,true,&quot;&quot;,1,ENGINE,1,6,8,Noe Valley,&quot;(37.7458984910923, -122.443373987112)&quot;,020110258-E26,1.1333333333333333\n",
       "20110258,T06,2003371,Structure Fire,01/11/2002,01/11/2002,Other,&quot;&quot;,DUNCAN ST/RED ROCK WY,SF,94131,B06,26,8167,3,3,3,false,&quot;&quot;,1,TRUCK,2,6,8,Noe Valley,&quot;(37.7458984910923, -122.443373987112)&quot;,020110258-T06,0.9833333333333333\n",
       "20110258,T11,2003371,Structure Fire,01/11/2002,01/11/2002,Other,01/11/2002 02:33:01 PM,DUNCAN ST/RED ROCK WY,SF,94131,B06,26,8167,3,3,3,false,&quot;&quot;,1,TRUCK,3,6,8,Noe Valley,&quot;(37.7458984910923, -122.443373987112)&quot;,020110258-T11,2.8833333333333333\n",
       "20110260,B02,2003372,Structure Fire,01/11/2002,01/11/2002,Other,01/11/2002 02:33:59 PM,900 Block of MARKET ST,SF,94102,B03,01,1454,3,3,3,false,&quot;&quot;,1,CHIEF,2,3,6,Tenderloin,&quot;(37.7828276498838, -122.409708423721)&quot;,020110260-B02,3.4833333333333334\n",
       "20110260,E01,2003372,Structure Fire,01/11/2002,01/11/2002,Other,01/11/2002 02:33:59 PM,900 Block of MARKET ST,SF,94102,B03,01,1454,3,3,3,false,&quot;&quot;,1,ENGINE,3,3,6,Tenderloin,&quot;(37.7828276498838, -122.409708423721)&quot;,020110260-E01,1.2166666666666666\n",
       "20110260,T01,2003372,Structure Fire,01/11/2002,01/11/2002,Other,01/11/2002 02:33:59 PM,900 Block of MARKET ST,SF,94102,B03,01,1454,3,3,3,false,&quot;&quot;,1,TRUCK,1,3,6,Tenderloin,&quot;(37.7828276498838, -122.409708423721)&quot;,020110260-T01,0.8833333333333333\n",
       "20110262,E23,2003373,Medical Incident,01/11/2002,01/11/2002,Other,01/11/2002 02:44:52 PM,1400 Block of 33RD AVE,SF,94122,B08,23,7541,3,3,3,true,&quot;&quot;,1,ENGINE,1,8,4,Sunset/Parkside,&quot;(37.7601078803796, -122.491863132444)&quot;,020110262-E23,3.6166666666666667\n",
       "20110262,M18,2003373,Medical Incident,01/11/2002,01/11/2002,Other,01/11/2002 03:45:17 PM,1400 Block of 33RD AVE,SF,94122,B08,23,7541,3,3,3,true,&quot;&quot;,1,MEDIC,2,8,4,Sunset/Parkside,&quot;(37.7601078803796, -122.491863132444)&quot;,020110262-M18,3.4\n",
       "20110264,E07,2003374,Medical Incident,01/11/2002,01/11/2002,Other,01/11/2002 02:42:22 PM,2000 Block of MISSION ST,SF,94110,B02,07,5236,3,3,3,false,&quot;&quot;,1,ENGINE,2,2,9,Mission,&quot;(37.7642361189447, -122.419659842408)&quot;,020110264-E07,2.4\n",
       "20110264,M36,2003374,Medical Incident,01/11/2002,01/11/2002,Other,01/11/2002 03:31:50 PM,2000 Block of MISSION ST,SF,94110,B02,07,5236,3,3,3,true,&quot;&quot;,1,MEDIC,1,2,9,Mission,&quot;(37.7642361189447, -122.419659842408)&quot;,020110264-M36,1.5166666666666666\n",
       "20110267,E21,2003375,Medical Incident,01/11/2002,01/11/2002,Other,01/11/2002 02:51:33 PM,BAKER ST/HAIGHT ST,SF,94117,B05,21,4246,3,3,3,false,&quot;&quot;,1,ENGINE,1,5,5,Haight Ashbury,&quot;(37.770847433139, -122.440357703657)&quot;,020110267-E21,2.78333333333333\n",
       "</div>"
      ]
     },
     "metadata": {
      "application/vnd.databricks.v1+output": {
       "addedWidgets": {},
       "arguments": {},
       "data": "<div class=\"ansiout\">[Truncated to first 65536 bytes]\nCall Number,Unit ID,Incident Number,CallType,Call Date,Watch Date,Call Final Disposition,Available DtTm,Address,City,Zipcode of Incident,Battalion,Station Area,Box,OrigPriority,Priority,Final Priority,ALS Unit,Call Type Group,NumAlarms,UnitType,Unit sequence in call dispatch,Fire Prevention District,Supervisor District,Neighborhood,Location,RowID,Delay\n20110014,M29,2003234,Medical Incident,01/11/2002,01/10/2002,Other,01/11/2002 01:58:43 AM,10TH ST/MARKET ST,SF,94103,B02,36,2338,1,1,2,true,&quot;&quot;,1,MEDIC,1,2,6,Tenderloin,&quot;(37.7765408927183, -122.417501464907)&quot;,020110014-M29,5.233333333333333\n20110015,M08,2003233,Medical Incident,01/11/2002,01/10/2002,Other,01/11/2002 02:10:17 AM,300 Block of 5TH ST,SF,94107,B03,08,2243,1,1,2,true,&quot;&quot;,1,MEDIC,1,3,6,South of Market,&quot;(37.7792841462441, -122.402061300134)&quot;,020110015-M08,3.0833333333333335\n20110016,B02,2003235,Structure Fire,01/11/2002,01/10/2002,Other,01/11/2002 01:47:00 AM,2000 Block of CALIFORNIA ST,SF,94109,B04,38,3362,3,3,3,false,&quot;&quot;,1,CHIEF,6,4,5,Pacific Heights,&quot;(37.7895840679362, -122.428071912459)&quot;,020110016-B02,3.05\n20110016,B04,2003235,Structure Fire,01/11/2002,01/10/2002,Other,01/11/2002 01:51:54 AM,2000 Block of CALIFORNIA ST,SF,94109,B04,38,3362,3,3,3,false,&quot;&quot;,1,CHIEF,3,4,5,Pacific Heights,&quot;(37.7895840679362, -122.428071912459)&quot;,020110016-B04,2.316666666666667\n20110016,D2,2003235,Structure Fire,01/11/2002,01/10/2002,Other,01/11/2002 01:47:00 AM,2000 Block of CALIFORNIA ST,SF,94109,B04,38,3362,3,3,3,false,&quot;&quot;,1,CHIEF,4,4,5,Pacific Heights,&quot;(37.7895840679362, -122.428071912459)&quot;,020110016-D2,3.0166666666666666\n20110016,E03,2003235,Structure Fire,01/11/2002,01/10/2002,Other,01/11/2002 01:47:00 AM,2000 Block of CALIFORNIA ST,SF,94109,B04,38,3362,3,3,3,false,&quot;&quot;,1,ENGINE,7,4,5,Pacific Heights,&quot;(37.7895840679362, -122.428071912459)&quot;,020110016-E03,2.683333333333333\n20110016,E38,2003235,Structure Fire,01/11/2002,01/10/2002,Other,01/11/2002 01:51:17 AM,2000 Block of CALIFORNIA ST,SF,94109,B04,38,3362,3,3,3,false,&quot;&quot;,1,ENGINE,1,4,5,Pacific Heights,&quot;(37.7895840679362, -122.428071912459)&quot;,020110016-E38,2.1\n20110016,E41,2003235,Structure Fire,01/11/2002,01/10/2002,Other,01/11/2002 01:47:00 AM,2000 Block of CALIFORNIA ST,SF,94109,B04,38,3362,3,3,3,false,&quot;&quot;,1,ENGINE,8,4,5,Pacific Heights,&quot;(37.7895840679362, -122.428071912459)&quot;,020110016-E41,2.716666666666667\n20110016,M03,2003235,Structure Fire,01/11/2002,01/10/2002,Other,01/11/2002 01:46:38 AM,2000 Block of CALIFORNIA ST,SF,94109,B04,38,3362,3,3,3,true,&quot;&quot;,1,MEDIC,10,4,5,Pacific Heights,&quot;(37.7895840679362, -122.428071912459)&quot;,020110016-M03,2.7666666666666666\n20110016,RS1,2003235,Structure Fire,01/11/2002,01/10/2002,Other,01/11/2002 01:46:57 AM,2000 Block of CALIFORNIA ST,SF,94109,B04,38,3362,3,3,3,false,&quot;&quot;,1,RESCUE SQUAD,9,4,5,Pacific Heights,&quot;(37.7895840679362, -122.428071912459)&quot;,020110016-RS1,3.2666666666666666\n20110016,T03,2003235,Structure Fire,01/11/2002,01/10/2002,Other,01/11/2002 01:47:00 AM,2000 Block of CALIFORNIA ST,SF,94109,B04,38,3362,3,3,3,false,&quot;&quot;,1,TRUCK,5,4,5,Pacific Heights,&quot;(37.7895840679362, -122.428071912459)&quot;,020110016-T03,3.2333333333333334\n20110016,T13,2003235,Structure Fire,01/11/2002,01/10/2002,Other,01/11/2002 01:51:44 AM,2000 Block of CALIFORNIA ST,SF,94109,B04,38,3362,3,3,3,false,&quot;&quot;,1,TRUCK,2,4,5,Pacific Heights,&quot;(37.7895840679362, -122.428071912459)&quot;,020110016-T13,2.95\n20110017,M13,2003236,Medical Incident,01/11/2002,01/10/2002,Other,01/11/2002 02:27:14 AM,700 Block of FOLSOM ST,SF,94107,B03,01,2176,1,1,2,true,&quot;&quot;,1,MEDIC,1,3,6,South of Market,&quot;(37.7831757914875, -122.399603541822)&quot;,020110017-M13,6.933333333333334\n20110019,M36,2003238,Medical Incident,01/11/2002,01/10/2002,Other,01/11/2002 02:28:30 AM,9TH ST/LARKIN ST,SF,94103,B02,36,2337,1,1,2,true,&quot;&quot;,1,MEDIC,1,2,6,South of Market,&quot;(37.7774938436091, -122.41629170277)&quot;,020110019-M36,6.116666666666666\n20110020,E38,2003239,Outside Fire,01/11/2002,01/10/2002,Other,01/11/2002 02:15:33 AM,3000 Block of WEBSTER ST,SF,94123,B04,16,3462,3,3,3,false,&quot;&quot;,1,ENGINE,1,4,2,Marina,&quot;(37.7984543611006, -122.434151287383)&quot;,020110020-E38,1.4833333333333334\n20110021,E03,2003240,Medical Incident,01/11/2002,01/10/2002,Other,01/11/2002 02:17:23 AM,300 Block of ELLIS ST,SF,94102,B03,03,1461,3,3,3,false,&quot;&quot;,1,ENGINE,1,3,6,Tenderloin,&quot;(37.7850246606887, -122.411971890566)&quot;,020110021-E03,2.933333333333333\n20110021,M03,2003240,Medical Incident,01/11/2002,01/10/2002,Other,01/11/2002 02:21:00 AM,300 Block of ELLIS ST,SF,94102,B03,03,1461,3,3,3,true,&quot;&quot;,1,MEDIC,2,3,6,Tenderloin,&quot;(37.7850246606887, -122.411971890566)&quot;,020110021-M03,4.416666666666667\n20110022,E42,2003241,Medical Incident,01/11/2002,01/10/2002,Other,01/11/2002 02:21:10 AM,0 Block of SILVERVIEW DR,SF,94124,B10,42,6495,3,3,3,true,&quot;&quot;,1,ENGINE,2,10,10,Bayview Hunters Point,&quot;(37.7337623673897, -122.396113802632)&quot;,020110022-E42,4.833333333333333\n20110022,M17,2003241,Medical Incident,01/11/2002,01/10/2002,Other,01/11/2002 03:01:18 AM,0 Block of SILVERVIEW DR,SF,94124,B10,42,6495,3,3,3,true,&quot;&quot;,1,MEDIC,1,10,10,Bayview Hunters Point,&quot;(37.7337623673897, -122.396113802632)&quot;,020110022-M17,4.7\n20110023,E03,2003242,Medical Incident,01/11/2002,01/10/2002,Other,01/11/2002 02:30:38 AM,MARKET ST/MCALLISTER ST,SF,94102,B03,01,1455,3,3,3,false,&quot;&quot;,1,ENGINE,1,3,6,Tenderloin,&quot;(37.7811772186856, -122.411699931232)&quot;,020110023-E03,3.05\n20110023,M41,2003242,Medical Incident,01/11/2002,01/10/2002,Other,01/11/2002 02:39:50 AM,MARKET ST/MCALLISTER ST,SF,94102,B03,01,1455,3,3,3,true,&quot;&quot;,1,MEDIC,2,3,6,Tenderloin,&quot;(37.7811772186856, -122.411699931232)&quot;,020110023-M41,2.433333333333333\n20110024,E29,2003243,Medical Incident,01/11/2002,01/10/2002,Other,01/11/2002 02:28:34 AM,400 Block of KANSAS ST,SF,94107,B02,29,2422,3,3,3,false,&quot;&quot;,1,ENGINE,2,2,10,Potrero Hill,&quot;(37.7640801201771, -122.403538779847)&quot;,020110024-E29,3.933333333333333\n20110024,M29,2003243,Medical Incident,01/11/2002,01/10/2002,Other,01/11/2002 02:48:59 AM,400 Block of KANSAS ST,SF,94107,B02,29,2422,3,3,3,true,&quot;&quot;,1,MEDIC,1,2,10,Potrero Hill,&quot;(37.7640801201771, -122.403538779847)&quot;,020110024-M29,3.35\n20110025,E07,2003244,Medical Incident,01/11/2002,01/10/2002,Other,01/11/2002 02:39:58 AM,800 Block of VALENCIA ST,SF,94110,B06,07,5434,3,3,3,false,&quot;&quot;,1,ENGINE,2,6,9,Mission,&quot;(37.7589396460618, -122.421244589279)&quot;,020110025-E07,3.8666666666666667\n20110025,M07,2003244,Medical Incident,01/11/2002,01/10/2002,Other,01/11/2002 02:40:52 AM,800 Block of VALENCIA ST,SF,94110,B06,07,5434,3,3,3,true,&quot;&quot;,1,MEDIC,1,6,9,Mission,&quot;(37.7589396460618, -122.421244589279)&quot;,020110025-M07,4.716666666666667\n20110026,B03,2003245,Alarms,01/11/2002,01/10/2002,Other,01/11/2002 03:15:05 AM,2500 Block of MARIPOSA ST,SF,94110,B02,29,5243,3,3,3,false,&quot;&quot;,1,CHIEF,3,2,10,Mission,&quot;(37.7631695375953, -122.408796075221)&quot;,020110026-B03,1.85\n20110026,E29,2003245,Alarms,01/11/2002,01/10/2002,Other,01/11/2002 03:18:13 AM,2500 Block of MARIPOSA ST,SF,94110,B02,29,5243,3,3,3,false,&quot;&quot;,1,ENGINE,1,2,10,Mission,&quot;(37.7631695375953, -122.408796075221)&quot;,020110026-E29,3.0833333333333335\n20110026,T07,2003245,Alarms,01/11/2002,01/10/2002,Other,01/11/2002 03:01:46 AM,2500 Block of MARIPOSA ST,SF,94110,B02,29,5243,3,3,3,false,&quot;&quot;,1,TRUCK,2,2,10,Mission,&quot;(37.7631695375953, -122.408796075221)&quot;,020110026-T07,3.25\n20110027,E28,2003246,Medical Incident,01/11/2002,01/10/2002,Other,01/11/2002 03:18:05 AM,500 Block of FILBERT ST,SF,94133,B01,28,1265,3,3,3,false,&quot;&quot;,1,ENGINE,1,1,3,North Beach,&quot;(37.8013950796063, -122.408729618435)&quot;,020110027-E28,3.6666666666666665\n20110027,M28,2003246,Medical Incident,01/11/2002,01/10/2002,Other,01/11/2002 04:09:14 AM,500 Block of FILBERT ST,SF,94133,B01,28,1265,3,3,3,true,&quot;&quot;,1,MEDIC,2,1,3,North Beach,&quot;(37.8013950796063, -122.408729618435)&quot;,020110027-M28,3.0833333333333335\n20110028,E21,2003247,Vehicle Fire,01/11/2002,01/10/2002,Other,01/11/2002 03:55:07 AM,1000 Block of OAK ST,SF,94117,B05,21,4141,3,3,3,false,&quot;&quot;,1,ENGINE,1,5,5,Hayes Valley,&quot;(37.7732938420762, -122.436598149618)&quot;,020110028-E21,1.8833333333333333\n20110029,E08,2003248,Medical Incident,01/11/2002,01/10/2002,Other,01/11/2002 03:28:28 AM,800 Block of BRYANT ST,SF,94103,B03,08,2255,3,3,3,false,&quot;&quot;,1,ENGINE,2,3,6,South of Market,&quot;(37.775420706711, -122.403404791479)&quot;,020110029-E08,3.4\n20110029,M08,2003248,Medical Incident,01/11/2002,01/10/2002,Other,01/11/2002 04:02:46 AM,800 Block of BRYANT ST,SF,94103,B03,08,2255,3,3,3,true,&quot;&quot;,1,MEDIC,1,3,6,South of Market,&quot;(37.775420706711, -122.403404791479)&quot;,020110029-M08,2.45\n20110031,E36,2003249,Outside Fire,01/11/2002,01/10/2002,Other,01/11/2002 03:56:54 AM,1600 Block of MISSION ST,SF,94103,B02,36,5116,3,3,3,false,&quot;&quot;,1,ENGINE,1,2,6,Mission,&quot;(37.7720141510333, -122.419088601412)&quot;,020110031-E36,2.6166666666666667\n20110032,E11,2003250,Vehicle Fire,01/11/2002,01/10/2002,Other,01/11/2002 04:16:46 AM,APPLETON AV/MISSION ST,SF,94110,B06,32,5626,3,3,3,false,&quot;&quot;,1,ENGINE,1,6,9,Bernal Heights,&quot;(37.7388432849018, -122.423948785199)&quot;,020110032-E11,1.5\n20110033,E03,2003251,Outside Fire,01/11/2002,01/10/2002,Other,01/11/2002 04:13:10 AM,GOLDEN GATE AV/LARKIN ST,SF,94102,B02,03,1644,3,3,3,false,&quot;&quot;,1,ENGINE,1,2,6,Tenderloin,&quot;(37.7814474940022, -122.417145613411)&quot;,020110033-E03,2.283333333333333\n20110034,E35,2003252,Outside Fire,01/11/2002,01/10/2002,Other,01/11/2002 04:23:13 AM,BEALE ST/HOWARD ST,SF,94105,B03,35,2124,3,3,3,false,&quot;&quot;,1,ENGINE,1,3,6,Financial District/South Beach,&quot;(37.7899262298106, -122.394276229254)&quot;,020110034-E35,2.4\n20110035,E42,2003253,Medical Incident,01/11/2002,01/10/2002,Other,01/11/2002 04:31:08 AM,1200 Block of CORTLAND AVE,SF,94110,B10,32,5725,3,3,3,true,&quot;&quot;,1,ENGINE,1,10,9,Bernal Heights,&quot;(37.7397966983548, -122.411715561027)&quot;,020110035-E42,2.7\n20110035,M32,2003253,Medical Incident,01/11/2002,01/10/2002,Other,01/11/2002 04:59:27 AM,1200 Block of CORTLAND AVE,SF,94110,B10,32,5725,3,3,3,true,&quot;&quot;,1,MEDIC,2,10,9,Bernal Heights,&quot;(37.7397966983548, -122.411715561027)&quot;,020110035-M32,4.483333333333333\n20110036,E42,2003254,Smoke Investigation (Outside),01/11/2002,01/10/2002,Other,01/11/2002 05:12:18 AM,CALL BOX: CAMBRIDGE ST/STONEYBROOK AV,SF,94112,B09,32,5681,3,3,3,true,&quot;&quot;,1,ENGINE,1,9,11,Excelsior,&quot;(37.7310405925555, -122.421708125046)&quot;,020110036-E42,2.216666666666667\n20110037,E25,2003255,Outside Fire,01/11/2002,01/10/2002,Other,01/11/2002 05:47:57 AM,EVANS AV/TOLAND ST,SF,94124,B10,09,6422,3,3,3,false,&quot;&quot;,1,ENGINE,1,10,10,Bayview Hunters Point,&quot;(37.7472623482525, -122.396008614627)&quot;,020110037-E25,2.1333333333333333\n20110038,B05,2003256,Alarms,01/11/2002,01/10/2002,Other,01/11/2002 05:28:08 AM,400 Block of PARNASSUS AVE,SF,94131,B05,12,5155,3,3,3,false,&quot;&quot;,1,CHIEF,1,5,7,Inner Sunset,&quot;(37.7633165969878, -122.458205988587)&quot;,020110038-B05,3.5833333333333335\n20110038,E12,2003256,Alarms,01/11/2002,01/10/2002,Other,01/11/2002 05:37:27 AM,400 Block of PARNASSUS AVE,SF,94131,B05,12,5155,3,3,3,false,&quot;&quot;,1,ENGINE,2,5,7,Inner Sunset,&quot;(37.7633165969878, -122.458205988587)&quot;,020110038-E12,3.8333333333333335\n20110038,T12,2003256,Alarms,01/11/2002,01/10/2002,Other,01/11/2002 05:29:36 AM,400 Block of PARNASSUS AVE,SF,94131,B05,12,5155,3,3,3,false,&quot;&quot;,1,TRUCK,3,5,7,Inner Sunset,&quot;(37.7633165969878, -122.458205988587)&quot;,020110038-T12,4.666666666666667\n20110039,M41,2003257,Medical Incident,01/11/2002,01/10/2002,Other,01/11/2002 06:04:36 AM,400 Block of OFARRELL ST,SF,94102,B01,01,1452,2,2,2,true,&quot;&quot;,1,MEDIC,1,3,6,Tenderloin,&quot;(37.7858903312278, -122.411725719434)&quot;,020110039-M41,7.85\n20110042,E16,2003258,Medical Incident,01/11/2002,01/10/2002,Other,01/11/2002 06:08:57 AM,BAY ST/OCTAVIA ST,SF,94123,B04,16,3342,3,3,3,false,&quot;&quot;,1,ENGINE,1,4,2,Marina,&quot;(37.8035178181736, -122.430044997482)&quot;,020110042-E16,2.783333333333333\n20110042,M38,2003258,Medical Incident,01/11/2002,01/10/2002,Other,01/11/2002 06:05:22 AM,BAY ST/OCTAVIA ST,SF,94123,B04,16,3342,3,3,3,true,&quot;&quot;,1,MEDIC,2,4,2,Marina,&quot;(37.8035178181736, -122.430044997482)&quot;,020110042-M38,3.5166666666666666\n20110043,B04,2003259,Alarms,01/11/2002,01/10/2002,Other,01/11/2002 06:01:58 AM,1400 Block of SUTTER ST,SF,94109,B04,03,3223,3,3,3,false,&quot;&quot;,1,CHIEF,2,4,2,Western Addition,&quot;(37.7872890372638, -122.424236212664)&quot;,020110043-B04,3.4833333333333334\n20110043,E03,2003259,Alarms,01/11/2002,01/10/2002,Other,01/11/2002 06:09:24 AM,1400 Block of SUTTER ST,SF,94109,B04,03,3223,3,3,3,false,&quot;&quot;,1,ENGINE,1,4,2,Western Addition,&quot;(37.7872890372638, -122.424236212664)&quot;,020110043-E03,2.55\n20110043,T03,2003259,Alarms,01/11/2002,01/10/2002,Other,01/11/2002 06:01:58 AM,1400 Block of SUTTER ST,SF,94109,B04,03,3223,3,3,3,false,&quot;&quot;,1,TRUCK,3,4,2,Western Addition,&quot;(37.7872890372638, -122.424236212664)&quot;,020110043-T03,3.3833333333333333\n20110044,E01,2003260,Medical Incident,01/11/2002,01/10/2002,Other,01/11/2002 06:11:49 AM,0 Block of TURK ST,SF,94102,B03,01,1365,3,3,3,false,&quot;&quot;,1,ENGINE,2,3,6,Tenderloin,&quot;(37.7833862379382, -122.409853729941)&quot;,020110044-E01,2.4833333333333334\n20110044,M01,2003260,Medical Incident,01/11/2002,01/10/2002,Other,01/11/2002 06:40:32 AM,0 Block of TURK ST,SF,94102,B03,01,1365,3,3,3,true,&quot;&quot;,1,MEDIC,1,3,6,Tenderloin,&quot;(37.7833862379382, -122.409853729941)&quot;,020110044-M01,2.1333333333333333\n20110045,E42,2003261,Medical Incident,01/11/2002,01/10/2002,Other,01/11/2002 06:29:09 AM,1300 Block of SILVER AVE,SF,94134,B10,42,6356,3,3,3,true,&quot;&quot;,1,ENGINE,1,9,9,Portola,&quot;(37.7313928327632, -122.409221235075)&quot;,020110045-E42,3.7333333333333334\n20110045,M17,2003261,Medical Incident,01/11/2002,01/10/2002,Other,01/11/2002 07:33:17 AM,1300 Block of SILVER AVE,SF,94134,B10,42,6356,3,3,3,true,&quot;&quot;,1,MEDIC,2,9,9,Portola,&quot;(37.7313928327632, -122.409221235075)&quot;,020110045-M17,77.33333333333333\n20110045,M32,2003261,Medical Incident,01/11/2002,01/10/2002,Other,&quot;&quot;,1300 Block of SILVER AVE,SF,94134,B10,42,6356,3,3,3,true,&quot;&quot;,1,MEDIC,3,9,9,Portola,&quot;(37.7313928327632, -122.409221235075)&quot;,020110045-M32,3.5833333333333335\n20110046,E01,2003262,Medical Incident,01/11/2002,01/10/2002,Other,01/11/2002 06:30:51 AM,SANSOME ST/SUTTER ST,SF,94104,B01,13,1164,3,3,3,false,&quot;&quot;,1,ENGINE,1,1,3,Financial District/South Beach,&quot;(37.7902474029119, -122.400555263617)&quot;,020110046-E01,4.4\n20110046,M13,2003262,Medical Incident,01/11/2002,01/10/2002,Other,01/11/2002 07:16:55 AM,SANSOME ST/SUTTER ST,SF,94104,B01,13,1164,3,3,3,true,&quot;&quot;,1,MEDIC,2,1,3,Financial District/South Beach,&quot;(37.7902474029119, -122.400555263617)&quot;,020110046-M13,5.416666666666667\n20110050,B01,2003264,Alarms,01/11/2002,01/10/2002,Other,01/11/2002 06:32:14 AM,400 Block of SANSOME ST,SF,94111,B01,13,1166,3,3,3,false,&quot;&quot;,1,CHIEF,1,1,3,Chinatown,&quot;(37.7946419086629, -122.401377352704)&quot;,020110050-B01,2.283333333333333\n20110050,E02,2003264,Alarms,01/11/2002,01/10/2002,Other,01/11/2002 06:31:30 AM,400 Block of SANSOME ST,SF,94111,B01,13,1166,3,3,3,false,&quot;&quot;,1,ENGINE,2,1,3,Chinatown,&quot;(37.7946419086629, -122.401377352704)&quot;,020110050-E02,3.0833333333333335\n20110050,T02,2003264,Alarms,01/11/2002,01/10/2002,Other,01/11/2002 06:32:14 AM,400 Block of SANSOME ST,SF,94111,B01,13,1166,3,3,3,false,&quot;&quot;,1,TRUCK,3,1,3,Chinatown,&quot;(37.7946419086629, -122.401377352704)&quot;,020110050-T02,3.4833333333333334\n20110055,M43,2003265,Medical Incident,01/11/2002,01/10/2002,Other,01/11/2002 08:47:38 AM,700 Block of VISITACION AVE,SF,94134,B09,44,6256,1,1,2,true,&quot;&quot;,1,MEDIC,1,9,10,Visitacion Valley,&quot;(37.7111254719262, -122.406576155247)&quot;,020110055-M43,6.5\n20110056,E25,2003266,Outside Fire,01/11/2002,01/10/2002,Other,01/11/2002 07:10:41 AM,JENNINGS ST/REVERE AV,SF,94124,B10,17,6571,3,3,3,false,&quot;&quot;,1,ENGINE,1,10,10,Bayview Hunters Point,&quot;(37.7295427123834, -122.38641847796)&quot;,020110056-E25,4.283333333333333\n20110057,B01,2003267,Alarms,01/11/2002,01/10/2002,Other,01/11/2002 07:13:01 AM,2500 Block of VAN NESS AVE,SF,94109,B04,16,3146,3,3,3,false,&quot;&quot;,1,CHIEF,1,4,2,Russian Hill,&quot;(37.7990402347578, -122.42390548516)&quot;,020110057-B01,2.1666666666666665\n20110057,E16,2003267,Alarms,01/11/2002,01/10/2002,Other,01/11/2002 07:15:28 AM,2500 Block of VAN NESS AVE,SF,94109,B04,16,3146,3,3,3,false,&quot;&quot;,1,ENGINE,2,4,2,Russian Hill,&quot;(37.7990402347578, -122.42390548516)&quot;,020110057-E16,2.9833333333333334\n20110057,T16,2003267,Alarms,01/11/2002,01/10/2002,Other,01/11/2002 07:11:57 AM,2500 Block of VAN NESS AVE,SF,94109,B04,16,3146,3,3,3,false,&quot;&quot;,1,TRUCK,3,4,2,Russian Hill,&quot;(37.7990402347578, -122.42390548516)&quot;,020110057-T16,3.0166666666666666\n20110058,E22,2003268,Medical Incident,01/11/2002,01/10/2002,Other,01/11/2002 07:15:04 AM,2700 Block of LINCOLN WAY,SF,94122,B08,22,7512,3,3,3,false,&quot;&quot;,1,ENGINE,1,8,4,Sunset/Parkside,&quot;(37.7649109889038, -122.487428529752)&quot;,020110058-E22,6.85\n20110058,M18,2003268,Medical Incident,01/11/2002,01/10/2002,Other,01/11/2002 08:16:06 AM,2700 Block of LINCOLN WAY,SF,94122,B08,22,7512,3,3,3,true,&quot;&quot;,1,MEDIC,2,8,4,Sunset/Parkside,&quot;(37.7649109889038, -122.487428529752)&quot;,020110058-M18,6.85\n20110059,M36,2003269,Medical Incident,01/11/2002,01/10/2002,Other,01/11/2002 07:23:36 AM,16TH ST/SANCHEZ ST,SF,94114,B05,06,5231,3,3,3,true,&quot;&quot;,1,MEDIC,1,5,8,Castro/Upper Market,&quot;(37.7643735105108, -122.430882154098)&quot;,020110059-M36,3.2333333333333334\n20110060,E36,2003270,Medical Incident,01/11/2002,01/10/2002,Other,01/11/2002 07:24:53 AM,100 Block of VAN NESS AVE,SF,94102,B02,36,3166,3,3,3,false,&quot;&quot;,1,ENGINE,1,2,6,Tenderloin,&quot;(37.7768524577717, -122.419455012102)&quot;,020110060-E36,3.95\n20110060,M05,2003270,Medical Incident,01/11/2002,01/10/2002,Other,01/11/2002 08:00:10 AM,100 Block of VAN NESS AVE,SF,94102,B02,36,3166,3,3,3,true,&quot;&quot;,1,MEDIC,2,2,6,Tenderloin,&quot;(37.7768524577717, -122.419455012102)&quot;,020110060-M05,3.8333333333333335\n20110061,M01,2003271,Medical Incident,01/11/2002,01/10/2002,Other,01/11/2002 07:43:40 AM,0 Block of WASHBURN ST,SF,94103,B02,36,2336,2,2,2,true,&quot;&quot;,1,MEDIC,1,2,6,South of Market,&quot;(37.7752362231466, -122.414406294791)&quot;,020110061-M01,6.333333333333333\n20110062,M07,2003272,Medical Incident,01/11/2002,01/10/2002,Other,01/11/2002 08:22:39 AM,100 Block of DIAMOND ST,SF,94114,B05,06,5415,2,2,2,true,&quot;&quot;,1,MEDIC,1,6,8,Castro/Upper Market,&quot;(37.7599619000358, -122.437045577764)&quot;,020110062-M07,7.016666666666667\n20110063,B07,2003273,Alarms,01/11/2002,01/10/2002,Other,01/11/2002 07:25:06 AM,100 Block of JORDAN AVE,SF,94118,B07,10,4452,3,3,3,false,&quot;&quot;,1,CHIEF,2,7,2,Presidio Heights,&quot;(37.7826808102254, -122.456790301039)&quot;,020110063-B07,3.5166666666666666\n20110063,E10,2003273,Alarms,01/11/2002,01/10/2002,Other,01/11/2002 07:25:06 AM,100 Block of JORDAN AVE,SF,94118,B07,10,4452,3,3,3,false,&quot;&quot;,1,ENGINE,1,7,2,Presidio Heights,&quot;(37.7826808102254, -122.456790301039)&quot;,020110063-E10,3.966666666666667\n20110063,T10,2003273,Alarms,01/11/2002,01/10/2002,Other,01/11/2002 07:25:06 AM,100 Block of JORDAN AVE,SF,94118,B07,10,4452,3,3,3,false,&quot;&quot;,1,TRUCK,3,7,2,Presidio Heights,&quot;(37.7826808102254, -122.456790301039)&quot;,020110063-T10,2.9\n20110066,93,2003274,Medical Incident,01/11/2002,01/10/2002,Other,01/11/2002 08:21:08 AM,600 Block of VAN NESS AVE,SF,94102,B02,36,3164,2,2,2,false,&quot;&quot;,1,MEDIC,1,2,5,Western Addition,&quot;(37.78147394156, -122.42068958116)&quot;,020110066-93,9.1\n20110067,B03,2003275,Alarms,01/11/2002,01/10/2002,Other,01/11/2002 07:45:59 AM,300 Block of MAIN ST,SF,94105,B03,35,2117,3,3,3,false,&quot;&quot;,1,CHIEF,2,3,6,Financial District/South Beach,&quot;(37.7887132628625, -122.39113809089)&quot;,020110067-B03,2.2666666666666666\n20110067,E35,2003275,Alarms,01/11/2002,01/10/2002,Other,01/11/2002 07:45:59 AM,300 Block of MAIN ST,SF,94105,B03,35,2117,3,3,3,false,&quot;&quot;,1,ENGINE,1,3,6,Financial District/South Beach,&quot;(37.7887132628625, -122.39113809089)&quot;,020110067-E35,2.966666666666667\n20110067,T08,2003275,Alarms,01/11/2002,01/10/2002,Other,01/11/2002 07:45:39 AM,300 Block of MAIN ST,SF,94105,B03,35,2117,3,3,3,false,&quot;&quot;,1,TRUCK,3,3,6,Financial District/South Beach,&quot;(37.7887132628625, -122.39113809089)&quot;,020110067-T08,2.7666666666666666\n20110068,M17,2003276,Medical Incident,01/11/2002,01/10/2002,Other,01/11/2002 07:52:58 AM,1500 Block of QUESADA AVE,SF,94124,B10,17,6535,1,1,2,true,&quot;&quot;,1,MEDIC,1,10,10,Bayview Hunters Point,&quot;(37.7317161358979, -122.388705102774)&quot;,020110068-M17,5.983333333333333\n20110070,B07,2003277,Structure Fire,01/11/2002,01/10/2002,Other,01/11/2002 08:41:21 AM,1500 Block of 25TH AVE,SF,94122,B08,18,7454,3,3,3,false,&quot;&quot;,1,CHIEF,4,8,4,Sunset/Parkside,&quot;(37.7586192328271, -122.483157716813)&quot;,020110070-B07,2.283333333333333\n20110070,B08,2003277,Structure Fire,01/11/2002,01/10/2002,Other,01/11/2002 08:40:38 AM,1500 Block of 25TH AVE,SF,94122,B08,18,7454,3,3,3,false,&quot;&quot;,1,CHIEF,2,8,4,Sunset/Parkside,&quot;(37.7586192328271, -122.483157716813)&quot;,020110070-B08,3.033333333333333\n20110070,D2,2003277,Structure Fire,01/11/2002,01/10/2002,Other,01/11/2002 08:15:42 AM,1500 Block of 25TH AVE,SF,94122,B08,18,7454,3,3,3,false,&quot;&quot;,1,CHIEF,11,8,4,Sunset/Parkside,&quot;(37.7586192328271, -122.483157716813)&quot;,020110070-D2,5.416666666666667\n20110070,E20,2003277,Structure Fire,01/11/2002,01/10/2002,Other,01/11/2002 08:08:20 AM,1500 Block of 25TH AVE,SF,94122,B08,18,7454,3,3,3,false,&quot;&quot;,1,ENGINE,7,8,4,Sunset/Parkside,&quot;(37.7586192328271, -122.483157716813)&quot;,020110070-E20,5.083333333333333\n20110070,E22,2003277,Structure Fire,01/11/2002,01/10/2002,Other,01/11/2002 08:47:17 AM,1500 Block of 25TH AVE,SF,94122,B08,18,7454,3,3,3,false,&quot;&quot;,1,ENGINE,1,8,4,Sunset/Parkside,&quot;(37.7586192328271, -122.483157716813)&quot;,020110070-E22,1.8666666666666667\n20110070,E23,2003277,Structure Fire,01/11/2002,01/10/2002,Other,01/11/2002 08:58:04 AM,1500 Block of 25TH AVE,SF,94122,B08,18,7454,3,3,3,false,&quot;&quot;,1,ENGINE,10,8,4,Sunset/Parkside,&quot;(37.7586192328271, -122.483157716813)&quot;,020110070-E23,2.8666666666666667\n20110070,E40,2003277,Structure Fire,01/11/2002,01/10/2002,Other,01/11/2002 08:53:28 AM,1500 Block of 25TH AVE,SF,94122,B08,18,7454,3,3,3,true,&quot;&quot;,1,ENGINE,6,8,4,Sunset/Parkside,&quot;(37.7586192328271, -122.483157716813)&quot;,020110070-E40,1.7\n20110070,M12,2003277,Structure Fire,01/11/2002,01/10/2002,Other,01/11/2002 08:13:18 AM,1500 Block of 25TH AVE,SF,94122,B08,18,7454,3,3,3,true,&quot;&quot;,1,MEDIC,3,8,4,Sunset/Parkside,&quot;(37.7586192328271, -122.483157716813)&quot;,020110070-M12,1.8666666666666667\n20110070,RC2,2003277,Structure Fire,01/11/2002,01/10/2002,Other,01/11/2002 08:07:12 AM,1500 Block of 25TH AVE,SF,94122,B08,18,7454,3,3,3,true,&quot;&quot;,1,RESCUE CAPTAIN,9,8,4,Sunset/Parkside,&quot;(37.7586192328271, -122.483157716813)&quot;,020110070-RC2,8.183333333333334\n20110070,RS2,2003277,Structure Fire,01/11/2002,01/10/2002,Other,01/11/2002 08:05:50 AM,1500 Block of 25TH AVE,SF,94122,B08,18,7454,3,3,3,false,&quot;&quot;,1,RESCUE SQUAD,12,8,4,Sunset/Parkside,&quot;(37.7586192328271, -122.483157716813)&quot;,020110070-RS2,2.7333333333333334\n20110070,T12,2003277,Structure Fire,01/11/2002,01/10/2002,Other,01/11/2002 08:18:38 AM,1500 Block of 25TH AVE,SF,94122,B08,18,7454,3,3,3,false,&quot;&quot;,1,TRUCK,8,8,4,Sunset/Parkside,&quot;(37.7586192328271, -122.483157716813)&quot;,020110070-T12,5.983333333333333\n20110070,T18,2003277,Structure Fire,01/11/2002,01/10/2002,Other,01/11/2002 08:52:02 AM,1500 Block of 25TH AVE,SF,94122,B08,18,7454,3,3,3,false,&quot;&quot;,1,TRUCK,5,8,4,Sunset/Parkside,&quot;(37.7586192328271, -122.483157716813)&quot;,020110070-T18,2.6333333333333333\n20110071,E38,2003278,Alarms,01/11/2002,01/10/2002,Other,01/11/2002 08:01:38 AM,2500 Block of PACIFIC AVE,SF,94115,B04,38,3653,3,3,3,false,&quot;&quot;,1,ENGINE,1,4,2,Pacific Heights,&quot;(37.7929775957715, -122.437190625728)&quot;,020110071-E38,3.0\n20110072,E35,2003279,Structure Fire,01/11/2002,01/11/2002,Other,01/11/2002 08:03:26 AM,BEALE ST/FOLSOM ST,SF,94105,B03,35,2122,3,3,3,false,&quot;&quot;,1,ENGINE,1,3,6,Financial District/South Beach,&quot;(37.7886866619654, -122.392722833778)&quot;,020110072-E35,1.1333333333333333\n20110072,T08,2003279,Structure Fire,01/11/2002,01/11/2002,Other,01/11/2002 08:03:26 AM,BEALE ST/FOLSOM ST,SF,94105,B03,35,2122,3,3,3,false,&quot;&quot;,1,TRUCK,2,3,6,Financial District/South Beach,&quot;(37.7886866619654, -122.392722833778)&quot;,020110072-T08,1.75\n20110075,E34,2003280,Medical Incident,01/11/2002,01/11/2002,Other,01/11/2002 08:16:10 AM,GREAT HY/PACHECO ST,SF,94116,B08,23,7726,3,3,3,false,&quot;&quot;,1,ENGINE,2,8,4,Sunset/Parkside,&quot;(37.7491109380411, -122.507941547493)&quot;,020110075-E34,2.1\n20110075,M14,2003280,Medical Incident,01/11/2002,01/11/2002,Other,01/11/2002 08:15:30 AM,GREAT HY/PACHECO ST,SF,94116,B08,23,7726,3,3,3,true,&quot;&quot;,1,MEDIC,3,8,4,Sunset/Parkside,&quot;(37.7491109380411, -122.507941547493)&quot;,020110075-M14,2.066666666666667\n20110075,T19,2003280,Medical Incident,01/11/2002,01/11/2002,Other,01/11/2002 08:13:21 AM,GREAT HY/PACHECO ST,SF,94116,B08,23,7726,3,3,3,false,&quot;&quot;,1,TRUCK,4,8,4,Sunset/Parkside,&quot;(37.7491109380411, -122.507941547493)&quot;,020110075-T19,2.3333333333333335\n20110077,M08,2003284,Medical Incident,01/11/2002,01/11/2002,Other,01/11/2002 08:57:10 AM,200 Block of MARKET ST,SF,94111,B03,13,2809,1,1,2,false,&quot;&quot;,1,MEDIC,1,1,3,Financial District/South Beach,&quot;(37.7928236509312, -122.397034190089)&quot;,020110077-M08,18.066666666666666\n20110078,E14,2003281,Medical Incident,01/11/2002,01/11/2002,Other,01/11/2002 08:28:44 AM,700 Block of LA PLAYA,SF,94121,B07,34,7312,3,3,3,false,&quot;&quot;,1,ENGINE,1,7,1,Outer Richmond,&quot;(37.774196568977, -122.510033790907)&quot;,020110078-E14,1.9\n20110078,M10,2003281,Medical Incident,01/11/2002,01/11/2002,Other,01/11/2002 08:17:08 AM,700 Block of LA PLAYA,SF,94121,B07,34,7312,3,3,3,true,&quot;&quot;,1,MEDIC,4,7,1,Outer Richmond,&quot;(37.774196568977, -122.510033790907)&quot;,020110078-M10,1.7333333333333334\n\n*** WARNING: skipped 15495 bytes of output ***\n\n20110157,M43,2003321,Medical Incident,01/11/2002,01/11/2002,Other,01/11/2002 12:01:46 PM,0 Block of NICHOLS WAY,SF,94124,B10,17,6573,1,1,2,true,&quot;&quot;,1,MEDIC,1,10,10,Bayview Hunters Point,&quot;(37.7194008333885, -122.387234795761)&quot;,020110157-M43,6.3\n20110158,M17,2003320,Medical Incident,01/11/2002,01/11/2002,Other,01/11/2002 10:59:58 AM,KISKA RD/REARDON RD,SF,94124,B10,17,6625,3,3,3,true,&quot;&quot;,1,MEDIC,2,10,10,Bayview Hunters Point,&quot;(37.730015828394, -122.377202614092)&quot;,020110158-M17,3.216666666666667\n20110158,T17,2003320,Medical Incident,01/11/2002,01/11/2002,Other,01/11/2002 11:04:46 AM,KISKA RD/REARDON RD,SF,94124,B10,17,6625,3,3,3,false,&quot;&quot;,1,TRUCK,1,10,10,Bayview Hunters Point,&quot;(37.730015828394, -122.377202614092)&quot;,020110158-T17,2.783333333333333\n20110162,E44,2003322,Medical Incident,01/11/2002,01/11/2002,Other,01/11/2002 11:27:05 AM,1200 Block of BRUSSELS ST,SF,94134,B10,44,6316,3,3,3,false,&quot;&quot;,1,ENGINE,1,10,10,Visitacion Valley,&quot;(37.7168985416661, -122.40141886537)&quot;,020110162-E44,5.633333333333334\n20110163,E05,2003323,Medical Incident,01/11/2002,01/11/2002,Other,01/11/2002 11:10:11 AM,800 Block of FILLMORE ST,SF,94117,B05,05,3533,3,3,3,false,&quot;&quot;,1,ENGINE,3,2,5,Hayes Valley,&quot;(37.7772385093234, -122.431411206619)&quot;,020110163-E05,5.05\n20110163,M38,2003323,Medical Incident,01/11/2002,01/11/2002,Other,01/11/2002 12:13:33 PM,800 Block of FILLMORE ST,SF,94117,B05,05,3533,3,3,3,true,&quot;&quot;,1,MEDIC,1,2,5,Hayes Valley,&quot;(37.7772385093234, -122.431411206619)&quot;,020110163-M38,5.633333333333334\n20110164,E25,2003324,Structure Fire,01/11/2002,01/11/2002,Other,01/11/2002 11:09:34 AM,EARL ST/LA SALLE AV,SF,94124,B10,17,6664,3,3,3,false,&quot;&quot;,1,ENGINE,1,10,10,Bayview Hunters Point,&quot;(37.7280054654209, -122.373766115675)&quot;,020110164-E25,0.5333333333333333\n20110164,T17,2003324,Structure Fire,01/11/2002,01/11/2002,Other,01/11/2002 11:09:34 AM,EARL ST/LA SALLE AV,SF,94124,B10,17,6664,3,3,3,false,&quot;&quot;,1,TRUCK,2,10,10,Bayview Hunters Point,&quot;(37.7280054654209, -122.373766115675)&quot;,020110164-T17,0.48333333333333334\n20110165,E43,2003325,Medical Incident,01/11/2002,01/11/2002,Other,01/11/2002 11:47:00 AM,300 Block of LA GRANDE AVE,SF,94112,B09,43,0616,3,3,3,true,&quot;&quot;,1,ENGINE,1,9,11,McLaren Park,&quot;(37.7197515959451, -122.425588438069)&quot;,020110165-E43,2.45\n20110165,M17,2003325,Medical Incident,01/11/2002,01/11/2002,Other,01/11/2002 12:24:38 PM,300 Block of LA GRANDE AVE,SF,94112,B09,43,0616,3,3,3,true,&quot;&quot;,1,MEDIC,3,9,11,McLaren Park,&quot;(37.7197515959451, -122.425588438069)&quot;,020110165-M17,3.566666666666667\n20110165,RC3,2003325,Medical Incident,01/11/2002,01/11/2002,Other,01/11/2002 11:45:53 AM,300 Block of LA GRANDE AVE,SF,94112,B09,43,0616,3,3,3,true,&quot;&quot;,1,RESCUE CAPTAIN,2,9,11,McLaren Park,&quot;(37.7197515959451, -122.425588438069)&quot;,020110165-RC3,2.3\n20110166,B04,2003326,Alarms,01/11/2002,01/11/2002,Other,01/11/2002 11:10:54 AM,2200 Block of JACKSON ST,SF,94115,B04,38,3465,3,3,3,false,&quot;&quot;,1,CHIEF,2,4,2,Pacific Heights,&quot;(37.7928385256344, -122.432101129272)&quot;,020110166-B04,1.85\n20110166,E38,2003326,Alarms,01/11/2002,01/11/2002,Other,01/11/2002 11:14:39 AM,2200 Block of JACKSON ST,SF,94115,B04,38,3465,3,3,3,false,&quot;&quot;,1,ENGINE,1,4,2,Pacific Heights,&quot;(37.7928385256344, -122.432101129272)&quot;,020110166-E38,1.7166666666666666\n20110166,T13,2003326,Alarms,01/11/2002,01/11/2002,Other,01/11/2002 11:10:38 AM,2200 Block of JACKSON ST,SF,94115,B04,38,3465,3,3,3,true,&quot;&quot;,1,TRUCK,3,4,2,Pacific Heights,&quot;(37.7928385256344, -122.432101129272)&quot;,020110166-T13,2.2\n20110167,E34,2003327,Medical Incident,01/11/2002,01/11/2002,Other,01/11/2002 11:24:09 AM,600 Block of 39TH AVE,SF,94121,B07,34,7257,3,3,3,false,&quot;&quot;,1,ENGINE,1,7,1,Outer Richmond,&quot;(37.776553267268, -122.499453605944)&quot;,020110167-E34,2.6666666666666665\n20110167,E40,2003327,Medical Incident,01/11/2002,01/11/2002,Other,01/11/2002 11:32:14 AM,600 Block of 39TH AVE,SF,94121,B07,34,7257,3,3,3,true,&quot;&quot;,1,ENGINE,2,7,1,Outer Richmond,&quot;(37.776553267268, -122.499453605944)&quot;,020110167-E40,2.35\n20110167,M10,2003327,Medical Incident,01/11/2002,01/11/2002,Other,01/11/2002 12:11:33 PM,600 Block of 39TH AVE,SF,94121,B07,34,7257,3,3,3,true,&quot;&quot;,1,MEDIC,3,7,1,Outer Richmond,&quot;(37.776553267268, -122.499453605944)&quot;,020110167-M10,1.7166666666666666\n20110170,M01,2003332,Medical Incident,01/11/2002,01/11/2002,Other,01/11/2002 11:55:28 AM,1100 Block of HOWARD ST,SF,94103,B03,01,2314,1,1,2,true,&quot;&quot;,1,MEDIC,1,2,6,South of Market,&quot;(37.7768521020734, -122.410711239368)&quot;,020110170-M01,12.733333333333333\n20110171,M12,2003328,Medical Incident,01/11/2002,01/11/2002,Other,01/11/2002 12:08:45 PM,1500 Block of SLOAT BLVD,SF,94132,B08,19,7552,3,3,3,true,&quot;&quot;,1,MEDIC,2,8,7,Sunset/Parkside,&quot;(37.7339504451524, -122.489699172676)&quot;,020110171-M12,2.1166666666666667\n20110171,T19,2003328,Medical Incident,01/11/2002,01/11/2002,Other,01/11/2002 11:43:36 AM,1500 Block of SLOAT BLVD,SF,94132,B08,19,7552,3,3,3,false,&quot;&quot;,1,TRUCK,1,8,7,Sunset/Parkside,&quot;(37.7339504451524, -122.489699172676)&quot;,020110171-T19,1.0833333333333333\n20110173,T15,2003329,Other,01/11/2002,01/11/2002,Other,01/11/2002 11:27:48 AM,300 Block of VERNON ST,SF,94132,B09,33,8432,3,3,3,false,&quot;&quot;,1,TRUCK,1,9,11,Oceanview/Merced/Ingleside,&quot;(37.7187824064466, -122.468113420522)&quot;,020110173-T15,2.8833333333333333\n20110174,E31,2003330,Structure Fire,01/11/2002,01/11/2002,Other,01/11/2002 11:18:08 AM,25TH AV/GEARY BL,SF,94121,B07,14,7213,3,3,3,false,&quot;&quot;,1,ENGINE,1,7,1,Outer Richmond,&quot;(37.7800925816609, -122.484732261339)&quot;,020110174-E31,1.4\n20110174,T10,2003330,Structure Fire,01/11/2002,01/11/2002,Other,01/11/2002 11:18:00 AM,25TH AV/GEARY BL,SF,94121,B07,14,7213,3,3,3,true,&quot;&quot;,1,TRUCK,2,7,1,Outer Richmond,&quot;(37.7800925816609, -122.484732261339)&quot;,020110174-T10,1.9166666666666667\n20110175,B01,2003331,Alarms,01/11/2002,01/11/2002,Other,01/11/2002 11:24:03 AM,800 Block of CLAY ST,SF,94108,B01,13,1313,3,3,3,false,&quot;&quot;,1,CHIEF,1,1,3,Chinatown,&quot;(37.794138132306, -122.407728738815)&quot;,020110175-B01,0.9\n20110175,E02,2003331,Alarms,01/11/2002,01/11/2002,Other,01/11/2002 11:26:14 AM,800 Block of CLAY ST,SF,94108,B01,13,1313,3,3,3,false,&quot;&quot;,1,ENGINE,2,1,3,Chinatown,&quot;(37.794138132306, -122.407728738815)&quot;,020110175-E02,2.0166666666666666\n20110175,T02,2003331,Alarms,01/11/2002,01/11/2002,Other,01/11/2002 11:26:18 AM,800 Block of CLAY ST,SF,94108,B01,13,1313,3,3,3,false,&quot;&quot;,1,TRUCK,3,1,3,Chinatown,&quot;(37.794138132306, -122.407728738815)&quot;,020110175-T02,2.5166666666666666\n20110179,E07,2003334,Medical Incident,01/11/2002,01/11/2002,Other,01/11/2002 11:35:54 AM,3700 Block of 20TH ST,SF,94110,B06,07,5445,3,3,3,false,&quot;&quot;,1,ENGINE,1,6,8,Mission,&quot;(37.7582409266449, -122.424622419096)&quot;,020110179-E07,1.8666666666666667\n20110180,93,2003335,Medical Incident,01/11/2002,01/11/2002,Other,01/11/2002 12:13:17 PM,300 Block of ELLIS ST,SF,94102,B03,03,1461,3,3,3,true,&quot;&quot;,1,MEDIC,1,3,6,Tenderloin,&quot;(37.7849161843633, -122.411950042222)&quot;,020110180-93,6.15\n20110180,E01,2003335,Medical Incident,01/11/2002,01/11/2002,Other,01/11/2002 11:29:55 AM,300 Block of ELLIS ST,SF,94102,B03,03,1461,3,3,3,false,&quot;&quot;,1,ENGINE,2,3,6,Tenderloin,&quot;(37.7849161843633, -122.411950042222)&quot;,020110180-E01,7.3\n20110187,E05,2003336,Structure Fire,01/11/2002,01/11/2002,Other,01/11/2002 11:37:02 AM,FILLMORE ST/GEARY BL,SF,94115,B04,05,3541,3,3,3,false,&quot;&quot;,1,ENGINE,1,4,5,Western Addition,&quot;(37.7843550554153, -122.432914248043)&quot;,020110187-E05,0.9333333333333333\n20110187,T05,2003336,Structure Fire,01/11/2002,01/11/2002,Other,01/11/2002 11:37:13 AM,FILLMORE ST/GEARY BL,SF,94115,B04,05,3541,3,3,3,false,&quot;&quot;,1,TRUCK,2,4,5,Western Addition,&quot;(37.7843550554153, -122.432914248043)&quot;,020110187-T05,1.4833333333333334\n20110189,E12,2003337,Structure Fire,01/11/2002,01/11/2002,Other,01/11/2002 11:39:56 AM,CLAYTON ST/HAIGHT ST,SF,94117,B05,12,4525,3,3,3,true,&quot;&quot;,1,ENGINE,1,5,5,Haight Ashbury,&quot;(37.7697978509271, -122.448578814838)&quot;,020110189-E12,1.6166666666666667\n20110189,T12,2003337,Structure Fire,01/11/2002,01/11/2002,Other,01/11/2002 11:39:49 AM,CLAYTON ST/HAIGHT ST,SF,94117,B05,12,4525,3,3,3,false,&quot;&quot;,1,TRUCK,2,5,5,Haight Ashbury,&quot;(37.7697978509271, -122.448578814838)&quot;,020110189-T12,1.75\n20110190,M28,2003338,Medical Incident,01/11/2002,01/11/2002,Other,01/11/2002 11:51:13 AM,JACKSON ST/KEARNY ST,SF,94111,B01,13,1246,2,2,2,true,&quot;&quot;,1,MEDIC,1,1,3,Chinatown,&quot;(37.7962109543445, -122.405142978523)&quot;,020110190-M28,5.383333333333334\n20110192,B09,2003339,Structure Fire,01/11/2002,01/11/2002,Other,01/11/2002 11:47:00 AM,700 Block of FONT BLVD,SF,94132,B08,19,0868,3,3,3,false,&quot;&quot;,1,CHIEF,3,8,7,Lakeshore,&quot;(37.7230583826676, -122.483551461982)&quot;,020110192-B09,0.9833333333333333\n20110192,E19,2003339,Structure Fire,01/11/2002,01/11/2002,Other,01/11/2002 11:47:04 AM,700 Block of FONT BLVD,SF,94132,B08,19,0868,3,3,3,false,&quot;&quot;,1,ENGINE,1,8,7,Lakeshore,&quot;(37.7230583826676, -122.483551461982)&quot;,020110192-E19,0.9\n20110192,T19,2003339,Structure Fire,01/11/2002,01/11/2002,Other,01/11/2002 11:47:04 AM,700 Block of FONT BLVD,SF,94132,B08,19,0868,3,3,3,false,&quot;&quot;,1,TRUCK,2,8,7,Lakeshore,&quot;(37.7230583826676, -122.483551461982)&quot;,020110192-T19,0.9\n20110193,E02,2003340,Medical Incident,01/11/2002,01/11/2002,Other,01/11/2002 12:03:06 PM,400 Block of DAVIS CT,SF,94111,B01,13,1132,3,3,3,false,&quot;&quot;,1,ENGINE,2,1,3,Financial District/South Beach,&quot;(37.7967073395076, -122.398186156213)&quot;,020110193-E02,4.583333333333333\n20110193,M13,2003340,Medical Incident,01/11/2002,01/11/2002,Other,01/11/2002 12:57:57 PM,400 Block of DAVIS CT,SF,94111,B01,13,1132,3,3,3,true,&quot;&quot;,1,MEDIC,1,1,3,Financial District/South Beach,&quot;(37.7967073395076, -122.398186156213)&quot;,020110193-M13,3.783333333333333\n20110194,B01,2003341,Alarms,01/11/2002,01/11/2002,Other,01/11/2002 12:06:02 PM,1100 Block of BAY ST,SF,94123,B04,16,3236,3,3,3,false,&quot;&quot;,1,CHIEF,1,4,2,Marina,&quot;(37.8040712581595, -122.42525853062)&quot;,020110194-B01,0.8833333333333333\n20110194,E16,2003341,Alarms,01/11/2002,01/11/2002,Other,01/11/2002 12:07:44 PM,1100 Block of BAY ST,SF,94123,B04,16,3236,3,3,3,false,&quot;&quot;,1,ENGINE,3,4,2,Marina,&quot;(37.8040712581595, -122.42525853062)&quot;,020110194-E16,1.8666666666666667\n20110194,T16,2003341,Alarms,01/11/2002,01/11/2002,Other,01/11/2002 12:08:09 PM,1100 Block of BAY ST,SF,94123,B04,16,3236,3,3,3,false,&quot;&quot;,1,TRUCK,2,4,2,Marina,&quot;(37.8040712581595, -122.42525853062)&quot;,020110194-T16,3.033333333333333\n20110196,E28,2003342,Medical Incident,01/11/2002,01/11/2002,Other,01/11/2002 12:05:28 PM,600 Block of COMMERCIAL ST,SF,94111,B01,13,1233,3,3,3,false,&quot;&quot;,1,ENGINE,2,1,3,Chinatown,&quot;(37.794064372319, -122.403868638307)&quot;,020110196-E28,8.0\n20110196,M28,2003342,Medical Incident,01/11/2002,01/11/2002,Other,01/11/2002 11:59:38 AM,600 Block of COMMERCIAL ST,SF,94111,B01,13,1233,3,3,3,true,&quot;&quot;,1,MEDIC,3,1,3,Chinatown,&quot;(37.794064372319, -122.403868638307)&quot;,020110196-M28,7.766666666666667\n20110197,E05,2003343,Medical Incident,01/11/2002,01/11/2002,Other,01/11/2002 12:06:57 PM,1500 Block of WEBSTER ST,SF,94115,B04,05,3513,3,3,3,false,&quot;&quot;,1,ENGINE,1,4,5,Japantown,&quot;(37.784958590666, -122.431435274503)&quot;,020110197-E05,1.5166666666666666\n20110197,M05,2003343,Medical Incident,01/11/2002,01/11/2002,Other,01/11/2002 12:47:23 PM,1500 Block of WEBSTER ST,SF,94115,B04,05,3513,3,3,3,true,&quot;&quot;,1,MEDIC,2,4,5,Japantown,&quot;(37.784958590666, -122.431435274503)&quot;,020110197-M05,1.4166666666666667\n20110198,E15,2003344,Medical Incident,01/11/2002,01/11/2002,Other,01/11/2002 12:12:04 PM,0 Block of THERESA ST,SF,94112,B09,15,8264,3,3,3,true,&quot;&quot;,1,ENGINE,1,9,11,Outer Mission,&quot;(37.7282713187706, -122.433385191341)&quot;,020110198-E15,1.8833333333333333\n20110198,M15,2003344,Medical Incident,01/11/2002,01/11/2002,Other,01/11/2002 12:29:18 PM,0 Block of THERESA ST,SF,94112,B09,15,8264,3,3,3,true,&quot;&quot;,1,MEDIC,2,9,11,Outer Mission,&quot;(37.7282713187706, -122.433385191341)&quot;,020110198-M15,3.4\n20110198,RC4,2003344,Medical Incident,01/11/2002,01/11/2002,Other,01/11/2002 12:19:19 PM,0 Block of THERESA ST,SF,94112,B09,15,8264,3,3,3,true,&quot;&quot;,1,RESCUE CAPTAIN,3,9,11,Outer Mission,&quot;(37.7282713187706, -122.433385191341)&quot;,020110198-RC4,5.25\n20110204,E23,2003346,Medical Incident,01/11/2002,01/11/2002,Other,01/11/2002 12:27:30 PM,1300 Block of 46TH AVE,SF,94122,B08,23,7721,3,3,3,true,&quot;&quot;,1,ENGINE,1,8,4,Sunset/Parkside,&quot;(37.7613577781783, -122.505924512458)&quot;,020110204-E23,1.8833333333333333\n20110204,M18,2003346,Medical Incident,01/11/2002,01/11/2002,Other,01/11/2002 01:04:26 PM,1300 Block of 46TH AVE,SF,94122,B08,23,7721,3,3,3,true,&quot;&quot;,1,MEDIC,2,8,4,Sunset/Parkside,&quot;(37.7613577781783, -122.505924512458)&quot;,020110204-M18,2.2666666666666666\n20110210,E09,2003347,Citizen Assist / Service Call,01/11/2002,01/11/2002,Other,01/11/2002 12:58:15 PM,24TH ST/SAN BRUNO AV,SF,94110,B10,09,2562,3,3,3,false,&quot;&quot;,1,ENGINE,1,10,10,Mission,&quot;(37.7531214131675, -122.404363176874)&quot;,020110210-E09,3.7333333333333334\n20110215,E06,2003348,Medical Incident,01/11/2002,01/11/2002,Other,01/11/2002 01:08:40 PM,DIAMOND ST/MARKET ST,SF,94114,B05,06,5415,3,3,3,false,&quot;&quot;,1,ENGINE,1,5,8,Castro/Upper Market,&quot;(37.7618954753708, -122.437298717721)&quot;,020110215-E06,2.7666666666666666\n20110215,M07,2003348,Medical Incident,01/11/2002,01/11/2002,Other,01/11/2002 01:25:12 PM,DIAMOND ST/MARKET ST,SF,94114,B05,06,5415,3,3,3,true,&quot;&quot;,1,MEDIC,2,5,8,Castro/Upper Market,&quot;(37.7618954753708, -122.437298717721)&quot;,020110215-M07,4.683333333333334\n20110216,94,2003349,Medical Incident,01/11/2002,01/11/2002,Other,01/11/2002 01:03:53 PM,POST ST/STOCKTON ST,SF,94108,B01,01,1316,3,3,3,true,&quot;&quot;,1,MEDIC,2,1,3,Financial District/South Beach,&quot;(37.7884994798068, -122.406771145217)&quot;,020110216-94,2.216666666666667\n20110216,E01,2003349,Medical Incident,01/11/2002,01/11/2002,Other,01/11/2002 01:01:32 PM,POST ST/STOCKTON ST,SF,94108,B01,01,1316,3,3,3,false,&quot;&quot;,1,ENGINE,3,1,3,Financial District/South Beach,&quot;(37.7884994798068, -122.406771145217)&quot;,020110216-E01,2.3\n20110216,RS1,2003349,Medical Incident,01/11/2002,01/11/2002,Other,01/11/2002 01:01:32 PM,POST ST/STOCKTON ST,SF,94108,B01,01,1316,3,3,3,false,&quot;&quot;,1,RESCUE SQUAD,1,1,3,Financial District/South Beach,&quot;(37.7884994798068, -122.406771145217)&quot;,020110216-RS1,2.466666666666667\n20110217,91,2003350,Medical Incident,01/11/2002,01/11/2002,Other,01/11/2002 01:02:18 PM,MARKET ST/VAN NESS AV,SF,94103,B02,36,3212,1,1,2,true,&quot;&quot;,1,MEDIC,2,2,6,Mission,&quot;(37.7751470741622, -122.419255607214)&quot;,020110217-91,2.933333333333333\n20110223,92,2003351,Medical Incident,01/11/2002,01/11/2002,Other,01/11/2002 01:45:35 PM,LARKIN ST/MCALLISTER ST,SF,94102,B02,03,1553,3,3,3,true,&quot;&quot;,1,MEDIC,1,2,6,Tenderloin,&quot;(37.7804703413414, -122.416947606226)&quot;,020110223-92,2.2666666666666666\n20110223,E03,2003351,Medical Incident,01/11/2002,01/11/2002,Other,01/11/2002 01:16:31 PM,LARKIN ST/MCALLISTER ST,SF,94102,B02,03,1553,3,3,3,false,&quot;&quot;,1,ENGINE,2,2,6,Tenderloin,&quot;(37.7804703413414, -122.416947606226)&quot;,020110223-E03,2.9833333333333334\n20110225,E05,2003352,Medical Incident,01/11/2002,01/11/2002,Other,01/11/2002 01:22:07 PM,FILLMORE ST/GOLDEN GATE AV,SF,94115,B05,05,3516,3,3,3,false,&quot;&quot;,1,ENGINE,1,5,5,Western Addition,&quot;(37.7795641471317, -122.431951803212)&quot;,020110225-E05,1.2833333333333334\n20110225,M05,2003352,Medical Incident,01/11/2002,01/11/2002,Other,01/11/2002 01:59:12 PM,FILLMORE ST/GOLDEN GATE AV,SF,94115,B05,05,3516,3,3,3,true,&quot;&quot;,1,MEDIC,2,5,5,Western Addition,&quot;(37.7795641471317, -122.431951803212)&quot;,020110225-M05,1.5\n20110229,B03,2003353,Alarms,01/11/2002,01/11/2002,Other,01/11/2002 01:40:32 PM,500 Block of MINNA ST,SF,94103,B03,01,2251,3,3,3,false,&quot;&quot;,1,CHIEF,3,3,6,South of Market,&quot;(37.7800574377607, -122.408673540372)&quot;,020110229-B03,2.6333333333333333\n20110229,E01,2003353,Alarms,01/11/2002,01/11/2002,Other,01/11/2002 01:40:32 PM,500 Block of MINNA ST,SF,94103,B03,01,2251,3,3,3,false,&quot;&quot;,1,ENGINE,1,3,6,South of Market,&quot;(37.7800574377607, -122.408673540372)&quot;,020110229-E01,2.5833333333333335\n20110229,T01,2003353,Alarms,01/11/2002,01/11/2002,Other,01/11/2002 01:34:29 PM,500 Block of MINNA ST,SF,94103,B03,01,2251,3,3,3,false,&quot;&quot;,1,TRUCK,2,3,6,South of Market,&quot;(37.7800574377607, -122.408673540372)&quot;,020110229-T01,3.533333333333333\n20110231,E07,2003354,Structure Fire,01/11/2002,01/11/2002,Other,01/11/2002 01:35:06 PM,21ST ST/VALENCIA ST,SF,94110,B06,07,5456,3,3,3,false,&quot;&quot;,1,ENGINE,1,6,9,Mission,&quot;(37.7569020093743, -122.421117541576)&quot;,020110231-E07,0.9333333333333333\n20110231,T07,2003354,Structure Fire,01/11/2002,01/11/2002,Other,01/11/2002 01:34:35 PM,21ST ST/VALENCIA ST,SF,94110,B06,07,5456,3,3,3,false,&quot;&quot;,1,TRUCK,2,6,9,Mission,&quot;(37.7569020093743, -122.421117541576)&quot;,020110231-T07,1.35\n20110234,B05,2003355,Alarms,01/11/2002,01/11/2002,Other,01/11/2002 01:36:16 PM,600 Block of STEINER ST,SF,94117,B05,21,3631,3,3,3,false,&quot;&quot;,1,CHIEF,2,5,5,Hayes Valley,&quot;(37.7751510634662, -122.432804075352)&quot;,020110234-B05,3.15\n20110234,E21,2003355,Alarms,01/11/2002,01/11/2002,Other,01/11/2002 01:39:24 PM,600 Block of STEINER ST,SF,94117,B05,21,3631,3,3,3,false,&quot;&quot;,1,ENGINE,1,5,5,Hayes Valley,&quot;(37.7751510634662, -122.432804075352)&quot;,020110234-E21,2.216666666666667\n20110234,T05,2003355,Alarms,01/11/2002,01/11/2002,Other,01/11/2002 01:36:16 PM,600 Block of STEINER ST,SF,94117,B05,21,3631,3,3,3,false,&quot;&quot;,1,TRUCK,3,5,5,Hayes Valley,&quot;(37.7751510634662, -122.432804075352)&quot;,020110234-T05,2.75\n20110235,E14,2003356,Medical Incident,01/11/2002,01/11/2002,Other,01/11/2002 01:50:51 PM,500 Block of 18TH AVE,SF,94121,B07,31,7165,3,3,3,false,&quot;&quot;,1,ENGINE,2,7,1,Outer Richmond,&quot;(37.7775714175008, -122.477101447838)&quot;,020110235-E14,3.1333333333333333\n20110235,M14,2003356,Medical Incident,01/11/2002,01/11/2002,Other,01/11/2002 02:05:59 PM,500 Block of 18TH AVE,SF,94121,B07,31,7165,3,3,3,true,&quot;&quot;,1,MEDIC,1,7,1,Outer Richmond,&quot;(37.7775714175008, -122.477101447838)&quot;,020110235-M14,2.5833333333333335\n20110237,E32,2003357,Medical Incident,01/11/2002,01/11/2002,Other,01/11/2002 01:54:18 PM,300 Block of RICHLAND AVE,SF,94110,B06,32,5644,3,3,3,true,&quot;&quot;,1,ENGINE,1,6,9,Bernal Heights,&quot;(37.7357456024866, -122.418457095156)&quot;,020110237-E32,4.3\n20110237,E43,2003357,Medical Incident,01/11/2002,01/11/2002,Other,01/11/2002 02:10:18 PM,300 Block of RICHLAND AVE,SF,94110,B06,32,5644,3,3,3,true,&quot;&quot;,1,ENGINE,2,6,9,Bernal Heights,&quot;(37.7357456024866, -122.418457095156)&quot;,020110237-E43,4.1\n20110237,M43,2003357,Medical Incident,01/11/2002,01/11/2002,Other,01/11/2002 02:57:56 PM,300 Block of RICHLAND AVE,SF,94110,B06,32,5644,3,3,3,true,&quot;&quot;,1,MEDIC,4,6,9,Bernal Heights,&quot;(37.7357456024866, -122.418457095156)&quot;,020110237-M43,4.066666666666666\n20110237,RC3,2003357,Medical Incident,01/11/2002,01/11/2002,Other,01/11/2002 02:06:22 PM,300 Block of RICHLAND AVE,SF,94110,B06,32,5644,3,3,3,true,&quot;&quot;,1,RESCUE CAPTAIN,3,6,9,Bernal Heights,&quot;(37.7357456024866, -122.418457095156)&quot;,020110237-RC3,5.05\n20110239,94,2003359,Medical Incident,01/11/2002,01/11/2002,Other,01/11/2002 02:04:36 PM,MARKET ST/VAN NESS AV,SF,94103,B02,36,3212,1,1,2,true,&quot;&quot;,1,MEDIC,1,2,6,Mission,&quot;(37.7751470741622, -122.419255607214)&quot;,020110239-94,2.816666666666667\n20110240,91,2003360,Medical Incident,01/11/2002,01/11/2002,Other,01/11/2002 02:29:44 PM,900 Block of SACRAMENTO ST,SF,94108,B01,02,1326,3,3,3,true,&quot;&quot;,1,MEDIC,2,1,3,Chinatown,&quot;(37.7930721329454, -122.408125184867)&quot;,020110240-91,1.95\n20110240,E02,2003360,Medical Incident,01/11/2002,01/11/2002,Other,01/11/2002 02:11:22 PM,900 Block of SACRAMENTO ST,SF,94108,B01,02,1326,3,3,3,false,&quot;&quot;,1,ENGINE,1,1,3,Chinatown,&quot;(37.7930721329454, -122.408125184867)&quot;,020110240-E02,1.9333333333333333\n20110240,RC1,2003360,Medical Incident,01/11/2002,01/11/2002,Other,01/11/2002 02:27:25 PM,900 Block of SACRAMENTO ST,SF,94108,B01,02,1326,3,3,3,true,&quot;&quot;,1,RESCUE CAPTAIN,3,1,3,Chinatown,&quot;(37.7930721329454, -122.408125184867)&quot;,020110240-RC1,7.516666666666667\n20110241,92,2003361,Medical Incident,01/11/2002,01/11/2002,Other,01/11/2002 03:10:16 PM,CYRIL MAGNIN ST/EDDY ST,SF,94102,B03,01,1453,1,1,2,false,&quot;&quot;,1,MEDIC,1,3,6,Tenderloin,&quot;(37.7844527288793, -122.408493159961)&quot;,020110241-92,3.3333333333333335\n20110241,M01,2003361,Medical Incident,01/11/2002,01/11/2002,Other,&quot;&quot;,CYRIL MAGNIN ST/EDDY ST,SF,94102,B03,01,1453,1,1,2,true,&quot;&quot;,1,MEDIC,2,3,6,Tenderloin,&quot;(37.7844527288793, -122.408493159961)&quot;,020110241-M01,2.5833333333333335\n20110243,93,2003363,Medical Incident,01/11/2002,01/11/2002,Other,&quot;&quot;,600 Block of WISCONSIN ST,SF,94107,B10,37,2521,3,3,3,true,&quot;&quot;,1,MEDIC,2,10,10,Potrero Hill,&quot;(37.7585798761387, -122.398991240016)&quot;,020110243-93,3.966666666666667\n20110245,M01,2003367,Medical Incident,01/11/2002,01/11/2002,Other,01/11/2002 02:21:31 PM,200 Block of TAYLOR ST,SF,94102,B03,01,1453,2,2,2,true,&quot;&quot;,1,MEDIC,1,3,6,Tenderloin,&quot;(37.7845991269502, -122.411114048741)&quot;,020110245-M01,5.916666666666667\n20110248,94,2003364,Medical Incident,01/11/2002,01/11/2002,Other,01/11/2002 02:37:02 PM,5TH ST/MARKET ST,SF,94103,B03,01,1364,2,2,2,true,&quot;&quot;,1,MEDIC,1,3,6,South of Market,&quot;(37.7839914857614, -122.408066547804)&quot;,020110248-94,2.9166666666666665\n20110250,E16,2003365,Medical Incident,01/11/2002,01/11/2002,Other,01/11/2002 02:24:34 PM,LOMBARD ST/OCTAVIA ST,SF,94123,B04,16,3244,3,3,3,false,&quot;&quot;,1,ENGINE,1,4,2,Marina,&quot;(37.8006784057278, -122.429470885435)&quot;,020110250-E16,3.0166666666666666\n20110250,M38,2003365,Medical Incident,01/11/2002,01/11/2002,Other,01/11/2002 03:56:58 PM,LOMBARD ST/OCTAVIA ST,SF,94123,B04,16,3244,3,3,3,true,&quot;&quot;,1,MEDIC,2,4,2,Marina,&quot;(37.8006784057278, -122.429470885435)&quot;,020110250-M38,2.683333333333333\n20110251,K917,2003366,Medical Incident,01/11/2002,01/11/2002,Other,01/11/2002 02:24:01 PM,700 Block of MISSION ST,SF,94103,B03,01,2178,3,3,3,false,&quot;&quot;,1,PRIVATE,2,3,6,Financial District/South Beach,&quot;(37.785734819878, -122.402822924972)&quot;,020110251-K917,5.0\n20110252,M07,2003369,Medical Incident,01/11/2002,01/11/2002,Other,01/11/2002 02:34:23 PM,900 Block of CHURCH ST,SF,94114,B06,11,5467,2,2,2,true,&quot;&quot;,1,MEDIC,1,6,8,Noe Valley,&quot;(37.7552977169677, -122.42770533701)&quot;,020110252-M07,5.2\n20110253,E03,2003368,Medical Incident,01/11/2002,01/11/2002,Other,01/11/2002 02:23:48 PM,300 Block of ELLIS ST,SF,94102,B03,03,1461,3,3,3,false,&quot;&quot;,1,ENGINE,1,3,6,Tenderloin,&quot;(37.7849161843633, -122.411950042222)&quot;,020110253-E03,3.316666666666667\n20110257,E42,2003370,Structure Fire,01/11/2002,01/11/2002,Other,01/11/2002 02:29:50 PM,ANDOVER ST/CORTLAND AV,SF,94110,B06,32,5732,3,3,3,true,&quot;&quot;,1,ENGINE,1,6,9,Bernal Heights,&quot;(37.7390616989426, -122.416519601586)&quot;,020110257-E42,1.5166666666666666\n20110257,T11,2003370,Structure Fire,01/11/2002,01/11/2002,Other,01/11/2002 02:30:38 PM,ANDOVER ST/CORTLAND AV,SF,94110,B06,32,5732,3,3,3,false,&quot;&quot;,1,TRUCK,2,6,9,Bernal Heights,&quot;(37.7390616989426, -122.416519601586)&quot;,020110257-T11,0.9833333333333333\n20110258,E26,2003371,Structure Fire,01/11/2002,01/11/2002,Other,01/11/2002 02:33:01 PM,DUNCAN ST/RED ROCK WY,SF,94131,B06,26,8167,3,3,3,true,&quot;&quot;,1,ENGINE,1,6,8,Noe Valley,&quot;(37.7458984910923, -122.443373987112)&quot;,020110258-E26,1.1333333333333333\n20110258,T06,2003371,Structure Fire,01/11/2002,01/11/2002,Other,&quot;&quot;,DUNCAN ST/RED ROCK WY,SF,94131,B06,26,8167,3,3,3,false,&quot;&quot;,1,TRUCK,2,6,8,Noe Valley,&quot;(37.7458984910923, -122.443373987112)&quot;,020110258-T06,0.9833333333333333\n20110258,T11,2003371,Structure Fire,01/11/2002,01/11/2002,Other,01/11/2002 02:33:01 PM,DUNCAN ST/RED ROCK WY,SF,94131,B06,26,8167,3,3,3,false,&quot;&quot;,1,TRUCK,3,6,8,Noe Valley,&quot;(37.7458984910923, -122.443373987112)&quot;,020110258-T11,2.8833333333333333\n20110260,B02,2003372,Structure Fire,01/11/2002,01/11/2002,Other,01/11/2002 02:33:59 PM,900 Block of MARKET ST,SF,94102,B03,01,1454,3,3,3,false,&quot;&quot;,1,CHIEF,2,3,6,Tenderloin,&quot;(37.7828276498838, -122.409708423721)&quot;,020110260-B02,3.4833333333333334\n20110260,E01,2003372,Structure Fire,01/11/2002,01/11/2002,Other,01/11/2002 02:33:59 PM,900 Block of MARKET ST,SF,94102,B03,01,1454,3,3,3,false,&quot;&quot;,1,ENGINE,3,3,6,Tenderloin,&quot;(37.7828276498838, -122.409708423721)&quot;,020110260-E01,1.2166666666666666\n20110260,T01,2003372,Structure Fire,01/11/2002,01/11/2002,Other,01/11/2002 02:33:59 PM,900 Block of MARKET ST,SF,94102,B03,01,1454,3,3,3,false,&quot;&quot;,1,TRUCK,1,3,6,Tenderloin,&quot;(37.7828276498838, -122.409708423721)&quot;,020110260-T01,0.8833333333333333\n20110262,E23,2003373,Medical Incident,01/11/2002,01/11/2002,Other,01/11/2002 02:44:52 PM,1400 Block of 33RD AVE,SF,94122,B08,23,7541,3,3,3,true,&quot;&quot;,1,ENGINE,1,8,4,Sunset/Parkside,&quot;(37.7601078803796, -122.491863132444)&quot;,020110262-E23,3.6166666666666667\n20110262,M18,2003373,Medical Incident,01/11/2002,01/11/2002,Other,01/11/2002 03:45:17 PM,1400 Block of 33RD AVE,SF,94122,B08,23,7541,3,3,3,true,&quot;&quot;,1,MEDIC,2,8,4,Sunset/Parkside,&quot;(37.7601078803796, -122.491863132444)&quot;,020110262-M18,3.4\n20110264,E07,2003374,Medical Incident,01/11/2002,01/11/2002,Other,01/11/2002 02:42:22 PM,2000 Block of MISSION ST,SF,94110,B02,07,5236,3,3,3,false,&quot;&quot;,1,ENGINE,2,2,9,Mission,&quot;(37.7642361189447, -122.419659842408)&quot;,020110264-E07,2.4\n20110264,M36,2003374,Medical Incident,01/11/2002,01/11/2002,Other,01/11/2002 03:31:50 PM,2000 Block of MISSION ST,SF,94110,B02,07,5236,3,3,3,true,&quot;&quot;,1,MEDIC,1,2,9,Mission,&quot;(37.7642361189447, -122.419659842408)&quot;,020110264-M36,1.5166666666666666\n20110267,E21,2003375,Medical Incident,01/11/2002,01/11/2002,Other,01/11/2002 02:51:33 PM,BAKER ST/HAIGHT ST,SF,94117,B05,21,4246,3,3,3,false,&quot;&quot;,1,ENGINE,1,5,5,Haight Ashbury,&quot;(37.770847433139, -122.440357703657)&quot;,020110267-E21,2.78333333333333\n</div>",
       "datasetInfos": [],
       "metadata": {},
       "removedWidgets": [],
       "type": "html"
      }
     },
     "output_type": "display_data"
    }
   ],
   "source": [
    "%fs head databricks-datasets/learning-spark-v2/sf-fire/sf-fire-calls.csv"
   ]
  },
  {
   "cell_type": "markdown",
   "metadata": {
    "application/vnd.databricks.v1+cell": {
     "cellMetadata": {},
     "inputWidgets": {},
     "nuid": "2da7c853-1b02-4127-b6ee-5648baded00c",
     "showTitle": false,
     "title": ""
    }
   },
   "source": [
    "Define our schema as the file has 4 million records. Inferring the schema is expensive for large files."
   ]
  },
  {
   "cell_type": "code",
   "execution_count": 0,
   "metadata": {
    "application/vnd.databricks.v1+cell": {
     "cellMetadata": {},
     "inputWidgets": {},
     "nuid": "1056d1d3-45d0-4bd1-9efb-50dd89fdf64e",
     "showTitle": false,
     "title": ""
    }
   },
   "outputs": [],
   "source": [
    "fire_schema = StructType([StructField('CallNumber', IntegerType(), True),\n",
    "                     StructField('UnitID', StringType(), True),\n",
    "                     StructField('IncidentNumber', IntegerType(), True),\n",
    "                     StructField('CallType', StringType(), True),                  \n",
    "                     StructField('CallDate', StringType(), True),      \n",
    "                     StructField('WatchDate', StringType(), True),\n",
    "                     StructField('CallFinalDisposition', StringType(), True),\n",
    "                     StructField('AvailableDtTm', StringType(), True),\n",
    "                     StructField('Address', StringType(), True),       \n",
    "                     StructField('City', StringType(), True),       \n",
    "                     StructField('Zipcode', IntegerType(), True),       \n",
    "                     StructField('Battalion', StringType(), True),                 \n",
    "                     StructField('StationArea', StringType(), True),       \n",
    "                     StructField('Box', StringType(), True),       \n",
    "                     StructField('OriginalPriority', StringType(), True),       \n",
    "                     StructField('Priority', StringType(), True),       \n",
    "                     StructField('FinalPriority', IntegerType(), True),       \n",
    "                     StructField('ALSUnit', BooleanType(), True),       \n",
    "                     StructField('CallTypeGroup', StringType(), True),\n",
    "                     StructField('NumAlarms', IntegerType(), True),\n",
    "                     StructField('UnitType', StringType(), True),\n",
    "                     StructField('UnitSequenceInCallDispatch', IntegerType(), True),\n",
    "                     StructField('FirePreventionDistrict', StringType(), True),\n",
    "                     StructField('SupervisorDistrict', StringType(), True),\n",
    "                     StructField('Neighborhood', StringType(), True),\n",
    "                     StructField('Location', StringType(), True),\n",
    "                     StructField('RowID', StringType(), True),\n",
    "                     StructField('Delay', FloatType(), True)])"
   ]
  },
  {
   "cell_type": "code",
   "execution_count": 0,
   "metadata": {
    "application/vnd.databricks.v1+cell": {
     "cellMetadata": {},
     "inputWidgets": {},
     "nuid": "d16883f0-2478-4d66-8cdb-5b16291f5409",
     "showTitle": false,
     "title": ""
    }
   },
   "outputs": [],
   "source": [
    "fire_df = spark.read.csv(sf_fire_file, header=True, schema=fire_schema)"
   ]
  },
  {
   "cell_type": "markdown",
   "metadata": {
    "application/vnd.databricks.v1+cell": {
     "cellMetadata": {},
     "inputWidgets": {},
     "nuid": "629bb3cb-f944-4717-bb79-0b19501597be",
     "showTitle": false,
     "title": ""
    }
   },
   "source": [
    "Cache the DataFrame since we will be performing some operations on it."
   ]
  },
  {
   "cell_type": "code",
   "execution_count": 0,
   "metadata": {
    "application/vnd.databricks.v1+cell": {
     "cellMetadata": {},
     "inputWidgets": {},
     "nuid": "ba7b093a-e0d0-45aa-a7c5-e0e0eaca8b3c",
     "showTitle": false,
     "title": ""
    }
   },
   "outputs": [
    {
     "output_type": "stream",
     "name": "stdout",
     "output_type": "stream",
     "text": [
      "Out[5]: DataFrame[CallNumber: int, UnitID: string, IncidentNumber: int, CallType: string, CallDate: string, WatchDate: string, CallFinalDisposition: string, AvailableDtTm: string, Address: string, City: string, Zipcode: int, Battalion: string, StationArea: string, Box: string, OriginalPriority: string, Priority: string, FinalPriority: int, ALSUnit: boolean, CallTypeGroup: string, NumAlarms: int, UnitType: string, UnitSequenceInCallDispatch: int, FirePreventionDistrict: string, SupervisorDistrict: string, Neighborhood: string, Location: string, RowID: string, Delay: float]"
     ]
    }
   ],
   "source": [
    "fire_df.cache()"
   ]
  },
  {
   "cell_type": "code",
   "execution_count": 0,
   "metadata": {
    "application/vnd.databricks.v1+cell": {
     "cellMetadata": {},
     "inputWidgets": {},
     "nuid": "9663ac34-baaf-4526-bb20-530247ed208f",
     "showTitle": false,
     "title": ""
    }
   },
   "outputs": [
    {
     "output_type": "stream",
     "name": "stdout",
     "output_type": "stream",
     "text": [
      "Out[6]: 4380660"
     ]
    }
   ],
   "source": [
    "fire_df.count()"
   ]
  },
  {
   "cell_type": "code",
   "execution_count": 0,
   "metadata": {
    "application/vnd.databricks.v1+cell": {
     "cellMetadata": {},
     "inputWidgets": {},
     "nuid": "62141fa6-b6fe-42b4-a4eb-bfce8ff35e2e",
     "showTitle": false,
     "title": ""
    }
   },
   "outputs": [
    {
     "output_type": "stream",
     "name": "stdout",
     "output_type": "stream",
     "text": [
      "root\n |-- CallNumber: integer (nullable = true)\n |-- UnitID: string (nullable = true)\n |-- IncidentNumber: integer (nullable = true)\n |-- CallType: string (nullable = true)\n |-- CallDate: string (nullable = true)\n |-- WatchDate: string (nullable = true)\n |-- CallFinalDisposition: string (nullable = true)\n |-- AvailableDtTm: string (nullable = true)\n |-- Address: string (nullable = true)\n |-- City: string (nullable = true)\n |-- Zipcode: integer (nullable = true)\n |-- Battalion: string (nullable = true)\n |-- StationArea: string (nullable = true)\n |-- Box: string (nullable = true)\n |-- OriginalPriority: string (nullable = true)\n |-- Priority: string (nullable = true)\n |-- FinalPriority: integer (nullable = true)\n |-- ALSUnit: boolean (nullable = true)\n |-- CallTypeGroup: string (nullable = true)\n |-- NumAlarms: integer (nullable = true)\n |-- UnitType: string (nullable = true)\n |-- UnitSequenceInCallDispatch: integer (nullable = true)\n |-- FirePreventionDistrict: string (nullable = true)\n |-- SupervisorDistrict: string (nullable = true)\n |-- Neighborhood: string (nullable = true)\n |-- Location: string (nullable = true)\n |-- RowID: string (nullable = true)\n |-- Delay: float (nullable = true)\n\n"
     ]
    }
   ],
   "source": [
    "fire_df.printSchema()"
   ]
  },
  {
   "cell_type": "code",
   "execution_count": 0,
   "metadata": {
    "application/vnd.databricks.v1+cell": {
     "cellMetadata": {},
     "inputWidgets": {},
     "nuid": "6006e548-621a-4719-818b-c350bcdfb97f",
     "showTitle": false,
     "title": ""
    }
   },
   "outputs": [
    {
     "output_type": "display_data",
     "data": {
      "text/html": [
       "<style scoped>\n",
       "  .table-result-container {\n",
       "    max-height: 300px;\n",
       "    overflow: auto;\n",
       "  }\n",
       "  table, th, td {\n",
       "    border: 1px solid black;\n",
       "    border-collapse: collapse;\n",
       "  }\n",
       "  th, td {\n",
       "    padding: 5px;\n",
       "  }\n",
       "  th {\n",
       "    text-align: left;\n",
       "  }\n",
       "</style><div class='table-result-container'><table class='table-result'><thead style='background-color: white'><tr><th>CallNumber</th><th>UnitID</th><th>IncidentNumber</th><th>CallType</th><th>CallDate</th><th>WatchDate</th><th>CallFinalDisposition</th><th>AvailableDtTm</th><th>Address</th><th>City</th><th>Zipcode</th><th>Battalion</th><th>StationArea</th><th>Box</th><th>OriginalPriority</th><th>Priority</th><th>FinalPriority</th><th>ALSUnit</th><th>CallTypeGroup</th><th>NumAlarms</th><th>UnitType</th><th>UnitSequenceInCallDispatch</th><th>FirePreventionDistrict</th><th>SupervisorDistrict</th><th>Neighborhood</th><th>Location</th><th>RowID</th><th>Delay</th></tr></thead><tbody><tr><td>20110014</td><td>M29</td><td>2003234</td><td>Medical Incident</td><td>01/11/2002</td><td>01/10/2002</td><td>Other</td><td>01/11/2002 01:58:43 AM</td><td>10TH ST/MARKET ST</td><td>SF</td><td>94103</td><td>B02</td><td>36</td><td>2338</td><td>1</td><td>1</td><td>2</td><td>true</td><td>null</td><td>1</td><td>MEDIC</td><td>1</td><td>2</td><td>6</td><td>Tenderloin</td><td>(37.7765408927183, -122.417501464907)</td><td>020110014-M29</td><td>5.233333</td></tr><tr><td>20110015</td><td>M08</td><td>2003233</td><td>Medical Incident</td><td>01/11/2002</td><td>01/10/2002</td><td>Other</td><td>01/11/2002 02:10:17 AM</td><td>300 Block of 5TH ST</td><td>SF</td><td>94107</td><td>B03</td><td>08</td><td>2243</td><td>1</td><td>1</td><td>2</td><td>true</td><td>null</td><td>1</td><td>MEDIC</td><td>1</td><td>3</td><td>6</td><td>South of Market</td><td>(37.7792841462441, -122.402061300134)</td><td>020110015-M08</td><td>3.0833333</td></tr><tr><td>20110016</td><td>B02</td><td>2003235</td><td>Structure Fire</td><td>01/11/2002</td><td>01/10/2002</td><td>Other</td><td>01/11/2002 01:47:00 AM</td><td>2000 Block of CALIFORNIA ST</td><td>SF</td><td>94109</td><td>B04</td><td>38</td><td>3362</td><td>3</td><td>3</td><td>3</td><td>false</td><td>null</td><td>1</td><td>CHIEF</td><td>6</td><td>4</td><td>5</td><td>Pacific Heights</td><td>(37.7895840679362, -122.428071912459)</td><td>020110016-B02</td><td>3.05</td></tr><tr><td>20110016</td><td>B04</td><td>2003235</td><td>Structure Fire</td><td>01/11/2002</td><td>01/10/2002</td><td>Other</td><td>01/11/2002 01:51:54 AM</td><td>2000 Block of CALIFORNIA ST</td><td>SF</td><td>94109</td><td>B04</td><td>38</td><td>3362</td><td>3</td><td>3</td><td>3</td><td>false</td><td>null</td><td>1</td><td>CHIEF</td><td>3</td><td>4</td><td>5</td><td>Pacific Heights</td><td>(37.7895840679362, -122.428071912459)</td><td>020110016-B04</td><td>2.3166666</td></tr><tr><td>20110016</td><td>D2</td><td>2003235</td><td>Structure Fire</td><td>01/11/2002</td><td>01/10/2002</td><td>Other</td><td>01/11/2002 01:47:00 AM</td><td>2000 Block of CALIFORNIA ST</td><td>SF</td><td>94109</td><td>B04</td><td>38</td><td>3362</td><td>3</td><td>3</td><td>3</td><td>false</td><td>null</td><td>1</td><td>CHIEF</td><td>4</td><td>4</td><td>5</td><td>Pacific Heights</td><td>(37.7895840679362, -122.428071912459)</td><td>020110016-D2</td><td>3.0166667</td></tr></tbody></table></div>"
      ]
     },
     "metadata": {
      "application/vnd.databricks.v1+output": {
       "addedWidgets": {},
       "aggData": [],
       "aggError": "",
       "aggOverflow": false,
       "aggSchema": [],
       "aggSeriesLimitReached": false,
       "aggType": "",
       "arguments": {},
       "columnCustomDisplayInfos": {},
       "data": [
        [
         20110014,
         "M29",
         2003234,
         "Medical Incident",
         "01/11/2002",
         "01/10/2002",
         "Other",
         "01/11/2002 01:58:43 AM",
         "10TH ST/MARKET ST",
         "SF",
         94103,
         "B02",
         "36",
         "2338",
         "1",
         "1",
         2,
         true,
         null,
         1,
         "MEDIC",
         1,
         "2",
         "6",
         "Tenderloin",
         "(37.7765408927183, -122.417501464907)",
         "020110014-M29",
         5.233333
        ],
        [
         20110015,
         "M08",
         2003233,
         "Medical Incident",
         "01/11/2002",
         "01/10/2002",
         "Other",
         "01/11/2002 02:10:17 AM",
         "300 Block of 5TH ST",
         "SF",
         94107,
         "B03",
         "08",
         "2243",
         "1",
         "1",
         2,
         true,
         null,
         1,
         "MEDIC",
         1,
         "3",
         "6",
         "South of Market",
         "(37.7792841462441, -122.402061300134)",
         "020110015-M08",
         3.0833333
        ],
        [
         20110016,
         "B02",
         2003235,
         "Structure Fire",
         "01/11/2002",
         "01/10/2002",
         "Other",
         "01/11/2002 01:47:00 AM",
         "2000 Block of CALIFORNIA ST",
         "SF",
         94109,
         "B04",
         "38",
         "3362",
         "3",
         "3",
         3,
         false,
         null,
         1,
         "CHIEF",
         6,
         "4",
         "5",
         "Pacific Heights",
         "(37.7895840679362, -122.428071912459)",
         "020110016-B02",
         3.05
        ],
        [
         20110016,
         "B04",
         2003235,
         "Structure Fire",
         "01/11/2002",
         "01/10/2002",
         "Other",
         "01/11/2002 01:51:54 AM",
         "2000 Block of CALIFORNIA ST",
         "SF",
         94109,
         "B04",
         "38",
         "3362",
         "3",
         "3",
         3,
         false,
         null,
         1,
         "CHIEF",
         3,
         "4",
         "5",
         "Pacific Heights",
         "(37.7895840679362, -122.428071912459)",
         "020110016-B04",
         2.3166666
        ],
        [
         20110016,
         "D2",
         2003235,
         "Structure Fire",
         "01/11/2002",
         "01/10/2002",
         "Other",
         "01/11/2002 01:47:00 AM",
         "2000 Block of CALIFORNIA ST",
         "SF",
         94109,
         "B04",
         "38",
         "3362",
         "3",
         "3",
         3,
         false,
         null,
         1,
         "CHIEF",
         4,
         "4",
         "5",
         "Pacific Heights",
         "(37.7895840679362, -122.428071912459)",
         "020110016-D2",
         3.0166667
        ]
       ],
       "datasetInfos": [],
       "dbfsResultPath": null,
       "isJsonSchema": true,
       "metadata": {},
       "overflow": false,
       "plotOptions": {
        "customPlotOptions": {},
        "displayType": "table",
        "pivotAggregation": null,
        "pivotColumns": null,
        "xColumns": null,
        "yColumns": null
       },
       "removedWidgets": [],
       "schema": [
        {
         "metadata": "{}",
         "name": "CallNumber",
         "type": "\"integer\""
        },
        {
         "metadata": "{}",
         "name": "UnitID",
         "type": "\"string\""
        },
        {
         "metadata": "{}",
         "name": "IncidentNumber",
         "type": "\"integer\""
        },
        {
         "metadata": "{}",
         "name": "CallType",
         "type": "\"string\""
        },
        {
         "metadata": "{}",
         "name": "CallDate",
         "type": "\"string\""
        },
        {
         "metadata": "{}",
         "name": "WatchDate",
         "type": "\"string\""
        },
        {
         "metadata": "{}",
         "name": "CallFinalDisposition",
         "type": "\"string\""
        },
        {
         "metadata": "{}",
         "name": "AvailableDtTm",
         "type": "\"string\""
        },
        {
         "metadata": "{}",
         "name": "Address",
         "type": "\"string\""
        },
        {
         "metadata": "{}",
         "name": "City",
         "type": "\"string\""
        },
        {
         "metadata": "{}",
         "name": "Zipcode",
         "type": "\"integer\""
        },
        {
         "metadata": "{}",
         "name": "Battalion",
         "type": "\"string\""
        },
        {
         "metadata": "{}",
         "name": "StationArea",
         "type": "\"string\""
        },
        {
         "metadata": "{}",
         "name": "Box",
         "type": "\"string\""
        },
        {
         "metadata": "{}",
         "name": "OriginalPriority",
         "type": "\"string\""
        },
        {
         "metadata": "{}",
         "name": "Priority",
         "type": "\"string\""
        },
        {
         "metadata": "{}",
         "name": "FinalPriority",
         "type": "\"integer\""
        },
        {
         "metadata": "{}",
         "name": "ALSUnit",
         "type": "\"boolean\""
        },
        {
         "metadata": "{}",
         "name": "CallTypeGroup",
         "type": "\"string\""
        },
        {
         "metadata": "{}",
         "name": "NumAlarms",
         "type": "\"integer\""
        },
        {
         "metadata": "{}",
         "name": "UnitType",
         "type": "\"string\""
        },
        {
         "metadata": "{}",
         "name": "UnitSequenceInCallDispatch",
         "type": "\"integer\""
        },
        {
         "metadata": "{}",
         "name": "FirePreventionDistrict",
         "type": "\"string\""
        },
        {
         "metadata": "{}",
         "name": "SupervisorDistrict",
         "type": "\"string\""
        },
        {
         "metadata": "{}",
         "name": "Neighborhood",
         "type": "\"string\""
        },
        {
         "metadata": "{}",
         "name": "Location",
         "type": "\"string\""
        },
        {
         "metadata": "{}",
         "name": "RowID",
         "type": "\"string\""
        },
        {
         "metadata": "{}",
         "name": "Delay",
         "type": "\"float\""
        }
       ],
       "type": "table"
      }
     },
     "output_type": "display_data"
    }
   ],
   "source": [
    "display(fire_df.limit(5))"
   ]
  },
  {
   "cell_type": "markdown",
   "metadata": {
    "application/vnd.databricks.v1+cell": {
     "cellMetadata": {},
     "inputWidgets": {},
     "nuid": "11c974d3-eea4-4ae0-a15b-ffa60874407f",
     "showTitle": false,
     "title": ""
    }
   },
   "source": [
    "Filter out \"Medical Incident\" call types\n",
    "\n",
    "Note that `filter()` and `where()` methods on the DataFrame are similar. Check relevant documentation for their respective argument types."
   ]
  },
  {
   "cell_type": "code",
   "execution_count": 0,
   "metadata": {
    "application/vnd.databricks.v1+cell": {
     "cellMetadata": {},
     "inputWidgets": {},
     "nuid": "c7e4858c-39b1-4acd-9380-e3ae3f702a2d",
     "showTitle": false,
     "title": ""
    }
   },
   "outputs": [
    {
     "output_type": "stream",
     "name": "stdout",
     "output_type": "stream",
     "text": [
      "+--------------+----------------------+--------------+\n|IncidentNumber|AvailableDtTm         |CallType      |\n+--------------+----------------------+--------------+\n|2003235       |01/11/2002 01:47:00 AM|Structure Fire|\n|2003235       |01/11/2002 01:51:54 AM|Structure Fire|\n|2003235       |01/11/2002 01:47:00 AM|Structure Fire|\n|2003235       |01/11/2002 01:47:00 AM|Structure Fire|\n|2003235       |01/11/2002 01:51:17 AM|Structure Fire|\n+--------------+----------------------+--------------+\nonly showing top 5 rows\n\n"
     ]
    }
   ],
   "source": [
    "few_fire_df = (fire_df\n",
    "               .select(\"IncidentNumber\", \"AvailableDtTm\", \"CallType\")\n",
    "               .where(col(\"CallType\") != \"Medical Incident\"))\n",
    "\n",
    "few_fire_df.show(5, truncate=False)"
   ]
  },
  {
   "cell_type": "markdown",
   "metadata": {
    "application/vnd.databricks.v1+cell": {
     "cellMetadata": {},
     "inputWidgets": {},
     "nuid": "71c9c834-90e8-46ec-b058-9f7925f00326",
     "showTitle": false,
     "title": ""
    }
   },
   "source": [
    "**Q-1) How many distinct types of calls were made to the Fire Department?**\n",
    "\n",
    "To be sure, let's not count \"null\" strings in that column."
   ]
  },
  {
   "cell_type": "code",
   "execution_count": 0,
   "metadata": {
    "application/vnd.databricks.v1+cell": {
     "cellMetadata": {},
     "inputWidgets": {},
     "nuid": "4a833de9-9d5a-400f-986e-a0fbf0c86344",
     "showTitle": false,
     "title": ""
    }
   },
   "outputs": [
    {
     "output_type": "stream",
     "name": "stdout",
     "output_type": "stream",
     "text": [
      "Out[10]: 32"
     ]
    }
   ],
   "source": [
    "fire_df.select(\"CallType\").where(col(\"CallType\").isNotNull()).distinct().count()"
   ]
  },
  {
   "cell_type": "markdown",
   "metadata": {
    "application/vnd.databricks.v1+cell": {
     "cellMetadata": {},
     "inputWidgets": {},
     "nuid": "5a628fca-e7f6-42e5-bdb4-1718dc2f420e",
     "showTitle": false,
     "title": ""
    }
   },
   "source": [
    "**Q-2) What are distinct types of calls were made to the Fire Department?**\n",
    "\n",
    "These are all the distinct type of call to the SF Fire Department"
   ]
  },
  {
   "cell_type": "code",
   "execution_count": 0,
   "metadata": {
    "application/vnd.databricks.v1+cell": {
     "cellMetadata": {},
     "inputWidgets": {},
     "nuid": "d3f482e6-bdd1-412b-9c27-0f6ae011fdd9",
     "showTitle": false,
     "title": ""
    }
   },
   "outputs": [
    {
     "output_type": "stream",
     "name": "stdout",
     "output_type": "stream",
     "text": [
      "+-----------------------------+\n|CallType                     |\n+-----------------------------+\n|Alarms                       |\n|Odor (Strange / Unknown)     |\n|Citizen Assist / Service Call|\n|Vehicle Fire                 |\n|Other                        |\n|Outside Fire                 |\n|Electrical Hazard            |\n|Structure Fire               |\n|Medical Incident             |\n|Fuel Spill                   |\n+-----------------------------+\nonly showing top 10 rows\n\n"
     ]
    }
   ],
   "source": [
    "fire_df.select(\"CallType\").where(col(\"CallType\").isNotNull()).distinct().show(10, False)"
   ]
  },
  {
   "cell_type": "markdown",
   "metadata": {
    "application/vnd.databricks.v1+cell": {
     "cellMetadata": {},
     "inputWidgets": {},
     "nuid": "07e4caef-484a-4b3e-a7e4-14f07ba675ee",
     "showTitle": false,
     "title": ""
    }
   },
   "source": [
    "**Q-3) Find out all response or delayed times greater than 5 mins?**\n",
    "\n",
    "1. Rename the column Delay - > ReponseDelayedinMins\n",
    "2. Returns a new DataFrame\n",
    "3. Find out all calls where the response time to the fire site was delayed for more than 5 mins"
   ]
  },
  {
   "cell_type": "code",
   "execution_count": 0,
   "metadata": {
    "application/vnd.databricks.v1+cell": {
     "cellMetadata": {},
     "inputWidgets": {},
     "nuid": "a816c851-d468-4819-b25d-f37e6bdbd656",
     "showTitle": false,
     "title": ""
    }
   },
   "outputs": [
    {
     "output_type": "stream",
     "name": "stdout",
     "output_type": "stream",
     "text": [
      "+---------------------+\n|ResponseDelayedinMins|\n+---------------------+\n|5.233333             |\n|6.9333334            |\n|6.116667             |\n|7.85                 |\n|77.333336            |\n+---------------------+\nonly showing top 5 rows\n\n"
     ]
    }
   ],
   "source": [
    "new_fire_df = fire_df.withColumnRenamed(\"Delay\", \"ResponseDelayedinMins\")\n",
    "new_fire_df.select(\"ResponseDelayedinMins\").where(col(\"ResponseDelayedinMins\") > 5).show(5, False)"
   ]
  },
  {
   "cell_type": "markdown",
   "metadata": {
    "application/vnd.databricks.v1+cell": {
     "cellMetadata": {},
     "inputWidgets": {},
     "nuid": "83c2b145-f779-41bf-bfec-57f05bd4fa10",
     "showTitle": false,
     "title": ""
    }
   },
   "source": [
    "Let's do some ETL:\n",
    "\n",
    "1. Transform the string dates to Spark Timestamp data type so we can make some time-based queries later\n",
    "2. Returns a transformed query\n",
    "3. Cache the new DataFrame"
   ]
  },
  {
   "cell_type": "code",
   "execution_count": 0,
   "metadata": {
    "application/vnd.databricks.v1+cell": {
     "cellMetadata": {},
     "inputWidgets": {},
     "nuid": "c9d4ac65-9eb4-4354-8f0b-66153da55e1f",
     "showTitle": false,
     "title": ""
    }
   },
   "outputs": [],
   "source": [
    "fire_ts_df = (new_fire_df\n",
    "              .withColumn(\"IncidentDate\", to_timestamp(col(\"CallDate\"), \"MM/dd/yyyy\")).drop(\"CallDate\") \n",
    "              .withColumn(\"OnWatchDate\",   to_timestamp(col(\"WatchDate\"), \"MM/dd/yyyy\")).drop(\"WatchDate\")\n",
    "              .withColumn(\"AvailableDtTS\", to_timestamp(col(\"AvailableDtTm\"), \"MM/dd/yyyy hh:mm:ss a\")).drop(\"AvailableDtTm\"))          "
   ]
  },
  {
   "cell_type": "code",
   "execution_count": 0,
   "metadata": {
    "application/vnd.databricks.v1+cell": {
     "cellMetadata": {},
     "inputWidgets": {},
     "nuid": "31bf2074-009f-47fd-a094-9c7f5ce94385",
     "showTitle": false,
     "title": ""
    }
   },
   "outputs": [
    {
     "output_type": "stream",
     "name": "stdout",
     "output_type": "stream",
     "text": [
      "Out[14]: ['CallNumber',\n 'UnitID',\n 'IncidentNumber',\n 'CallType',\n 'CallFinalDisposition',\n 'Address',\n 'City',\n 'Zipcode',\n 'Battalion',\n 'StationArea',\n 'Box',\n 'OriginalPriority',\n 'Priority',\n 'FinalPriority',\n 'ALSUnit',\n 'CallTypeGroup',\n 'NumAlarms',\n 'UnitType',\n 'UnitSequenceInCallDispatch',\n 'FirePreventionDistrict',\n 'SupervisorDistrict',\n 'Neighborhood',\n 'Location',\n 'RowID',\n 'ResponseDelayedinMins',\n 'IncidentDate',\n 'OnWatchDate',\n 'AvailableDtTS']"
     ]
    }
   ],
   "source": [
    "fire_ts_df.cache()\n",
    "fire_ts_df.columns"
   ]
  },
  {
   "cell_type": "markdown",
   "metadata": {
    "application/vnd.databricks.v1+cell": {
     "cellMetadata": {},
     "inputWidgets": {},
     "nuid": "e6f2469d-6ed0-47b1-9ec5-fe0b05663fd0",
     "showTitle": false,
     "title": ""
    }
   },
   "source": [
    "Check the transformed columns with Spark Timestamp type"
   ]
  },
  {
   "cell_type": "code",
   "execution_count": 0,
   "metadata": {
    "application/vnd.databricks.v1+cell": {
     "cellMetadata": {},
     "inputWidgets": {},
     "nuid": "e67452ea-f174-4d79-bee3-91dad320d863",
     "showTitle": false,
     "title": ""
    }
   },
   "outputs": [
    {
     "output_type": "stream",
     "name": "stdout",
     "output_type": "stream",
     "text": [
      "+-------------------+-------------------+-------------------+\n|IncidentDate       |OnWatchDate        |AvailableDtTS      |\n+-------------------+-------------------+-------------------+\n|2002-01-11 00:00:00|2002-01-10 00:00:00|2002-01-11 01:58:43|\n|2002-01-11 00:00:00|2002-01-10 00:00:00|2002-01-11 02:10:17|\n|2002-01-11 00:00:00|2002-01-10 00:00:00|2002-01-11 01:47:00|\n|2002-01-11 00:00:00|2002-01-10 00:00:00|2002-01-11 01:51:54|\n|2002-01-11 00:00:00|2002-01-10 00:00:00|2002-01-11 01:47:00|\n+-------------------+-------------------+-------------------+\nonly showing top 5 rows\n\n"
     ]
    }
   ],
   "source": [
    "fire_ts_df.select(\"IncidentDate\", \"OnWatchDate\", \"AvailableDtTS\").show(5, False)"
   ]
  },
  {
   "cell_type": "markdown",
   "metadata": {
    "application/vnd.databricks.v1+cell": {
     "cellMetadata": {},
     "inputWidgets": {},
     "nuid": "fd25949e-4e28-4133-8b90-d480a5aeba5a",
     "showTitle": false,
     "title": ""
    }
   },
   "source": [
    "**Q-4) What were the most common call types?**\n",
    "\n",
    "List them in descending order"
   ]
  },
  {
   "cell_type": "code",
   "execution_count": 0,
   "metadata": {
    "application/vnd.databricks.v1+cell": {
     "cellMetadata": {},
     "inputWidgets": {},
     "nuid": "43176835-0ed7-4154-a3fb-659bb7de945c",
     "showTitle": false,
     "title": ""
    }
   },
   "outputs": [
    {
     "output_type": "stream",
     "name": "stdout",
     "output_type": "stream",
     "text": [
      "+-------------------------------+-------+\n|CallType                       |count  |\n+-------------------------------+-------+\n|Medical Incident               |2843475|\n|Structure Fire                 |578998 |\n|Alarms                         |483518 |\n|Traffic Collision              |175507 |\n|Citizen Assist / Service Call  |65360  |\n|Other                          |56961  |\n|Outside Fire                   |51603  |\n|Vehicle Fire                   |20939  |\n|Water Rescue                   |20037  |\n|Gas Leak (Natural and LP Gases)|17284  |\n+-------------------------------+-------+\nonly showing top 10 rows\n\n"
     ]
    }
   ],
   "source": [
    "(fire_ts_df\n",
    " .select(\"CallType\").where(col(\"CallType\").isNotNull())\n",
    " .groupBy(\"CallType\")\n",
    " .count()\n",
    " .orderBy(\"count\", ascending=False)\n",
    " .show(n=10, truncate=False))"
   ]
  },
  {
   "cell_type": "markdown",
   "metadata": {
    "application/vnd.databricks.v1+cell": {
     "cellMetadata": {},
     "inputWidgets": {},
     "nuid": "9eb5aacf-82c2-42ed-9bd1-f53fb7e3dbe2",
     "showTitle": false,
     "title": ""
    }
   },
   "source": [
    "**Q-4a) What zip codes accounted for most common calls?**\n",
    "\n",
    "Let's investigate what zip codes in San Francisco accounted for most fire calls and what type where they.\n",
    "\n",
    "1. Filter out by CallType\n",
    "2. Group them by CallType and Zip code\n",
    "3. Count them and display them in descending order\n",
    "\n",
    "It seems like the most common calls were all related to Medical Incident, and the two zip codes are 94102 and 94103."
   ]
  },
  {
   "cell_type": "code",
   "execution_count": 0,
   "metadata": {
    "application/vnd.databricks.v1+cell": {
     "cellMetadata": {},
     "inputWidgets": {},
     "nuid": "23db032c-aac3-4420-812a-37b298f23135",
     "showTitle": false,
     "title": ""
    }
   },
   "outputs": [
    {
     "output_type": "stream",
     "name": "stdout",
     "output_type": "stream",
     "text": [
      "+----------------+-------+------+\n|CallType        |Zipcode|count |\n+----------------+-------+------+\n|Medical Incident|94102  |401457|\n|Medical Incident|94103  |370215|\n|Medical Incident|94110  |249279|\n|Medical Incident|94109  |238087|\n|Medical Incident|94124  |147564|\n|Medical Incident|94112  |139565|\n|Medical Incident|94115  |120087|\n|Medical Incident|94122  |107602|\n|Medical Incident|94107  |107439|\n|Medical Incident|94133  |99050 |\n+----------------+-------+------+\nonly showing top 10 rows\n\n"
     ]
    }
   ],
   "source": [
    "(fire_ts_df\n",
    " .select(\"CallType\", \"ZipCode\")\n",
    " .where(col(\"CallType\").isNotNull())\n",
    " .groupBy(\"CallType\", \"Zipcode\")\n",
    " .count()\n",
    " .orderBy(\"count\", ascending=False)\n",
    " .show(10, truncate=False))"
   ]
  },
  {
   "cell_type": "markdown",
   "metadata": {
    "application/vnd.databricks.v1+cell": {
     "cellMetadata": {},
     "inputWidgets": {},
     "nuid": "6cbc4711-0939-4e9d-9b6d-07fa9fd9bf02",
     "showTitle": false,
     "title": ""
    }
   },
   "source": [
    "**Q-4b) What San Francisco neighborhoods are in the zip codes 94102 and 94103**\n",
    "\n",
    "Let's find out the neighborhoods associated with these two zip codes. In all likelihood, these are some of the contested \n",
    "neighborhood with high reported crimes."
   ]
  },
  {
   "cell_type": "code",
   "execution_count": 0,
   "metadata": {
    "application/vnd.databricks.v1+cell": {
     "cellMetadata": {},
     "inputWidgets": {},
     "nuid": "37aeb481-b53f-4e6b-91dd-36e02519e58f",
     "showTitle": false,
     "title": ""
    }
   },
   "outputs": [
    {
     "output_type": "stream",
     "name": "stdout",
     "output_type": "stream",
     "text": [
      "+------------------------------+-------+\n|Neighborhood                  |Zipcode|\n+------------------------------+-------+\n|Western Addition              |94102  |\n|Tenderloin                    |94102  |\n|Nob Hill                      |94102  |\n|Castro/Upper Market           |94103  |\n|South of Market               |94102  |\n|South of Market               |94103  |\n|Financial District/South Beach|94102  |\n|Tenderloin                    |94103  |\n|Financial District/South Beach|94103  |\n|Hayes Valley                  |94102  |\n+------------------------------+-------+\nonly showing top 10 rows\n\n"
     ]
    }
   ],
   "source": [
    "fire_ts_df.select(\"Neighborhood\", \"Zipcode\").where((col(\"Zipcode\") == 94102) | (col(\"Zipcode\") == 94103)).distinct().show(10, truncate=False)"
   ]
  },
  {
   "cell_type": "markdown",
   "metadata": {
    "application/vnd.databricks.v1+cell": {
     "cellMetadata": {},
     "inputWidgets": {},
     "nuid": "4db8dcee-760f-4104-ac83-f65d97fc0b94",
     "showTitle": false,
     "title": ""
    }
   },
   "source": [
    "**Q-5) What was the sum of all calls, average, min and max of the response times for calls?**\n",
    "\n",
    "Let's use the built-in Spark SQL functions to compute the sum, avg, min, and max of few columns:\n",
    "\n",
    "* Number of Total Alarms\n",
    "* What were the min and max the delay in response time before the Fire Dept arrived at the scene of the call"
   ]
  },
  {
   "cell_type": "code",
   "execution_count": 0,
   "metadata": {
    "application/vnd.databricks.v1+cell": {
     "cellMetadata": {},
     "inputWidgets": {},
     "nuid": "421be593-a16b-400c-9c50-47f70c30dbbc",
     "showTitle": false,
     "title": ""
    }
   },
   "outputs": [
    {
     "output_type": "stream",
     "name": "stdout",
     "output_type": "stream",
     "text": [
      "+--------------+--------------------------+--------------------------+--------------------------+\n|sum(NumAlarms)|avg(ResponseDelayedinMins)|min(ResponseDelayedinMins)|max(ResponseDelayedinMins)|\n+--------------+--------------------------+--------------------------+--------------------------+\n|       4403441|         3.902170335891614|               0.016666668|                 1879.6167|\n+--------------+--------------------------+--------------------------+--------------------------+\n\n"
     ]
    }
   ],
   "source": [
    "fire_ts_df.select(sum(\"NumAlarms\"), avg(\"ResponseDelayedinMins\"), min(\"ResponseDelayedinMins\"), max(\"ResponseDelayedinMins\")).show()"
   ]
  },
  {
   "cell_type": "markdown",
   "metadata": {
    "application/vnd.databricks.v1+cell": {
     "cellMetadata": {},
     "inputWidgets": {},
     "nuid": "0d6a62d0-d19a-4118-bc80-e07455078b07",
     "showTitle": false,
     "title": ""
    }
   },
   "source": [
    "** Q-6a) How many distinct years of data is in the CSV file?**\n",
    "\n",
    "We can use the `year()` SQL Spark function off the Timestamp column data type IncidentDate.\n",
    "\n",
    "In all, we have fire calls from years 2000-2018"
   ]
  },
  {
   "cell_type": "code",
   "execution_count": 0,
   "metadata": {
    "application/vnd.databricks.v1+cell": {
     "cellMetadata": {},
     "inputWidgets": {},
     "nuid": "bb91ba8e-4fd1-456e-ad0a-e30e556ff5a3",
     "showTitle": false,
     "title": ""
    }
   },
   "outputs": [
    {
     "output_type": "stream",
     "name": "stdout",
     "output_type": "stream",
     "text": [
      "+------------------+\n|year(IncidentDate)|\n+------------------+\n|              2000|\n|              2001|\n|              2002|\n|              2003|\n|              2004|\n|              2005|\n|              2006|\n|              2007|\n|              2008|\n|              2009|\n|              2010|\n|              2011|\n|              2012|\n|              2013|\n|              2014|\n|              2015|\n|              2016|\n|              2017|\n|              2018|\n+------------------+\n\n"
     ]
    }
   ],
   "source": [
    "fire_ts_df.select(year(\"IncidentDate\")).distinct().orderBy(year(\"IncidentDate\")).show()"
   ]
  },
  {
   "cell_type": "markdown",
   "metadata": {
    "application/vnd.databricks.v1+cell": {
     "cellMetadata": {},
     "inputWidgets": {},
     "nuid": "2e4d1ba6-2485-42df-90f1-a118396bec90",
     "showTitle": false,
     "title": ""
    }
   },
   "source": [
    "** Q-6b) What week of the year in 2018 had the most fire calls?**\n",
    "\n",
    "**Note**: Week 1 is the New Years' week and week 25 is the July 4 the week. Loads of fireworks, so it makes sense the higher number of calls."
   ]
  },
  {
   "cell_type": "code",
   "execution_count": 0,
   "metadata": {
    "application/vnd.databricks.v1+cell": {
     "cellMetadata": {},
     "inputWidgets": {},
     "nuid": "1b7ae734-4188-4496-9651-40fc04121bd4",
     "showTitle": false,
     "title": ""
    }
   },
   "outputs": [
    {
     "output_type": "stream",
     "name": "stdout",
     "output_type": "stream",
     "text": [
      "+------------------------+-----+\n|weekofyear(IncidentDate)|count|\n+------------------------+-----+\n|                       1| 6401|\n|                      25| 6163|\n|                      13| 6103|\n|                      22| 6060|\n|                      44| 6048|\n|                      27| 6042|\n|                      16| 6009|\n|                      40| 6000|\n|                      43| 5986|\n|                       5| 5946|\n|                       2| 5929|\n|                      18| 5917|\n|                       9| 5874|\n|                       8| 5843|\n|                       6| 5839|\n|                      21| 5821|\n|                      38| 5817|\n|                      10| 5806|\n|                      23| 5781|\n|                      32| 5764|\n+------------------------+-----+\nonly showing top 20 rows\n\n"
     ]
    }
   ],
   "source": [
    "fire_ts_df.filter(year(\"IncidentDate\") == 2018).groupBy(weekofyear(\"IncidentDate\")).count().orderBy(\"count\", ascending=False).show()"
   ]
  },
  {
   "cell_type": "markdown",
   "metadata": {
    "application/vnd.databricks.v1+cell": {
     "cellMetadata": {},
     "inputWidgets": {},
     "nuid": "3daec49f-847b-44e2-85e7-af19b6aee4e4",
     "showTitle": false,
     "title": ""
    }
   },
   "source": [
    "** Q-7) What neighborhoods in San Francisco had the worst response time in 2018?**\n",
    "\n",
    "It appears that if you living in Presidio Heights, the Fire Dept arrived in less than 3 mins, while Mission Bay took more than 6 mins."
   ]
  },
  {
   "cell_type": "code",
   "execution_count": 0,
   "metadata": {
    "application/vnd.databricks.v1+cell": {
     "cellMetadata": {},
     "inputWidgets": {},
     "nuid": "f710a989-ab96-41e8-b638-d2e358334608",
     "showTitle": false,
     "title": ""
    }
   },
   "outputs": [
    {
     "output_type": "stream",
     "name": "stdout",
     "output_type": "stream",
     "text": [
      "+----------------+---------------------+\n|Neighborhood    |ResponseDelayedinMins|\n+----------------+---------------------+\n|Presidio Heights|2.4666667            |\n|Presidio Heights|2.8833334            |\n|Presidio Heights|2.1166666            |\n|Presidio Heights|4.25                 |\n|Presidio Heights|2.8166666            |\n|Presidio Heights|3.4                  |\n|Presidio Heights|2.7333333            |\n|Mission Bay     |6.266667             |\n|Mission Bay     |6.733333             |\n|Mission Bay     |6.3333335            |\n+----------------+---------------------+\nonly showing top 10 rows\n\n"
     ]
    }
   ],
   "source": [
    "fire_ts_df.select(\"Neighborhood\", \"ResponseDelayedinMins\").filter(year(\"IncidentDate\") == 2018).show(10, False)"
   ]
  },
  {
   "cell_type": "markdown",
   "metadata": {
    "application/vnd.databricks.v1+cell": {
     "cellMetadata": {},
     "inputWidgets": {},
     "nuid": "301c30e3-e567-4f64-aaeb-885bcb003287",
     "showTitle": false,
     "title": ""
    }
   },
   "source": [
    "** Q-8a) How can we use Parquet files or SQL table to store data and read it back?**"
   ]
  },
  {
   "cell_type": "code",
   "execution_count": 0,
   "metadata": {
    "application/vnd.databricks.v1+cell": {
     "cellMetadata": {},
     "inputWidgets": {},
     "nuid": "c4f1491a-2fc5-40fc-97cd-8490d128b794",
     "showTitle": false,
     "title": ""
    }
   },
   "outputs": [],
   "source": [
    "fire_ts_df.write.format(\"parquet\").mode(\"overwrite\").save(\"/tmp/fireServiceParquet/\")"
   ]
  },
  {
   "cell_type": "code",
   "execution_count": 0,
   "metadata": {
    "application/vnd.databricks.v1+cell": {
     "cellMetadata": {},
     "inputWidgets": {},
     "nuid": "1b5ca4f8-4d81-4776-87bd-cb8a7c4d9779",
     "showTitle": false,
     "title": ""
    }
   },
   "outputs": [
    {
     "output_type": "display_data",
     "data": {
      "text/html": [
       "<style scoped>\n",
       "  .table-result-container {\n",
       "    max-height: 300px;\n",
       "    overflow: auto;\n",
       "  }\n",
       "  table, th, td {\n",
       "    border: 1px solid black;\n",
       "    border-collapse: collapse;\n",
       "  }\n",
       "  th, td {\n",
       "    padding: 5px;\n",
       "  }\n",
       "  th {\n",
       "    text-align: left;\n",
       "  }\n",
       "</style><div class='table-result-container'><table class='table-result'><thead style='background-color: white'><tr><th>path</th><th>name</th><th>size</th><th>modificationTime</th></tr></thead><tbody><tr><td>dbfs:/tmp/fireServiceParquet/_SUCCESS</td><td>_SUCCESS</td><td>0</td><td>1676011577000</td></tr><tr><td>dbfs:/tmp/fireServiceParquet/_committed_3682280538891507627</td><td>_committed_3682280538891507627</td><td>924</td><td>1672907543000</td></tr><tr><td>dbfs:/tmp/fireServiceParquet/_committed_8186096185729529859</td><td>_committed_8186096185729529859</td><td>1834</td><td>1676011576000</td></tr><tr><td>dbfs:/tmp/fireServiceParquet/_committed_vacuum4991261393602229716</td><td>_committed_vacuum4991261393602229716</td><td>96</td><td>1676011578000</td></tr><tr><td>dbfs:/tmp/fireServiceParquet/_started_8186096185729529859</td><td>_started_8186096185729529859</td><td>0</td><td>1676011509000</td></tr><tr><td>dbfs:/tmp/fireServiceParquet/part-00000-tid-8186096185729529859-3c97f9aa-4263-4fd5-b594-f9c551b934a1-226-1-c000.snappy.parquet</td><td>part-00000-tid-8186096185729529859-3c97f9aa-4263-4fd5-b594-f9c551b934a1-226-1-c000.snappy.parquet</td><td>19478331</td><td>1676011569000</td></tr><tr><td>dbfs:/tmp/fireServiceParquet/part-00001-tid-8186096185729529859-3c97f9aa-4263-4fd5-b594-f9c551b934a1-227-1-c000.snappy.parquet</td><td>part-00001-tid-8186096185729529859-3c97f9aa-4263-4fd5-b594-f9c551b934a1-227-1-c000.snappy.parquet</td><td>19690958</td><td>1676011569000</td></tr><tr><td>dbfs:/tmp/fireServiceParquet/part-00002-tid-8186096185729529859-3c97f9aa-4263-4fd5-b594-f9c551b934a1-228-1-c000.snappy.parquet</td><td>part-00002-tid-8186096185729529859-3c97f9aa-4263-4fd5-b594-f9c551b934a1-228-1-c000.snappy.parquet</td><td>19317318</td><td>1676011569000</td></tr><tr><td>dbfs:/tmp/fireServiceParquet/part-00003-tid-8186096185729529859-3c97f9aa-4263-4fd5-b594-f9c551b934a1-229-1-c000.snappy.parquet</td><td>part-00003-tid-8186096185729529859-3c97f9aa-4263-4fd5-b594-f9c551b934a1-229-1-c000.snappy.parquet</td><td>17794007</td><td>1676011569000</td></tr><tr><td>dbfs:/tmp/fireServiceParquet/part-00004-tid-8186096185729529859-3c97f9aa-4263-4fd5-b594-f9c551b934a1-230-1-c000.snappy.parquet</td><td>part-00004-tid-8186096185729529859-3c97f9aa-4263-4fd5-b594-f9c551b934a1-230-1-c000.snappy.parquet</td><td>20768695</td><td>1676011569000</td></tr><tr><td>dbfs:/tmp/fireServiceParquet/part-00005-tid-8186096185729529859-3c97f9aa-4263-4fd5-b594-f9c551b934a1-231-1-c000.snappy.parquet</td><td>part-00005-tid-8186096185729529859-3c97f9aa-4263-4fd5-b594-f9c551b934a1-231-1-c000.snappy.parquet</td><td>19365778</td><td>1676011569000</td></tr><tr><td>dbfs:/tmp/fireServiceParquet/part-00006-tid-8186096185729529859-3c97f9aa-4263-4fd5-b594-f9c551b934a1-232-1-c000.snappy.parquet</td><td>part-00006-tid-8186096185729529859-3c97f9aa-4263-4fd5-b594-f9c551b934a1-232-1-c000.snappy.parquet</td><td>19484669</td><td>1676011569000</td></tr><tr><td>dbfs:/tmp/fireServiceParquet/part-00007-tid-8186096185729529859-3c97f9aa-4263-4fd5-b594-f9c551b934a1-233-1-c000.snappy.parquet</td><td>part-00007-tid-8186096185729529859-3c97f9aa-4263-4fd5-b594-f9c551b934a1-233-1-c000.snappy.parquet</td><td>21082194</td><td>1676011569000</td></tr><tr><td>dbfs:/tmp/fireServiceParquet/part-00008-tid-8186096185729529859-3c97f9aa-4263-4fd5-b594-f9c551b934a1-234-1-c000.snappy.parquet</td><td>part-00008-tid-8186096185729529859-3c97f9aa-4263-4fd5-b594-f9c551b934a1-234-1-c000.snappy.parquet</td><td>9338564</td><td>1676011575000</td></tr></tbody></table></div>"
      ]
     },
     "metadata": {
      "application/vnd.databricks.v1+output": {
       "addedWidgets": {},
       "aggData": [],
       "aggError": "",
       "aggOverflow": false,
       "aggSchema": [],
       "aggSeriesLimitReached": false,
       "aggType": "",
       "arguments": {},
       "columnCustomDisplayInfos": {},
       "data": [
        [
         "dbfs:/tmp/fireServiceParquet/_SUCCESS",
         "_SUCCESS",
         0,
         1676011577000
        ],
        [
         "dbfs:/tmp/fireServiceParquet/_committed_3682280538891507627",
         "_committed_3682280538891507627",
         924,
         1672907543000
        ],
        [
         "dbfs:/tmp/fireServiceParquet/_committed_8186096185729529859",
         "_committed_8186096185729529859",
         1834,
         1676011576000
        ],
        [
         "dbfs:/tmp/fireServiceParquet/_committed_vacuum4991261393602229716",
         "_committed_vacuum4991261393602229716",
         96,
         1676011578000
        ],
        [
         "dbfs:/tmp/fireServiceParquet/_started_8186096185729529859",
         "_started_8186096185729529859",
         0,
         1676011509000
        ],
        [
         "dbfs:/tmp/fireServiceParquet/part-00000-tid-8186096185729529859-3c97f9aa-4263-4fd5-b594-f9c551b934a1-226-1-c000.snappy.parquet",
         "part-00000-tid-8186096185729529859-3c97f9aa-4263-4fd5-b594-f9c551b934a1-226-1-c000.snappy.parquet",
         19478331,
         1676011569000
        ],
        [
         "dbfs:/tmp/fireServiceParquet/part-00001-tid-8186096185729529859-3c97f9aa-4263-4fd5-b594-f9c551b934a1-227-1-c000.snappy.parquet",
         "part-00001-tid-8186096185729529859-3c97f9aa-4263-4fd5-b594-f9c551b934a1-227-1-c000.snappy.parquet",
         19690958,
         1676011569000
        ],
        [
         "dbfs:/tmp/fireServiceParquet/part-00002-tid-8186096185729529859-3c97f9aa-4263-4fd5-b594-f9c551b934a1-228-1-c000.snappy.parquet",
         "part-00002-tid-8186096185729529859-3c97f9aa-4263-4fd5-b594-f9c551b934a1-228-1-c000.snappy.parquet",
         19317318,
         1676011569000
        ],
        [
         "dbfs:/tmp/fireServiceParquet/part-00003-tid-8186096185729529859-3c97f9aa-4263-4fd5-b594-f9c551b934a1-229-1-c000.snappy.parquet",
         "part-00003-tid-8186096185729529859-3c97f9aa-4263-4fd5-b594-f9c551b934a1-229-1-c000.snappy.parquet",
         17794007,
         1676011569000
        ],
        [
         "dbfs:/tmp/fireServiceParquet/part-00004-tid-8186096185729529859-3c97f9aa-4263-4fd5-b594-f9c551b934a1-230-1-c000.snappy.parquet",
         "part-00004-tid-8186096185729529859-3c97f9aa-4263-4fd5-b594-f9c551b934a1-230-1-c000.snappy.parquet",
         20768695,
         1676011569000
        ],
        [
         "dbfs:/tmp/fireServiceParquet/part-00005-tid-8186096185729529859-3c97f9aa-4263-4fd5-b594-f9c551b934a1-231-1-c000.snappy.parquet",
         "part-00005-tid-8186096185729529859-3c97f9aa-4263-4fd5-b594-f9c551b934a1-231-1-c000.snappy.parquet",
         19365778,
         1676011569000
        ],
        [
         "dbfs:/tmp/fireServiceParquet/part-00006-tid-8186096185729529859-3c97f9aa-4263-4fd5-b594-f9c551b934a1-232-1-c000.snappy.parquet",
         "part-00006-tid-8186096185729529859-3c97f9aa-4263-4fd5-b594-f9c551b934a1-232-1-c000.snappy.parquet",
         19484669,
         1676011569000
        ],
        [
         "dbfs:/tmp/fireServiceParquet/part-00007-tid-8186096185729529859-3c97f9aa-4263-4fd5-b594-f9c551b934a1-233-1-c000.snappy.parquet",
         "part-00007-tid-8186096185729529859-3c97f9aa-4263-4fd5-b594-f9c551b934a1-233-1-c000.snappy.parquet",
         21082194,
         1676011569000
        ],
        [
         "dbfs:/tmp/fireServiceParquet/part-00008-tid-8186096185729529859-3c97f9aa-4263-4fd5-b594-f9c551b934a1-234-1-c000.snappy.parquet",
         "part-00008-tid-8186096185729529859-3c97f9aa-4263-4fd5-b594-f9c551b934a1-234-1-c000.snappy.parquet",
         9338564,
         1676011575000
        ]
       ],
       "datasetInfos": [],
       "dbfsResultPath": null,
       "isJsonSchema": true,
       "metadata": {
        "isDbfsCommandResult": false
       },
       "overflow": false,
       "plotOptions": {
        "customPlotOptions": {},
        "displayType": "table",
        "pivotAggregation": null,
        "pivotColumns": null,
        "xColumns": null,
        "yColumns": null
       },
       "removedWidgets": [],
       "schema": [
        {
         "metadata": "{}",
         "name": "path",
         "type": "\"string\""
        },
        {
         "metadata": "{}",
         "name": "name",
         "type": "\"string\""
        },
        {
         "metadata": "{}",
         "name": "size",
         "type": "\"long\""
        },
        {
         "metadata": "{}",
         "name": "modificationTime",
         "type": "\"long\""
        }
       ],
       "type": "table"
      }
     },
     "output_type": "display_data"
    }
   ],
   "source": [
    "%fs ls /tmp/fireServiceParquet/"
   ]
  },
  {
   "cell_type": "markdown",
   "metadata": {
    "application/vnd.databricks.v1+cell": {
     "cellMetadata": {},
     "inputWidgets": {},
     "nuid": "3e3f41af-e28b-4a05-8c16-5847c3d84faa",
     "showTitle": false,
     "title": ""
    }
   },
   "source": [
    "** Q-8b) How can read data from Parquet file?**\n",
    "\n",
    "Note we don't have to specify the schema here since it's stored as part of the Parquet metadata"
   ]
  },
  {
   "cell_type": "code",
   "execution_count": 0,
   "metadata": {
    "application/vnd.databricks.v1+cell": {
     "cellMetadata": {},
     "inputWidgets": {},
     "nuid": "30951a1d-2c2c-445f-9c7e-d44eb30b2e41",
     "showTitle": false,
     "title": ""
    }
   },
   "outputs": [],
   "source": [
    "file_parquet_df = spark.read.format(\"parquet\").load(\"/tmp/fireServiceParquet/\")"
   ]
  },
  {
   "cell_type": "code",
   "execution_count": 0,
   "metadata": {
    "application/vnd.databricks.v1+cell": {
     "cellMetadata": {},
     "inputWidgets": {},
     "nuid": "bff0aba7-de72-4f0b-ab41-69830de0a464",
     "showTitle": false,
     "title": ""
    }
   },
   "outputs": [
    {
     "output_type": "display_data",
     "data": {
      "text/html": [
       "<style scoped>\n",
       "  .table-result-container {\n",
       "    max-height: 300px;\n",
       "    overflow: auto;\n",
       "  }\n",
       "  table, th, td {\n",
       "    border: 1px solid black;\n",
       "    border-collapse: collapse;\n",
       "  }\n",
       "  th, td {\n",
       "    padding: 5px;\n",
       "  }\n",
       "  th {\n",
       "    text-align: left;\n",
       "  }\n",
       "</style><div class='table-result-container'><table class='table-result'><thead style='background-color: white'><tr><th>CallNumber</th><th>UnitID</th><th>IncidentNumber</th><th>CallType</th><th>CallFinalDisposition</th><th>Address</th><th>City</th><th>Zipcode</th><th>Battalion</th><th>StationArea</th><th>Box</th><th>OriginalPriority</th><th>Priority</th><th>FinalPriority</th><th>ALSUnit</th><th>CallTypeGroup</th><th>NumAlarms</th><th>UnitType</th><th>UnitSequenceInCallDispatch</th><th>FirePreventionDistrict</th><th>SupervisorDistrict</th><th>Neighborhood</th><th>Location</th><th>RowID</th><th>ResponseDelayedinMins</th><th>IncidentDate</th><th>OnWatchDate</th><th>AvailableDtTS</th></tr></thead><tbody><tr><td>111050354</td><td>E14</td><td>11034920</td><td>Medical Incident</td><td>Other</td><td>500 Block of 21ST AVE</td><td>SF</td><td>94121</td><td>B07</td><td>14</td><td>7171</td><td>3</td><td>3</td><td>3</td><td>true</td><td>null</td><td>1</td><td>ENGINE</td><td>1</td><td>7</td><td>1</td><td>Outer Richmond</td><td>(37.7774255992901, -122.480311994328)</td><td>111050354-E14</td><td>4.7833333</td><td>2011-04-15T00:00:00.000+0000</td><td>2011-04-15T00:00:00.000+0000</td><td>2011-04-15T23:27:08.000+0000</td></tr><tr><td>111050355</td><td>E03</td><td>11034921</td><td>Structure Fire</td><td>Other</td><td>HYDE ST/BUSH ST</td><td>SF</td><td>94109</td><td>B04</td><td>03</td><td>1561</td><td>3</td><td>3</td><td>3</td><td>true</td><td>null</td><td>1</td><td>ENGINE</td><td>1</td><td>4</td><td>3</td><td>Nob Hill</td><td>(37.7891101748937, -122.417016879226)</td><td>111050355-E03</td><td>1.9166666</td><td>2011-04-15T00:00:00.000+0000</td><td>2011-04-15T00:00:00.000+0000</td><td>2011-04-15T23:10:54.000+0000</td></tr><tr><td>111050355</td><td>T03</td><td>11034921</td><td>Structure Fire</td><td>Other</td><td>HYDE ST/BUSH ST</td><td>SF</td><td>94109</td><td>B04</td><td>03</td><td>1561</td><td>3</td><td>3</td><td>3</td><td>false</td><td>null</td><td>1</td><td>TRUCK</td><td>2</td><td>4</td><td>3</td><td>Nob Hill</td><td>(37.7891101748937, -122.417016879226)</td><td>111050355-T03</td><td>2.4333334</td><td>2011-04-15T00:00:00.000+0000</td><td>2011-04-15T00:00:00.000+0000</td><td>2011-04-15T23:10:54.000+0000</td></tr><tr><td>111050356</td><td>73</td><td>11034922</td><td>Structure Fire</td><td>Other</td><td>1000 Block of POTRERO AVE</td><td>SF</td><td>94110</td><td>B10</td><td>07</td><td>2553</td><td>3</td><td>3</td><td>3</td><td>true</td><td>null</td><td>1</td><td>MEDIC</td><td>10</td><td>10</td><td>10</td><td>Potrero Hill</td><td>(37.7565080013216, -122.40654101432)</td><td>111050356-73</td><td>2.0666666</td><td>2011-04-15T00:00:00.000+0000</td><td>2011-04-15T00:00:00.000+0000</td><td>2011-04-15T23:24:56.000+0000</td></tr><tr><td>111050356</td><td>B06</td><td>11034922</td><td>Structure Fire</td><td>Other</td><td>1000 Block of POTRERO AVE</td><td>SF</td><td>94110</td><td>B10</td><td>07</td><td>2553</td><td>3</td><td>3</td><td>3</td><td>false</td><td>null</td><td>1</td><td>CHIEF</td><td>6</td><td>10</td><td>10</td><td>Potrero Hill</td><td>(37.7565080013216, -122.40654101432)</td><td>111050356-B06</td><td>2.6</td><td>2011-04-15T00:00:00.000+0000</td><td>2011-04-15T00:00:00.000+0000</td><td>2011-04-15T23:22:46.000+0000</td></tr><tr><td>111050356</td><td>B10</td><td>11034922</td><td>Structure Fire</td><td>Other</td><td>1000 Block of POTRERO AVE</td><td>SF</td><td>94110</td><td>B10</td><td>07</td><td>2553</td><td>3</td><td>3</td><td>3</td><td>false</td><td>null</td><td>1</td><td>CHIEF</td><td>4</td><td>10</td><td>10</td><td>Potrero Hill</td><td>(37.7565080013216, -122.40654101432)</td><td>111050356-B10</td><td>3.25</td><td>2011-04-15T00:00:00.000+0000</td><td>2011-04-15T00:00:00.000+0000</td><td>2011-04-15T23:25:00.000+0000</td></tr><tr><td>111050356</td><td>D3</td><td>11034922</td><td>Structure Fire</td><td>Other</td><td>1000 Block of POTRERO AVE</td><td>SF</td><td>94110</td><td>B10</td><td>07</td><td>2553</td><td>3</td><td>3</td><td>3</td><td>false</td><td>null</td><td>1</td><td>CHIEF</td><td>7</td><td>10</td><td>10</td><td>Potrero Hill</td><td>(37.7565080013216, -122.40654101432)</td><td>111050356-D3</td><td>3.5</td><td>2011-04-15T00:00:00.000+0000</td><td>2011-04-15T00:00:00.000+0000</td><td>2011-04-15T23:23:01.000+0000</td></tr><tr><td>111050356</td><td>E29</td><td>11034922</td><td>Structure Fire</td><td>Other</td><td>1000 Block of POTRERO AVE</td><td>SF</td><td>94110</td><td>B10</td><td>07</td><td>2553</td><td>3</td><td>3</td><td>3</td><td>true</td><td>null</td><td>1</td><td>ENGINE</td><td>8</td><td>10</td><td>10</td><td>Potrero Hill</td><td>(37.7565080013216, -122.40654101432)</td><td>111050356-E29</td><td>2.6</td><td>2011-04-15T00:00:00.000+0000</td><td>2011-04-15T00:00:00.000+0000</td><td>2011-04-15T23:22:50.000+0000</td></tr><tr><td>111050356</td><td>E37</td><td>11034922</td><td>Structure Fire</td><td>Other</td><td>1000 Block of POTRERO AVE</td><td>SF</td><td>94110</td><td>B10</td><td>07</td><td>2553</td><td>3</td><td>3</td><td>3</td><td>false</td><td>null</td><td>1</td><td>ENGINE</td><td>2</td><td>10</td><td>10</td><td>Potrero Hill</td><td>(37.7565080013216, -122.40654101432)</td><td>111050356-E37</td><td>2.6666667</td><td>2011-04-15T00:00:00.000+0000</td><td>2011-04-15T00:00:00.000+0000</td><td>2011-04-15T23:25:10.000+0000</td></tr><tr><td>111050356</td><td>RS2</td><td>11034922</td><td>Structure Fire</td><td>Other</td><td>1000 Block of POTRERO AVE</td><td>SF</td><td>94110</td><td>B10</td><td>07</td><td>2553</td><td>3</td><td>3</td><td>3</td><td>false</td><td>null</td><td>1</td><td>RESCUE SQUAD</td><td>5</td><td>10</td><td>10</td><td>Potrero Hill</td><td>(37.7565080013216, -122.40654101432)</td><td>111050356-RS2</td><td>3.05</td><td>2011-04-15T00:00:00.000+0000</td><td>2011-04-15T00:00:00.000+0000</td><td>2011-04-15T23:24:11.000+0000</td></tr></tbody></table></div>"
      ]
     },
     "metadata": {
      "application/vnd.databricks.v1+output": {
       "addedWidgets": {},
       "aggData": [],
       "aggError": "",
       "aggOverflow": false,
       "aggSchema": [],
       "aggSeriesLimitReached": false,
       "aggType": "",
       "arguments": {},
       "columnCustomDisplayInfos": {},
       "data": [
        [
         111050354,
         "E14",
         11034920,
         "Medical Incident",
         "Other",
         "500 Block of 21ST AVE",
         "SF",
         94121,
         "B07",
         "14",
         "7171",
         "3",
         "3",
         3,
         true,
         null,
         1,
         "ENGINE",
         1,
         "7",
         "1",
         "Outer Richmond",
         "(37.7774255992901, -122.480311994328)",
         "111050354-E14",
         4.7833333,
         "2011-04-15T00:00:00.000+0000",
         "2011-04-15T00:00:00.000+0000",
         "2011-04-15T23:27:08.000+0000"
        ],
        [
         111050355,
         "E03",
         11034921,
         "Structure Fire",
         "Other",
         "HYDE ST/BUSH ST",
         "SF",
         94109,
         "B04",
         "03",
         "1561",
         "3",
         "3",
         3,
         true,
         null,
         1,
         "ENGINE",
         1,
         "4",
         "3",
         "Nob Hill",
         "(37.7891101748937, -122.417016879226)",
         "111050355-E03",
         1.9166666,
         "2011-04-15T00:00:00.000+0000",
         "2011-04-15T00:00:00.000+0000",
         "2011-04-15T23:10:54.000+0000"
        ],
        [
         111050355,
         "T03",
         11034921,
         "Structure Fire",
         "Other",
         "HYDE ST/BUSH ST",
         "SF",
         94109,
         "B04",
         "03",
         "1561",
         "3",
         "3",
         3,
         false,
         null,
         1,
         "TRUCK",
         2,
         "4",
         "3",
         "Nob Hill",
         "(37.7891101748937, -122.417016879226)",
         "111050355-T03",
         2.4333334,
         "2011-04-15T00:00:00.000+0000",
         "2011-04-15T00:00:00.000+0000",
         "2011-04-15T23:10:54.000+0000"
        ],
        [
         111050356,
         "73",
         11034922,
         "Structure Fire",
         "Other",
         "1000 Block of POTRERO AVE",
         "SF",
         94110,
         "B10",
         "07",
         "2553",
         "3",
         "3",
         3,
         true,
         null,
         1,
         "MEDIC",
         10,
         "10",
         "10",
         "Potrero Hill",
         "(37.7565080013216, -122.40654101432)",
         "111050356-73",
         2.0666666,
         "2011-04-15T00:00:00.000+0000",
         "2011-04-15T00:00:00.000+0000",
         "2011-04-15T23:24:56.000+0000"
        ],
        [
         111050356,
         "B06",
         11034922,
         "Structure Fire",
         "Other",
         "1000 Block of POTRERO AVE",
         "SF",
         94110,
         "B10",
         "07",
         "2553",
         "3",
         "3",
         3,
         false,
         null,
         1,
         "CHIEF",
         6,
         "10",
         "10",
         "Potrero Hill",
         "(37.7565080013216, -122.40654101432)",
         "111050356-B06",
         2.6,
         "2011-04-15T00:00:00.000+0000",
         "2011-04-15T00:00:00.000+0000",
         "2011-04-15T23:22:46.000+0000"
        ],
        [
         111050356,
         "B10",
         11034922,
         "Structure Fire",
         "Other",
         "1000 Block of POTRERO AVE",
         "SF",
         94110,
         "B10",
         "07",
         "2553",
         "3",
         "3",
         3,
         false,
         null,
         1,
         "CHIEF",
         4,
         "10",
         "10",
         "Potrero Hill",
         "(37.7565080013216, -122.40654101432)",
         "111050356-B10",
         3.25,
         "2011-04-15T00:00:00.000+0000",
         "2011-04-15T00:00:00.000+0000",
         "2011-04-15T23:25:00.000+0000"
        ],
        [
         111050356,
         "D3",
         11034922,
         "Structure Fire",
         "Other",
         "1000 Block of POTRERO AVE",
         "SF",
         94110,
         "B10",
         "07",
         "2553",
         "3",
         "3",
         3,
         false,
         null,
         1,
         "CHIEF",
         7,
         "10",
         "10",
         "Potrero Hill",
         "(37.7565080013216, -122.40654101432)",
         "111050356-D3",
         3.5,
         "2011-04-15T00:00:00.000+0000",
         "2011-04-15T00:00:00.000+0000",
         "2011-04-15T23:23:01.000+0000"
        ],
        [
         111050356,
         "E29",
         11034922,
         "Structure Fire",
         "Other",
         "1000 Block of POTRERO AVE",
         "SF",
         94110,
         "B10",
         "07",
         "2553",
         "3",
         "3",
         3,
         true,
         null,
         1,
         "ENGINE",
         8,
         "10",
         "10",
         "Potrero Hill",
         "(37.7565080013216, -122.40654101432)",
         "111050356-E29",
         2.6,
         "2011-04-15T00:00:00.000+0000",
         "2011-04-15T00:00:00.000+0000",
         "2011-04-15T23:22:50.000+0000"
        ],
        [
         111050356,
         "E37",
         11034922,
         "Structure Fire",
         "Other",
         "1000 Block of POTRERO AVE",
         "SF",
         94110,
         "B10",
         "07",
         "2553",
         "3",
         "3",
         3,
         false,
         null,
         1,
         "ENGINE",
         2,
         "10",
         "10",
         "Potrero Hill",
         "(37.7565080013216, -122.40654101432)",
         "111050356-E37",
         2.6666667,
         "2011-04-15T00:00:00.000+0000",
         "2011-04-15T00:00:00.000+0000",
         "2011-04-15T23:25:10.000+0000"
        ],
        [
         111050356,
         "RS2",
         11034922,
         "Structure Fire",
         "Other",
         "1000 Block of POTRERO AVE",
         "SF",
         94110,
         "B10",
         "07",
         "2553",
         "3",
         "3",
         3,
         false,
         null,
         1,
         "RESCUE SQUAD",
         5,
         "10",
         "10",
         "Potrero Hill",
         "(37.7565080013216, -122.40654101432)",
         "111050356-RS2",
         3.05,
         "2011-04-15T00:00:00.000+0000",
         "2011-04-15T00:00:00.000+0000",
         "2011-04-15T23:24:11.000+0000"
        ]
       ],
       "datasetInfos": [],
       "dbfsResultPath": null,
       "isJsonSchema": true,
       "metadata": {},
       "overflow": false,
       "plotOptions": {
        "customPlotOptions": {},
        "displayType": "table",
        "pivotAggregation": null,
        "pivotColumns": null,
        "xColumns": null,
        "yColumns": null
       },
       "removedWidgets": [],
       "schema": [
        {
         "metadata": "{}",
         "name": "CallNumber",
         "type": "\"integer\""
        },
        {
         "metadata": "{}",
         "name": "UnitID",
         "type": "\"string\""
        },
        {
         "metadata": "{}",
         "name": "IncidentNumber",
         "type": "\"integer\""
        },
        {
         "metadata": "{}",
         "name": "CallType",
         "type": "\"string\""
        },
        {
         "metadata": "{}",
         "name": "CallFinalDisposition",
         "type": "\"string\""
        },
        {
         "metadata": "{}",
         "name": "Address",
         "type": "\"string\""
        },
        {
         "metadata": "{}",
         "name": "City",
         "type": "\"string\""
        },
        {
         "metadata": "{}",
         "name": "Zipcode",
         "type": "\"integer\""
        },
        {
         "metadata": "{}",
         "name": "Battalion",
         "type": "\"string\""
        },
        {
         "metadata": "{}",
         "name": "StationArea",
         "type": "\"string\""
        },
        {
         "metadata": "{}",
         "name": "Box",
         "type": "\"string\""
        },
        {
         "metadata": "{}",
         "name": "OriginalPriority",
         "type": "\"string\""
        },
        {
         "metadata": "{}",
         "name": "Priority",
         "type": "\"string\""
        },
        {
         "metadata": "{}",
         "name": "FinalPriority",
         "type": "\"integer\""
        },
        {
         "metadata": "{}",
         "name": "ALSUnit",
         "type": "\"boolean\""
        },
        {
         "metadata": "{}",
         "name": "CallTypeGroup",
         "type": "\"string\""
        },
        {
         "metadata": "{}",
         "name": "NumAlarms",
         "type": "\"integer\""
        },
        {
         "metadata": "{}",
         "name": "UnitType",
         "type": "\"string\""
        },
        {
         "metadata": "{}",
         "name": "UnitSequenceInCallDispatch",
         "type": "\"integer\""
        },
        {
         "metadata": "{}",
         "name": "FirePreventionDistrict",
         "type": "\"string\""
        },
        {
         "metadata": "{}",
         "name": "SupervisorDistrict",
         "type": "\"string\""
        },
        {
         "metadata": "{}",
         "name": "Neighborhood",
         "type": "\"string\""
        },
        {
         "metadata": "{}",
         "name": "Location",
         "type": "\"string\""
        },
        {
         "metadata": "{}",
         "name": "RowID",
         "type": "\"string\""
        },
        {
         "metadata": "{}",
         "name": "ResponseDelayedinMins",
         "type": "\"float\""
        },
        {
         "metadata": "{}",
         "name": "IncidentDate",
         "type": "\"timestamp\""
        },
        {
         "metadata": "{}",
         "name": "OnWatchDate",
         "type": "\"timestamp\""
        },
        {
         "metadata": "{}",
         "name": "AvailableDtTS",
         "type": "\"timestamp\""
        }
       ],
       "type": "table"
      }
     },
     "output_type": "display_data"
    }
   ],
   "source": [
    "display(file_parquet_df.limit(10))"
   ]
  }
 ],
 "metadata": {
  "application/vnd.databricks.v1+notebook": {
   "dashboards": [],
   "language": "python",
   "notebookMetadata": {
    "mostRecentlyExecutedCommandWithImplicitDF": {
     "commandId": 41449457465402,
     "dataframes": [
      "_sqldf"
     ]
    },
    "pythonIndentUnit": 2
   },
   "notebookName": "Practical_1a",
   "widgets": {}
  }
 },
 "nbformat": 4,
 "nbformat_minor": 0
}
