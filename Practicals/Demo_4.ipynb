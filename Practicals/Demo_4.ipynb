{
 "cells": [
  {
   "cell_type": "markdown",
   "metadata": {
    "application/vnd.databricks.v1+cell": {
     "cellMetadata": {},
     "inputWidgets": {},
     "nuid": "ddb916e3-2184-4c01-bb96-127c6b9d0c0d",
     "showTitle": false,
     "title": ""
    }
   },
   "source": [
    "## Demo_4: Delta Lake\n",
    "\n",
    "Source: Bennie Haelen, “Delta Lake: Up & Running”"
   ]
  },
  {
   "cell_type": "code",
   "execution_count": 0,
   "metadata": {
    "application/vnd.databricks.v1+cell": {
     "cellMetadata": {},
     "inputWidgets": {},
     "nuid": "27a9ce06-4fd3-474e-958e-cba3dbdcf003",
     "showTitle": false,
     "title": ""
    }
   },
   "outputs": [],
   "source": [
    "data = spark.range(0, 100)\n",
    "data.write.format(\"parquet\") \\\n",
    ".mode(\"overwrite\") \\\n",
    ".save('/tmp/parquetData')"
   ]
  },
  {
   "cell_type": "code",
   "execution_count": 0,
   "metadata": {
    "application/vnd.databricks.v1+cell": {
     "cellMetadata": {},
     "inputWidgets": {},
     "nuid": "e2f5a4a1-924e-4fa8-ab48-21e7e85accc1",
     "showTitle": false,
     "title": ""
    }
   },
   "outputs": [
    {
     "output_type": "stream",
     "name": "stdout",
     "output_type": "stream",
     "text": [
      "Out[1]: [FileInfo(path='dbfs:/tmp/parquetData/_SUCCESS', name='_SUCCESS', size=0, modificationTime=1677206622000),\n FileInfo(path='dbfs:/tmp/parquetData/_committed_347056881252188848', name='_committed_347056881252188848', size=808, modificationTime=1677205129000),\n FileInfo(path='dbfs:/tmp/parquetData/_committed_3517217066251158367', name='_committed_3517217066251158367', size=1618, modificationTime=1677206621000),\n FileInfo(path='dbfs:/tmp/parquetData/_started_347056881252188848', name='_started_347056881252188848', size=0, modificationTime=1677205128000),\n FileInfo(path='dbfs:/tmp/parquetData/_started_3517217066251158367', name='_started_3517217066251158367', size=0, modificationTime=1677206620000),\n FileInfo(path='dbfs:/tmp/parquetData/part-00000-tid-3517217066251158367-4fe6bdba-907a-4106-9e7c-53c451c7b3e5-286-1-c000.snappy.parquet', name='part-00000-tid-3517217066251158367-4fe6bdba-907a-4106-9e7c-53c451c7b3e5-286-1-c000.snappy.parquet', size=649, modificationTime=1677206620000),\n FileInfo(path='dbfs:/tmp/parquetData/part-00001-tid-3517217066251158367-4fe6bdba-907a-4106-9e7c-53c451c7b3e5-287-1-c000.snappy.parquet', name='part-00001-tid-3517217066251158367-4fe6bdba-907a-4106-9e7c-53c451c7b3e5-287-1-c000.snappy.parquet', size=656, modificationTime=1677206621000),\n FileInfo(path='dbfs:/tmp/parquetData/part-00002-tid-3517217066251158367-4fe6bdba-907a-4106-9e7c-53c451c7b3e5-288-1-c000.snappy.parquet', name='part-00002-tid-3517217066251158367-4fe6bdba-907a-4106-9e7c-53c451c7b3e5-288-1-c000.snappy.parquet', size=651, modificationTime=1677206621000),\n FileInfo(path='dbfs:/tmp/parquetData/part-00003-tid-3517217066251158367-4fe6bdba-907a-4106-9e7c-53c451c7b3e5-289-1-c000.snappy.parquet', name='part-00003-tid-3517217066251158367-4fe6bdba-907a-4106-9e7c-53c451c7b3e5-289-1-c000.snappy.parquet', size=656, modificationTime=1677206621000),\n FileInfo(path='dbfs:/tmp/parquetData/part-00004-tid-3517217066251158367-4fe6bdba-907a-4106-9e7c-53c451c7b3e5-290-1-c000.snappy.parquet', name='part-00004-tid-3517217066251158367-4fe6bdba-907a-4106-9e7c-53c451c7b3e5-290-1-c000.snappy.parquet', size=650, modificationTime=1677206621000),\n FileInfo(path='dbfs:/tmp/parquetData/part-00005-tid-3517217066251158367-4fe6bdba-907a-4106-9e7c-53c451c7b3e5-291-1-c000.snappy.parquet', name='part-00005-tid-3517217066251158367-4fe6bdba-907a-4106-9e7c-53c451c7b3e5-291-1-c000.snappy.parquet', size=656, modificationTime=1677206620000),\n FileInfo(path='dbfs:/tmp/parquetData/part-00006-tid-3517217066251158367-4fe6bdba-907a-4106-9e7c-53c451c7b3e5-292-1-c000.snappy.parquet', name='part-00006-tid-3517217066251158367-4fe6bdba-907a-4106-9e7c-53c451c7b3e5-292-1-c000.snappy.parquet', size=651, modificationTime=1677206621000),\n FileInfo(path='dbfs:/tmp/parquetData/part-00007-tid-3517217066251158367-4fe6bdba-907a-4106-9e7c-53c451c7b3e5-293-1-c000.snappy.parquet', name='part-00007-tid-3517217066251158367-4fe6bdba-907a-4106-9e7c-53c451c7b3e5-293-1-c000.snappy.parquet', size=656, modificationTime=1677206621000)]"
     ]
    }
   ],
   "source": [
    "dbutils.fs.ls(\"/tmp/parquetData\")"
   ]
  },
  {
   "cell_type": "code",
   "execution_count": 0,
   "metadata": {
    "application/vnd.databricks.v1+cell": {
     "cellMetadata": {},
     "inputWidgets": {},
     "nuid": "300f767c-e7ee-4a45-b692-a8ac1c371ebf",
     "showTitle": false,
     "title": ""
    }
   },
   "outputs": [],
   "source": [
    "data = spark.range(0, 100)\n",
    "data.write.format(\"delta\") \\\n",
    ".mode(\"overwrite\") \\\n",
    ".save('/tmp/deltaData')"
   ]
  },
  {
   "cell_type": "code",
   "execution_count": 0,
   "metadata": {
    "application/vnd.databricks.v1+cell": {
     "cellMetadata": {},
     "inputWidgets": {},
     "nuid": "5ee8089d-5582-4c10-81be-3a12999b337d",
     "showTitle": false,
     "title": ""
    }
   },
   "outputs": [
    {
     "output_type": "stream",
     "name": "stdout",
     "output_type": "stream",
     "text": [
      "Out[2]: [FileInfo(path='dbfs:/tmp/deltaData/_delta_log/', name='_delta_log/', size=0, modificationTime=0),\n FileInfo(path='dbfs:/tmp/deltaData/part-00000-ec087bf5-71c8-428e-82b8-308b8d99ff9c-c000.snappy.parquet', name='part-00000-ec087bf5-71c8-428e-82b8-308b8d99ff9c-c000.snappy.parquet', size=675, modificationTime=1677206585000),\n FileInfo(path='dbfs:/tmp/deltaData/part-00001-fd744b95-2ca9-4dfd-b9aa-146c7e51b8af-c000.snappy.parquet', name='part-00001-fd744b95-2ca9-4dfd-b9aa-146c7e51b8af-c000.snappy.parquet', size=662, modificationTime=1677206585000),\n FileInfo(path='dbfs:/tmp/deltaData/part-00002-42398641-f053-4a12-b9b9-d9e51cd348fd-c000.snappy.parquet', name='part-00002-42398641-f053-4a12-b9b9-d9e51cd348fd-c000.snappy.parquet', size=658, modificationTime=1677206585000),\n FileInfo(path='dbfs:/tmp/deltaData/part-00003-e5703d16-1f46-4dcf-83bb-c5568cdf9677-c000.snappy.parquet', name='part-00003-e5703d16-1f46-4dcf-83bb-c5568cdf9677-c000.snappy.parquet', size=662, modificationTime=1677206585000),\n FileInfo(path='dbfs:/tmp/deltaData/part-00004-26eb06c5-7cbe-40a6-bc58-faeede16f449-c000.snappy.parquet', name='part-00004-26eb06c5-7cbe-40a6-bc58-faeede16f449-c000.snappy.parquet', size=658, modificationTime=1677206585000),\n FileInfo(path='dbfs:/tmp/deltaData/part-00005-482a0972-ce7c-4e3b-9312-6969b06d5927-c000.snappy.parquet', name='part-00005-482a0972-ce7c-4e3b-9312-6969b06d5927-c000.snappy.parquet', size=662, modificationTime=1677206585000),\n FileInfo(path='dbfs:/tmp/deltaData/part-00006-88bd5423-4af8-4bc2-8b0e-a0066fdca38f-c000.snappy.parquet', name='part-00006-88bd5423-4af8-4bc2-8b0e-a0066fdca38f-c000.snappy.parquet', size=658, modificationTime=1677206585000),\n FileInfo(path='dbfs:/tmp/deltaData/part-00007-c51da7d7-5055-41ea-a512-b00ab3eef486-c000.snappy.parquet', name='part-00007-c51da7d7-5055-41ea-a512-b00ab3eef486-c000.snappy.parquet', size=661, modificationTime=1677206585000)]"
     ]
    }
   ],
   "source": [
    "dbutils.fs.ls(\"/tmp/deltaData\")"
   ]
  },
  {
   "cell_type": "code",
   "execution_count": 0,
   "metadata": {
    "application/vnd.databricks.v1+cell": {
     "cellMetadata": {},
     "inputWidgets": {},
     "nuid": "5ecdcfa8-18c6-4935-a41e-d7f0aa02988a",
     "showTitle": false,
     "title": ""
    }
   },
   "outputs": [
    {
     "output_type": "stream",
     "name": "stdout",
     "output_type": "stream",
     "text": [
      "Out[3]: [FileInfo(path='dbfs:/tmp/deltaData/_delta_log/.s3-optimization-0', name='.s3-optimization-0', size=0, modificationTime=1677206588000),\n FileInfo(path='dbfs:/tmp/deltaData/_delta_log/.s3-optimization-1', name='.s3-optimization-1', size=0, modificationTime=1677206589000),\n FileInfo(path='dbfs:/tmp/deltaData/_delta_log/.s3-optimization-2', name='.s3-optimization-2', size=0, modificationTime=1677206589000),\n FileInfo(path='dbfs:/tmp/deltaData/_delta_log/00000000000000000000.crc', name='00000000000000000000.crc', size=5298, modificationTime=1677206589000),\n FileInfo(path='dbfs:/tmp/deltaData/_delta_log/00000000000000000000.json', name='00000000000000000000.json', size=4354, modificationTime=1677206586000)]"
     ]
    }
   ],
   "source": [
    "dbutils.fs.ls(\"/tmp/deltaData/_delta_log\")"
   ]
  },
  {
   "cell_type": "code",
   "execution_count": 0,
   "metadata": {
    "application/vnd.databricks.v1+cell": {
     "cellMetadata": {},
     "inputWidgets": {},
     "nuid": "90741070-7f2f-4d4d-91ea-52aa2ebe89ab",
     "showTitle": false,
     "title": ""
    }
   },
   "outputs": [],
   "source": []
  }
 ],
 "metadata": {
  "application/vnd.databricks.v1+notebook": {
   "dashboards": [],
   "language": "python",
   "notebookMetadata": {
    "pythonIndentUnit": 4
   },
   "notebookName": "Demo_4",
   "widgets": {}
  }
 },
 "nbformat": 4,
 "nbformat_minor": 0
}
