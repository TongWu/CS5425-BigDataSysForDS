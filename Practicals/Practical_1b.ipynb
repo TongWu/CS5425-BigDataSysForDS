{
 "cells": [
  {
   "cell_type": "markdown",
   "metadata": {
    "application/vnd.databricks.v1+cell": {
     "cellMetadata": {},
     "inputWidgets": {},
     "nuid": "d94882a8-37b6-4d1c-9c36-1a1e1c2d63e7",
     "showTitle": false,
     "title": ""
    }
   },
   "source": [
    "## Practical 1b: Spark Basic II\n",
    "The power of Spark SQL is that it contains many DataFrame Operations (also known as Untyped Dataset Operations). \n",
    "For the full list, refer to [Spark SQL, Built-in Functions](https://spark.apache.org/docs/latest/api/sql/index.html).\n",
    "This notebook contains code samples for the common relational operations for DataFrames and Spark SQL.\n",
    "\n",
    "Source: https://github.com/databricks/LearningSparkV2"
   ]
  },
  {
   "cell_type": "code",
   "execution_count": 0,
   "metadata": {
    "application/vnd.databricks.v1+cell": {
     "cellMetadata": {},
     "inputWidgets": {},
     "nuid": "d01daad1-6755-4ad5-b58b-a6b1bdcb8337",
     "showTitle": false,
     "title": ""
    }
   },
   "outputs": [],
   "source": [
    "from pyspark.sql.functions import expr\n",
    "\n",
    "# Set File Paths\n",
    "delays_path = \"/databricks-datasets/learning-spark-v2/flights/departuredelays.csv\"\n",
    "airports_path = \"/databricks-datasets/learning-spark-v2/flights/airport-codes-na.txt\"\n",
    "\n",
    "# Obtain airports dataset\n",
    "airports = spark.read.options(header=\"true\", inferSchema=\"true\", sep=\"\\t\").csv(airports_path)\n",
    "airports.createOrReplaceTempView(\"airports_na\")\n",
    "\n",
    "# Obtain departure Delays data\n",
    "delays = spark.read.options(header=\"true\").csv(delays_path)\n",
    "delays = (delays\n",
    "          .withColumn(\"delay\", expr(\"CAST(delay as INT) as delay\"))\n",
    "          .withColumn(\"distance\", expr(\"CAST(distance as INT) as distance\")))\n",
    "\n",
    "delays.createOrReplaceTempView(\"departureDelays\")\n",
    "\n",
    "# Create temporary small table\n",
    "foo = delays.filter(expr(\"\"\"\n",
    "            origin == 'SEA' AND \n",
    "            destination == 'SFO' AND \n",
    "            date like '01010%' AND \n",
    "            delay > 0\"\"\"))\n",
    "\n",
    "foo.createOrReplaceTempView(\"foo\")"
   ]
  },
  {
   "cell_type": "code",
   "execution_count": 0,
   "metadata": {
    "application/vnd.databricks.v1+cell": {
     "cellMetadata": {},
     "inputWidgets": {},
     "nuid": "23030d91-f0f6-466b-ae3a-61ca6ec06623",
     "showTitle": false,
     "title": ""
    }
   },
   "outputs": [
    {
     "output_type": "stream",
     "name": "stdout",
     "output_type": "stream",
     "text": [
      "+-----------+-----+-------+----+\n|       City|State|Country|IATA|\n+-----------+-----+-------+----+\n| Abbotsford|   BC| Canada| YXX|\n|   Aberdeen|   SD|    USA| ABR|\n|    Abilene|   TX|    USA| ABI|\n|      Akron|   OH|    USA| CAK|\n|    Alamosa|   CO|    USA| ALS|\n|     Albany|   GA|    USA| ABY|\n|     Albany|   NY|    USA| ALB|\n|Albuquerque|   NM|    USA| ABQ|\n| Alexandria|   LA|    USA| AEX|\n|  Allentown|   PA|    USA| ABE|\n+-----------+-----+-------+----+\n\n"
     ]
    }
   ],
   "source": [
    "spark.sql(\"SELECT * FROM airports_na LIMIT 10\").show()"
   ]
  },
  {
   "cell_type": "code",
   "execution_count": 0,
   "metadata": {
    "application/vnd.databricks.v1+cell": {
     "cellMetadata": {},
     "inputWidgets": {},
     "nuid": "3e0caa99-f0e0-4fdd-bcab-dedee8be4c68",
     "showTitle": false,
     "title": ""
    }
   },
   "outputs": [
    {
     "output_type": "stream",
     "name": "stdout",
     "output_type": "stream",
     "text": [
      "+--------+-----+--------+------+-----------+\n|    date|delay|distance|origin|destination|\n+--------+-----+--------+------+-----------+\n|01011245|    6|     602|   ABE|        ATL|\n|01020600|   -8|     369|   ABE|        DTW|\n|01021245|   -2|     602|   ABE|        ATL|\n|01020605|   -4|     602|   ABE|        ATL|\n|01031245|   -4|     602|   ABE|        ATL|\n|01030605|    0|     602|   ABE|        ATL|\n|01041243|   10|     602|   ABE|        ATL|\n|01040605|   28|     602|   ABE|        ATL|\n|01051245|   88|     602|   ABE|        ATL|\n|01050605|    9|     602|   ABE|        ATL|\n+--------+-----+--------+------+-----------+\n\n"
     ]
    }
   ],
   "source": [
    "spark.sql(\"SELECT * FROM departureDelays LIMIT 10\").show()"
   ]
  },
  {
   "cell_type": "code",
   "execution_count": 0,
   "metadata": {
    "application/vnd.databricks.v1+cell": {
     "cellMetadata": {},
     "inputWidgets": {},
     "nuid": "b9ffa649-56c9-47a4-8b8f-35c9f406ee1b",
     "showTitle": false,
     "title": ""
    }
   },
   "outputs": [
    {
     "output_type": "stream",
     "name": "stdout",
     "output_type": "stream",
     "text": [
      "+--------+-----+--------+------+-----------+\n|    date|delay|distance|origin|destination|\n+--------+-----+--------+------+-----------+\n|01010710|   31|     590|   SEA|        SFO|\n|01010955|  104|     590|   SEA|        SFO|\n|01010730|    5|     590|   SEA|        SFO|\n+--------+-----+--------+------+-----------+\n\n"
     ]
    }
   ],
   "source": [
    "spark.sql(\"SELECT * FROM foo LIMIT 10\").show()"
   ]
  },
  {
   "cell_type": "markdown",
   "metadata": {
    "application/vnd.databricks.v1+cell": {
     "cellMetadata": {},
     "inputWidgets": {},
     "nuid": "fde706fd-c039-4797-b017-d00bcfa8ea70",
     "showTitle": false,
     "title": ""
    }
   },
   "source": [
    "## Unions"
   ]
  },
  {
   "cell_type": "code",
   "execution_count": 0,
   "metadata": {
    "application/vnd.databricks.v1+cell": {
     "cellMetadata": {},
     "inputWidgets": {},
     "nuid": "2cf1aa56-3e9d-4472-a8aa-08e1c4b51b8d",
     "showTitle": false,
     "title": ""
    }
   },
   "outputs": [
    {
     "output_type": "stream",
     "name": "stdout",
     "output_type": "stream",
     "text": [
      "+--------+-----+--------+------+-----------+\n|    date|delay|distance|origin|destination|\n+--------+-----+--------+------+-----------+\n|01010710|   31|     590|   SEA|        SFO|\n|01010955|  104|     590|   SEA|        SFO|\n|01010730|    5|     590|   SEA|        SFO|\n|01010710|   31|     590|   SEA|        SFO|\n|01010955|  104|     590|   SEA|        SFO|\n|01010730|    5|     590|   SEA|        SFO|\n+--------+-----+--------+------+-----------+\n\n"
     ]
    }
   ],
   "source": [
    "# Union two tables\n",
    "bar = delays.union(foo)\n",
    "bar.createOrReplaceTempView(\"bar\")\n",
    "bar.filter(expr(\"origin == 'SEA' AND destination == 'SFO' AND date LIKE '01010%' AND delay > 0\")).show()"
   ]
  },
  {
   "cell_type": "code",
   "execution_count": 0,
   "metadata": {
    "application/vnd.databricks.v1+cell": {
     "cellMetadata": {},
     "inputWidgets": {},
     "nuid": "09981cdb-802b-4597-b8c9-2d3fa6c712bd",
     "showTitle": false,
     "title": ""
    }
   },
   "outputs": [
    {
     "output_type": "stream",
     "name": "stdout",
     "output_type": "stream",
     "text": [
      "+--------+-----+--------+------+-----------+\n|    date|delay|distance|origin|destination|\n+--------+-----+--------+------+-----------+\n|01010710|   31|     590|   SEA|        SFO|\n|01010955|  104|     590|   SEA|        SFO|\n|01010730|    5|     590|   SEA|        SFO|\n|01010710|   31|     590|   SEA|        SFO|\n|01010955|  104|     590|   SEA|        SFO|\n|01010730|    5|     590|   SEA|        SFO|\n+--------+-----+--------+------+-----------+\n\n"
     ]
    }
   ],
   "source": [
    "spark.sql(\"\"\"\n",
    "SELECT * \n",
    "FROM bar \n",
    "WHERE origin = 'SEA' \n",
    "   AND destination = 'SFO' \n",
    "   AND date LIKE '01010%' \n",
    "   AND delay > 0\n",
    "\"\"\").show()"
   ]
  },
  {
   "cell_type": "markdown",
   "metadata": {
    "application/vnd.databricks.v1+cell": {
     "cellMetadata": {},
     "inputWidgets": {},
     "nuid": "c6af40cb-5fe9-4ada-8a66-99f0f9eae309",
     "showTitle": false,
     "title": ""
    }
   },
   "source": [
    "## Joins\n",
    "By default, it is an `inner join`.  There are also the options: `inner, cross, outer, full, full_outer, left, left_outer, right, right_outer, left_semi, and left_anti`."
   ]
  },
  {
   "cell_type": "code",
   "execution_count": 0,
   "metadata": {
    "application/vnd.databricks.v1+cell": {
     "cellMetadata": {},
     "inputWidgets": {},
     "nuid": "9a9e0050-fc6f-4e0a-b08e-c29b9f030d63",
     "showTitle": false,
     "title": ""
    }
   },
   "outputs": [
    {
     "output_type": "stream",
     "name": "stdout",
     "output_type": "stream",
     "text": [
      "+-------+-----+--------+-----+--------+-----------+\n|   City|State|    date|delay|distance|destination|\n+-------+-----+--------+-----+--------+-----------+\n|Seattle|   WA|01010710|   31|     590|        SFO|\n|Seattle|   WA|01010955|  104|     590|        SFO|\n|Seattle|   WA|01010730|    5|     590|        SFO|\n+-------+-----+--------+-----+--------+-----------+\n\n"
     ]
    }
   ],
   "source": [
    "# Join Departure Delays data (foo) with flight info\n",
    "foo.join(\n",
    "  airports, \n",
    "  airports.IATA == foo.origin\n",
    ").select(\"City\", \"State\", \"date\", \"delay\", \"distance\", \"destination\").show()"
   ]
  },
  {
   "cell_type": "code",
   "execution_count": 0,
   "metadata": {
    "application/vnd.databricks.v1+cell": {
     "cellMetadata": {},
     "inputWidgets": {},
     "nuid": "47ce9c99-fd1a-40f8-acc9-3e1b2cd687cc",
     "showTitle": false,
     "title": ""
    }
   },
   "outputs": [
    {
     "output_type": "stream",
     "name": "stdout",
     "output_type": "stream",
     "text": [
      "+-------+-----+--------+-----+--------+-----------+\n|   City|State|    date|delay|distance|destination|\n+-------+-----+--------+-----+--------+-----------+\n|Seattle|   WA|01010710|   31|     590|        SFO|\n|Seattle|   WA|01010955|  104|     590|        SFO|\n|Seattle|   WA|01010730|    5|     590|        SFO|\n+-------+-----+--------+-----+--------+-----------+\n\n"
     ]
    }
   ],
   "source": [
    "spark.sql(\"\"\"\n",
    "SELECT a.City, a.State, f.date, f.delay, f.distance, f.destination \n",
    "  FROM foo f\n",
    "  JOIN airports_na a\n",
    "    ON a.IATA = f.origin\n",
    "\"\"\").show()"
   ]
  },
  {
   "cell_type": "markdown",
   "metadata": {
    "application/vnd.databricks.v1+cell": {
     "cellMetadata": {},
     "inputWidgets": {},
     "nuid": "2246ab42-bd80-432f-b49a-cc3a560855a5",
     "showTitle": false,
     "title": ""
    }
   },
   "source": [
    "## Modifications\n",
    "\n",
    "Another common DataFrame operation is to perform modifications to the DataFrame. Recall that the underlying RDDs are immutable (i.e. they do not change) to ensure there is data lineage for Spark operations. Hence while DataFrames themselves are immutable, you can modify them through operations that create a new, different DataFrame with different columns, for example.  "
   ]
  },
  {
   "cell_type": "markdown",
   "metadata": {
    "application/vnd.databricks.v1+cell": {
     "cellMetadata": {},
     "inputWidgets": {},
     "nuid": "497a711b-9d8f-4722-9321-d3caa55e8c5e",
     "showTitle": false,
     "title": ""
    }
   },
   "source": [
    "### Adding New Columns"
   ]
  },
  {
   "cell_type": "code",
   "execution_count": 0,
   "metadata": {
    "application/vnd.databricks.v1+cell": {
     "cellMetadata": {},
     "inputWidgets": {},
     "nuid": "677cdbbc-086e-4565-a01e-5ba169fce69c",
     "showTitle": false,
     "title": ""
    }
   },
   "outputs": [
    {
     "output_type": "stream",
     "name": "stdout",
     "output_type": "stream",
     "text": [
      "+--------+-----+--------+------+-----------+-------+\n|    date|delay|distance|origin|destination| status|\n+--------+-----+--------+------+-----------+-------+\n|01010710|   31|     590|   SEA|        SFO|Delayed|\n|01010955|  104|     590|   SEA|        SFO|Delayed|\n|01010730|    5|     590|   SEA|        SFO|On-time|\n+--------+-----+--------+------+-----------+-------+\n\n"
     ]
    }
   ],
   "source": [
    "foo2 = foo.withColumn(\"status\", expr(\"CASE WHEN delay <= 10 THEN 'On-time' ELSE 'Delayed' END\"))\n",
    "foo2.show()"
   ]
  },
  {
   "cell_type": "code",
   "execution_count": 0,
   "metadata": {
    "application/vnd.databricks.v1+cell": {
     "cellMetadata": {},
     "inputWidgets": {},
     "nuid": "edb017ed-78fe-4d57-a52a-86934d02041c",
     "showTitle": false,
     "title": ""
    }
   },
   "outputs": [
    {
     "output_type": "stream",
     "name": "stdout",
     "output_type": "stream",
     "text": [
      "+--------+-----+--------+------+-----------+-------+\n|    date|delay|distance|origin|destination| status|\n+--------+-----+--------+------+-----------+-------+\n|01010710|   31|     590|   SEA|        SFO|Delayed|\n|01010955|  104|     590|   SEA|        SFO|Delayed|\n|01010730|    5|     590|   SEA|        SFO|On-time|\n+--------+-----+--------+------+-----------+-------+\n\n"
     ]
    }
   ],
   "source": [
    "spark.sql(\"\"\"SELECT *, CASE WHEN delay <= 10 THEN 'On-time' ELSE 'Delayed' END AS status FROM foo\"\"\").show()"
   ]
  },
  {
   "cell_type": "markdown",
   "metadata": {
    "application/vnd.databricks.v1+cell": {
     "cellMetadata": {},
     "inputWidgets": {},
     "nuid": "74c855ae-f0d3-414c-a4a9-3709a50e675c",
     "showTitle": false,
     "title": ""
    }
   },
   "source": [
    "### Dropping Columns"
   ]
  },
  {
   "cell_type": "code",
   "execution_count": 0,
   "metadata": {
    "application/vnd.databricks.v1+cell": {
     "cellMetadata": {},
     "inputWidgets": {},
     "nuid": "f0a22ed3-fe26-4c4f-aab2-5066db5141dc",
     "showTitle": false,
     "title": ""
    }
   },
   "outputs": [
    {
     "output_type": "stream",
     "name": "stdout",
     "output_type": "stream",
     "text": [
      "+--------+--------+------+-----------+-------+\n|    date|distance|origin|destination| status|\n+--------+--------+------+-----------+-------+\n|01010710|     590|   SEA|        SFO|Delayed|\n|01010955|     590|   SEA|        SFO|Delayed|\n|01010730|     590|   SEA|        SFO|On-time|\n+--------+--------+------+-----------+-------+\n\n"
     ]
    }
   ],
   "source": [
    "foo3 = foo2.drop(\"delay\")\n",
    "foo3.show()"
   ]
  },
  {
   "cell_type": "markdown",
   "metadata": {
    "application/vnd.databricks.v1+cell": {
     "cellMetadata": {},
     "inputWidgets": {},
     "nuid": "e20f2751-60bf-4346-80f7-6d86bea0f059",
     "showTitle": false,
     "title": ""
    }
   },
   "source": [
    "### Renaming Columns"
   ]
  },
  {
   "cell_type": "code",
   "execution_count": 0,
   "metadata": {
    "application/vnd.databricks.v1+cell": {
     "cellMetadata": {},
     "inputWidgets": {},
     "nuid": "37e94e76-b5e2-4f91-b9b8-0413414af069",
     "showTitle": false,
     "title": ""
    }
   },
   "outputs": [
    {
     "output_type": "stream",
     "name": "stdout",
     "output_type": "stream",
     "text": [
      "+--------+--------+------+-----------+-------------+\n|    date|distance|origin|destination|flight_status|\n+--------+--------+------+-----------+-------------+\n|01010710|     590|   SEA|        SFO|      Delayed|\n|01010955|     590|   SEA|        SFO|      Delayed|\n|01010730|     590|   SEA|        SFO|      On-time|\n+--------+--------+------+-----------+-------------+\n\n"
     ]
    }
   ],
   "source": [
    "foo4 = foo3.withColumnRenamed(\"status\", \"flight_status\")\n",
    "foo4.show()"
   ]
  },
  {
   "cell_type": "markdown",
   "metadata": {
    "application/vnd.databricks.v1+cell": {
     "cellMetadata": {},
     "inputWidgets": {},
     "nuid": "18614995-8403-4c87-a563-ca7fe4f87fb2",
     "showTitle": false,
     "title": ""
    }
   },
   "source": [
    "### Pivoting\n",
    "Great reference [SQL Pivot: Converting Rows to Columns](https://databricks.com/blog/2018/11/01/sql-pivot-converting-rows-to-columns.html)"
   ]
  },
  {
   "cell_type": "code",
   "execution_count": 0,
   "metadata": {
    "application/vnd.databricks.v1+cell": {
     "cellMetadata": {},
     "inputWidgets": {},
     "nuid": "512a1f1e-eb59-4a1b-bb70-abcc794466fe",
     "showTitle": false,
     "title": ""
    }
   },
   "outputs": [
    {
     "output_type": "stream",
     "name": "stdout",
     "output_type": "stream",
     "text": [
      "+-----------+-----+-----+\n|destination|month|delay|\n+-----------+-----+-----+\n|        ORD|    1|   92|\n|        JFK|    1|   -7|\n|        DFW|    1|   -5|\n|        MIA|    1|   -3|\n|        DFW|    1|   -3|\n|        DFW|    1|    1|\n|        ORD|    1|  -10|\n|        DFW|    1|   -6|\n|        DFW|    1|   -2|\n|        ORD|    1|   -3|\n+-----------+-----+-----+\nonly showing top 10 rows\n\n"
     ]
    }
   ],
   "source": [
    "spark.sql(\"\"\"SELECT destination, CAST(SUBSTRING(date, 0, 2) AS int) AS month, delay FROM departureDelays WHERE origin = 'SEA'\"\"\").show(10)"
   ]
  },
  {
   "cell_type": "code",
   "execution_count": 0,
   "metadata": {
    "application/vnd.databricks.v1+cell": {
     "cellMetadata": {},
     "inputWidgets": {},
     "nuid": "ad0b27da-f6b2-4625-985c-c0119ed85610",
     "showTitle": false,
     "title": ""
    }
   },
   "outputs": [
    {
     "output_type": "stream",
     "name": "stdout",
     "output_type": "stream",
     "text": [
      "+-----------+------------+------------+------------+------------+------------+------------+\n|destination|JAN_AvgDelay|JAN_MaxDelay|FEB_AvgDelay|FEB_MaxDelay|MAR_AvgDelay|MAR_MaxDelay|\n+-----------+------------+------------+------------+------------+------------+------------+\n|        ABQ|       19.86|         316|       11.42|          69|       11.47|          74|\n|        ANC|        4.44|         149|        7.90|         141|        5.10|         187|\n|        ATL|       11.98|         397|        7.73|         145|        6.53|         109|\n|        AUS|        3.48|          50|       -0.21|          18|        4.03|          61|\n|        BOS|        7.84|         110|       14.58|         152|        7.78|         119|\n|        BUR|       -2.03|          56|       -1.89|          78|        2.01|         108|\n|        CLE|       16.00|          27|        null|        null|        null|        null|\n|        CLT|        2.53|          41|       12.96|         228|        5.16|         110|\n|        COS|        5.32|          82|       12.18|         203|        9.74|         205|\n|        CVG|       -0.50|           4|        null|        null|        null|        null|\n|        DCA|       -1.15|          50|        0.07|          34|        5.73|         199|\n|        DEN|       13.13|         425|       12.95|         625|        7.48|         231|\n|        DFW|        7.95|         247|       12.57|         356|        6.71|         277|\n|        DTW|        9.18|         107|        3.47|          77|        2.47|          72|\n|        EWR|        9.63|         236|        5.20|         212|       10.59|         181|\n|        FAI|        1.84|         160|        4.21|          60|        5.32|          98|\n|        FAT|        1.36|         119|        5.22|         232|        1.67|          92|\n|        FLL|        2.94|          54|        3.50|          40|        3.06|          52|\n|        GEG|        2.28|          63|        2.87|          60|        4.49|          89|\n|        HDN|       -0.44|          27|       -6.50|           0|       -3.44|          15|\n+-----------+------------+------------+------------+------------+------------+------------+\nonly showing top 20 rows\n\n"
     ]
    }
   ],
   "source": [
    "spark.sql(\"\"\"\n",
    "SELECT * FROM (\n",
    "SELECT destination, CAST(SUBSTRING(date, 0, 2) AS int) AS month, delay \n",
    "  FROM departureDelays WHERE origin = 'SEA' \n",
    ") \n",
    "PIVOT (\n",
    "  CAST(AVG(delay) AS DECIMAL(4, 2)) as AvgDelay, MAX(delay) as MaxDelay\n",
    "  FOR month IN (1 JAN, 2 FEB, 3 MAR)\n",
    ")\n",
    "ORDER BY destination\n",
    "\"\"\").show()"
   ]
  },
  {
   "cell_type": "code",
   "execution_count": 0,
   "metadata": {
    "application/vnd.databricks.v1+cell": {
     "cellMetadata": {},
     "inputWidgets": {},
     "nuid": "ed0ed30c-89e4-4557-ba12-b37bcda93c87",
     "showTitle": false,
     "title": ""
    }
   },
   "outputs": [
    {
     "output_type": "stream",
     "name": "stdout",
     "output_type": "stream",
     "text": [
      "+-----------+------------+------------+------------+------------+\n|destination|JAN_AvgDelay|JAN_MaxDelay|FEB_AvgDelay|FEB_MaxDelay|\n+-----------+------------+------------+------------+------------+\n|        ABQ|       19.86|         316|       11.42|          69|\n|        ANC|        4.44|         149|        7.90|         141|\n|        ATL|       11.98|         397|        7.73|         145|\n|        AUS|        3.48|          50|       -0.21|          18|\n|        BOS|        7.84|         110|       14.58|         152|\n|        BUR|       -2.03|          56|       -1.89|          78|\n|        CLE|       16.00|          27|        null|        null|\n|        CLT|        2.53|          41|       12.96|         228|\n|        COS|        5.32|          82|       12.18|         203|\n|        CVG|       -0.50|           4|        null|        null|\n|        DCA|       -1.15|          50|        0.07|          34|\n|        DEN|       13.13|         425|       12.95|         625|\n|        DFW|        7.95|         247|       12.57|         356|\n|        DTW|        9.18|         107|        3.47|          77|\n|        EWR|        9.63|         236|        5.20|         212|\n|        FAI|        1.84|         160|        4.21|          60|\n|        FAT|        1.36|         119|        5.22|         232|\n|        FLL|        2.94|          54|        3.50|          40|\n|        GEG|        2.28|          63|        2.87|          60|\n|        HDN|       -0.44|          27|       -6.50|           0|\n+-----------+------------+------------+------------+------------+\nonly showing top 20 rows\n\n"
     ]
    }
   ],
   "source": [
    "spark.sql(\"\"\"\n",
    "SELECT * FROM (\n",
    "SELECT destination, CAST(SUBSTRING(date, 0, 2) AS int) AS month, delay \n",
    "  FROM departureDelays WHERE origin = 'SEA' \n",
    ") \n",
    "PIVOT (\n",
    "  CAST(AVG(delay) AS DECIMAL(4, 2)) as AvgDelay, MAX(delay) as MaxDelay\n",
    "  FOR month IN (1 JAN, 2 FEB)\n",
    ")\n",
    "ORDER BY destination\n",
    "\"\"\").show()"
   ]
  }
 ],
 "metadata": {
  "application/vnd.databricks.v1+notebook": {
   "dashboards": [],
   "language": "python",
   "notebookMetadata": {
    "pythonIndentUnit": 2
   },
   "notebookName": "Practical_1b",
   "widgets": {}
  }
 },
 "nbformat": 4,
 "nbformat_minor": 0
}
