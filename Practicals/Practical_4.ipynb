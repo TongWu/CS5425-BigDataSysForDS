{
 "cells": [
  {
   "cell_type": "markdown",
   "metadata": {
    "application/vnd.databricks.v1+cell": {
     "cellMetadata": {},
     "inputWidgets": {},
     "nuid": "9bb9983a-2f57-477e-b560-43cf9d1e4e4e",
     "showTitle": false,
     "title": ""
    }
   },
   "source": [
    "# Practical 4: Graph Analytics\n"
   ]
  },
  {
   "cell_type": "code",
   "execution_count": 0,
   "metadata": {
    "application/vnd.databricks.v1+cell": {
     "cellMetadata": {
      "byteLimit": 2048000,
      "rowLimit": 10000
     },
     "inputWidgets": {},
     "nuid": "c7c20efa-39bc-4b0d-9265-c989f1e6b6c1",
     "showTitle": false,
     "title": ""
    }
   },
   "outputs": [
    {
     "output_type": "stream",
     "name": "stdout",
     "output_type": "stream",
     "text": [
      "\u001B[43mNote: you may need to restart the kernel using dbutils.library.restartPython() to use updated packages.\u001B[0m\nCollecting graphframes==0.6\n  Downloading graphframes-0.6-py2.py3-none-any.whl (18 kB)\nRequirement already satisfied: numpy in /databricks/python3/lib/python3.10/site-packages (from graphframes==0.6) (1.23.5)\nCollecting nose\n  Downloading nose-1.3.7-py3-none-any.whl (154 kB)\n     ━━━━━━━━━━━━━━━━━━━━━━━━━━━━━━━━━━━━━━━ 154.7/154.7 kB 2.0 MB/s eta 0:00:00\nInstalling collected packages: nose, graphframes\nSuccessfully installed graphframes-0.6 nose-1.3.7\n\u001B[43mNote: you may need to restart the kernel using dbutils.library.restartPython() to use updated packages.\u001B[0m\n"
     ]
    }
   ],
   "source": [
    "%pip install graphframes==0.6"
   ]
  },
  {
   "cell_type": "code",
   "execution_count": 0,
   "metadata": {
    "application/vnd.databricks.v1+cell": {
     "cellMetadata": {
      "byteLimit": 2048000,
      "rowLimit": 10000
     },
     "inputWidgets": {},
     "nuid": "758e9593-5806-4dd0-9868-73c32c3fe955",
     "showTitle": false,
     "title": ""
    }
   },
   "outputs": [],
   "source": [
    "dbutils.library.restartPython()"
   ]
  },
  {
   "cell_type": "markdown",
   "metadata": {
    "application/vnd.databricks.v1+cell": {
     "cellMetadata": {},
     "inputWidgets": {},
     "nuid": "7557ff89-c7da-4648-b17e-865d8fd67039",
     "showTitle": false,
     "title": ""
    }
   },
   "source": [
    "\n",
    "## Load Data\n"
   ]
  },
  {
   "cell_type": "code",
   "execution_count": 0,
   "metadata": {
    "application/vnd.databricks.v1+cell": {
     "cellMetadata": {
      "byteLimit": 2048000,
      "rowLimit": 10000
     },
     "inputWidgets": {},
     "nuid": "9d75f731-e32c-4b1e-8485-476a70dbfa65",
     "showTitle": false,
     "title": ""
    }
   },
   "outputs": [],
   "source": [
    "bikeStations = spark.read.option(\"header\",\"true\")\\\n",
    "  .csv(\"/databricks-datasets/definitive-guide/data/bike-data/201508_station_data.csv\")\n",
    "tripData = spark.read.option(\"header\",\"true\")\\\n",
    "  .csv(\"/databricks-datasets/definitive-guide/data/bike-data/201508_trip_data.csv\")\n"
   ]
  },
  {
   "cell_type": "code",
   "execution_count": 0,
   "metadata": {
    "application/vnd.databricks.v1+cell": {
     "cellMetadata": {
      "byteLimit": 2048000,
      "rowLimit": 10000
     },
     "inputWidgets": {},
     "nuid": "284ea226-b669-43a3-a5aa-d42998b8a5c5",
     "showTitle": false,
     "title": ""
    }
   },
   "outputs": [],
   "source": [
    "stationVertices = bikeStations.withColumnRenamed(\"name\", \"id\").distinct()\n",
    "tripEdges = tripData\\\n",
    "  .withColumnRenamed(\"Start Station\", \"src\")\\\n",
    "  .withColumnRenamed(\"End Station\", \"dst\")\n"
   ]
  },
  {
   "cell_type": "markdown",
   "metadata": {
    "application/vnd.databricks.v1+cell": {
     "cellMetadata": {},
     "inputWidgets": {},
     "nuid": "979049e3-afe3-45de-b8da-94c845b52783",
     "showTitle": false,
     "title": ""
    }
   },
   "source": [
    "\n",
    "## Building a Graph\n"
   ]
  },
  {
   "cell_type": "code",
   "execution_count": 0,
   "metadata": {
    "application/vnd.databricks.v1+cell": {
     "cellMetadata": {
      "byteLimit": 2048000,
      "rowLimit": 10000
     },
     "inputWidgets": {},
     "nuid": "2981cfe9-c450-45fd-b8c5-d7ae32cc7016",
     "showTitle": false,
     "title": ""
    }
   },
   "outputs": [
    {
     "output_type": "execute_result",
     "data": {
      "text/plain": [
       "GraphFrame(v:[id: string, station_id: string ... 5 more fields], e:[src: string, dst: string ... 9 more fields])"
      ]
     },
     "execution_count": 4,
     "metadata": {},
     "output_type": "execute_result"
    }
   ],
   "source": [
    "from graphframes import GraphFrame\n",
    "stationGraph = GraphFrame(stationVertices, tripEdges)\n",
    "stationGraph.cache()\n"
   ]
  },
  {
   "cell_type": "code",
   "execution_count": 0,
   "metadata": {
    "application/vnd.databricks.v1+cell": {
     "cellMetadata": {
      "byteLimit": 2048000,
      "rowLimit": 10000
     },
     "inputWidgets": {},
     "nuid": "e5ecbf54-0d72-4746-8966-8169772e5256",
     "showTitle": false,
     "title": ""
    }
   },
   "outputs": [
    {
     "output_type": "stream",
     "name": "stdout",
     "output_type": "stream",
     "text": [
      "Total Number of Stations: 70\nTotal Number of Trips in Graph: 354152\nTotal Number of Trips in Original Data: 354152\n"
     ]
    }
   ],
   "source": [
    "print(\"Total Number of Stations: \" + str(stationGraph.vertices.count()))\n",
    "print(\"Total Number of Trips in Graph: \" + str(stationGraph.edges.count()))\n",
    "print(\"Total Number of Trips in Original Data: \" + str(tripData.count()))\n"
   ]
  },
  {
   "cell_type": "markdown",
   "metadata": {
    "application/vnd.databricks.v1+cell": {
     "cellMetadata": {},
     "inputWidgets": {},
     "nuid": "b866641d-bb79-4005-b0e0-a82ccc968102",
     "showTitle": false,
     "title": ""
    }
   },
   "source": [
    "\n",
    "## Querying the Graph\n"
   ]
  },
  {
   "cell_type": "code",
   "execution_count": 0,
   "metadata": {
    "application/vnd.databricks.v1+cell": {
     "cellMetadata": {
      "byteLimit": 2048000,
      "rowLimit": 10000
     },
     "inputWidgets": {},
     "nuid": "b28f8be8-d0be-43cc-92f6-9656cd31d1dd",
     "showTitle": false,
     "title": ""
    }
   },
   "outputs": [
    {
     "output_type": "stream",
     "name": "stdout",
     "output_type": "stream",
     "text": [
      "+--------------------+--------------------+-----+\n|                 src|                 dst|count|\n+--------------------+--------------------+-----+\n|San Francisco Cal...|     Townsend at 7th| 3748|\n|Harry Bridges Pla...|Embarcadero at Sa...| 3145|\n|     2nd at Townsend|Harry Bridges Pla...| 2973|\n|     Townsend at 7th|San Francisco Cal...| 2734|\n|Harry Bridges Pla...|     2nd at Townsend| 2640|\n|Embarcadero at Fo...|San Francisco Cal...| 2439|\n|   Steuart at Market|     2nd at Townsend| 2356|\n|Embarcadero at Sa...|   Steuart at Market| 2330|\n|     Townsend at 7th|San Francisco Cal...| 2192|\n|Temporary Transba...|San Francisco Cal...| 2184|\n+--------------------+--------------------+-----+\nonly showing top 10 rows\n\n"
     ]
    }
   ],
   "source": [
    "from pyspark.sql.functions import desc\n",
    "stationGraph.edges.groupBy(\"src\", \"dst\").count().orderBy(desc(\"count\")).show(10)\n"
   ]
  },
  {
   "cell_type": "code",
   "execution_count": 0,
   "metadata": {
    "application/vnd.databricks.v1+cell": {
     "cellMetadata": {
      "byteLimit": 2048000,
      "rowLimit": 10000
     },
     "inputWidgets": {},
     "nuid": "e4e4ec58-3e5d-4963-8f28-29c37f0465d5",
     "showTitle": false,
     "title": ""
    }
   },
   "outputs": [
    {
     "output_type": "stream",
     "name": "stdout",
     "output_type": "stream",
     "text": [
      "+--------------------+--------------------+-----+\n|                 src|                 dst|count|\n+--------------------+--------------------+-----+\n|San Francisco Cal...|     Townsend at 7th| 3748|\n|     Townsend at 7th|San Francisco Cal...| 2734|\n|     Townsend at 7th|San Francisco Cal...| 2192|\n|     Townsend at 7th|Civic Center BART...| 1844|\n|Civic Center BART...|     Townsend at 7th| 1765|\n|San Francisco Cal...|     Townsend at 7th| 1198|\n|Temporary Transba...|     Townsend at 7th|  834|\n|     Townsend at 7th|Harry Bridges Pla...|  827|\n|   Steuart at Market|     Townsend at 7th|  746|\n|     Townsend at 7th|Temporary Transba...|  740|\n+--------------------+--------------------+-----+\nonly showing top 10 rows\n\n"
     ]
    }
   ],
   "source": [
    "stationGraph.edges\\\n",
    "  .where(\"src = 'Townsend at 7th' OR dst = 'Townsend at 7th'\")\\\n",
    "  .groupBy(\"src\", \"dst\").count()\\\n",
    "  .orderBy(desc(\"count\"))\\\n",
    "  .show(10)\n"
   ]
  },
  {
   "cell_type": "markdown",
   "metadata": {
    "application/vnd.databricks.v1+cell": {
     "cellMetadata": {},
     "inputWidgets": {},
     "nuid": "c6b61aa6-3568-4f44-9517-5a58f4765971",
     "showTitle": false,
     "title": ""
    }
   },
   "source": [
    "\n",
    "## Subgraphs\n"
   ]
  },
  {
   "cell_type": "code",
   "execution_count": 0,
   "metadata": {
    "application/vnd.databricks.v1+cell": {
     "cellMetadata": {
      "byteLimit": 2048000,
      "rowLimit": 10000
     },
     "inputWidgets": {},
     "nuid": "0109df72-75f0-4e6e-b778-3c8e1bef2d6a",
     "showTitle": false,
     "title": ""
    }
   },
   "outputs": [],
   "source": [
    "townAnd7thEdges = stationGraph.edges\\\n",
    "  .where(\"src = 'Townsend at 7th' OR dst = 'Townsend at 7th'\")\n",
    "subgraph = GraphFrame(stationGraph.vertices, townAnd7thEdges)\n"
   ]
  },
  {
   "cell_type": "markdown",
   "metadata": {
    "application/vnd.databricks.v1+cell": {
     "cellMetadata": {},
     "inputWidgets": {},
     "nuid": "d2a8829d-ebce-465c-a188-bba00d6df22d",
     "showTitle": false,
     "title": ""
    }
   },
   "source": [
    "\n",
    "## Graph Algorithms\n"
   ]
  },
  {
   "cell_type": "code",
   "execution_count": 0,
   "metadata": {
    "application/vnd.databricks.v1+cell": {
     "cellMetadata": {
      "byteLimit": 2048000,
      "rowLimit": 10000
     },
     "inputWidgets": {},
     "nuid": "d995f61c-dae7-4fc1-b17a-31136f1765ca",
     "showTitle": false,
     "title": ""
    }
   },
   "outputs": [
    {
     "output_type": "stream",
     "name": "stdout",
     "output_type": "stream",
     "text": [
      "+--------------------+------------------+\n|                  id|          pagerank|\n+--------------------+------------------+\n|San Jose Diridon ...| 4.051504835989958|\n|San Francisco Cal...| 3.351183296428705|\n|Mountain View Cal...|2.5143907710155586|\n|Redwood City Calt...|2.3263087713711696|\n|San Francisco Cal...| 2.231144291369857|\n|Harry Bridges Pla...|1.8251120118882906|\n|     2nd at Townsend|  1.58212177850392|\n|Santa Clara at Al...|1.5730074084907522|\n|     Townsend at 7th|1.5684565805340673|\n|Embarcadero at Sa...| 1.541424208774895|\n+--------------------+------------------+\nonly showing top 10 rows\n\n"
     ]
    }
   ],
   "source": [
    "#PageRank\n",
    "from pyspark.sql.functions import desc\n",
    "ranks = stationGraph.pageRank(resetProbability=0.15, maxIter=10)\n",
    "ranks.vertices.orderBy(desc(\"pagerank\")).select(\"id\", \"pagerank\").show(10)\n"
   ]
  },
  {
   "cell_type": "code",
   "execution_count": 0,
   "metadata": {
    "application/vnd.databricks.v1+cell": {
     "cellMetadata": {
      "byteLimit": 2048000,
      "rowLimit": 10000
     },
     "inputWidgets": {},
     "nuid": "7ba21cf3-6b90-4062-bc04-495448dbbfce",
     "showTitle": false,
     "title": ""
    }
   },
   "outputs": [
    {
     "output_type": "stream",
     "name": "stdout",
     "output_type": "stream",
     "text": [
      "+----------------------------------------+--------+\n|id                                      |inDegree|\n+----------------------------------------+--------+\n|San Francisco Caltrain (Townsend at 4th)|34810   |\n|San Francisco Caltrain 2 (330 Townsend) |22523   |\n|Harry Bridges Plaza (Ferry Building)    |17810   |\n|2nd at Townsend                         |15463   |\n|Townsend at 7th                         |15422   |\n+----------------------------------------+--------+\nonly showing top 5 rows\n\n"
     ]
    }
   ],
   "source": [
    "#In-Degree Metrics\n",
    "inDeg = stationGraph.inDegrees\n",
    "inDeg.orderBy(desc(\"inDegree\")).show(5, False)\n"
   ]
  },
  {
   "cell_type": "code",
   "execution_count": 0,
   "metadata": {
    "application/vnd.databricks.v1+cell": {
     "cellMetadata": {
      "byteLimit": 2048000,
      "rowLimit": 10000
     },
     "inputWidgets": {},
     "nuid": "f241db4d-a8ad-492e-a252-95ca0954b74a",
     "showTitle": false,
     "title": ""
    }
   },
   "outputs": [
    {
     "output_type": "stream",
     "name": "stdout",
     "output_type": "stream",
     "text": [
      "+---------------------------------------------+---------+\n|id                                           |outDegree|\n+---------------------------------------------+---------+\n|San Francisco Caltrain (Townsend at 4th)     |26304    |\n|San Francisco Caltrain 2 (330 Townsend)      |21758    |\n|Harry Bridges Plaza (Ferry Building)         |17255    |\n|Temporary Transbay Terminal (Howard at Beale)|14436    |\n|Embarcadero at Sansome                       |14158    |\n+---------------------------------------------+---------+\nonly showing top 5 rows\n\n"
     ]
    }
   ],
   "source": [
    "#Out-Degree Metrics\n",
    "outDeg = stationGraph.outDegrees\n",
    "outDeg.orderBy(desc(\"outDegree\")).show(5, False)\n"
   ]
  },
  {
   "cell_type": "code",
   "execution_count": 0,
   "metadata": {
    "application/vnd.databricks.v1+cell": {
     "cellMetadata": {
      "byteLimit": 2048000,
      "rowLimit": 10000
     },
     "inputWidgets": {},
     "nuid": "335aca4b-cc81-4404-9636-08ffbb6ddd18",
     "showTitle": false,
     "title": ""
    }
   },
   "outputs": [
    {
     "output_type": "stream",
     "name": "stdout",
     "output_type": "stream",
     "text": [
      "+----------------------------------------+------------------+\n|id                                      |degreeRatio       |\n+----------------------------------------+------------------+\n|Redwood City Medical Center             |1.5333333333333334|\n|San Mateo County Center                 |1.4724409448818898|\n|SJSU 4th at San Carlos                  |1.3621052631578947|\n|San Francisco Caltrain (Townsend at 4th)|1.3233728710462287|\n|Washington at Kearny                    |1.3086466165413533|\n|Paseo de San Antonio                    |1.2535046728971964|\n|California Ave Caltrain Station         |1.24              |\n|Franklin at Maple                       |1.2345679012345678|\n|Embarcadero at Vallejo                  |1.2201707365495336|\n|Market at Sansome                       |1.2173913043478262|\n+----------------------------------------+------------------+\nonly showing top 10 rows\n\n+-------------------------------+------------------+\n|id                             |degreeRatio       |\n+-------------------------------+------------------+\n|Grant Avenue at Columbus Avenue|0.5180520570948782|\n|2nd at Folsom                  |0.5909488686085761|\n|Powell at Post (Union Square)  |0.6434241245136186|\n|Mezes Park                     |0.6839622641509434|\n|Evelyn Park and Ride           |0.7413087934560327|\n|Beale at Market                |0.75726761574351  |\n|Golden Gate at Polk            |0.7822270981897971|\n|Ryland Park                    |0.7857142857142857|\n|San Francisco City Hall        |0.7928849902534113|\n|Palo Alto Caltrain Station     |0.8064516129032258|\n+-------------------------------+------------------+\nonly showing top 10 rows\n\n"
     ]
    }
   ],
   "source": [
    "degreeRatio = inDeg.join(outDeg, \"id\")\\\n",
    "  .selectExpr(\"id\", \"double(inDegree)/double(outDegree) as degreeRatio\")\n",
    "degreeRatio.orderBy(desc(\"degreeRatio\")).show(10, False)\n",
    "degreeRatio.orderBy(\"degreeRatio\").show(10, False)\n"
   ]
  },
  {
   "cell_type": "code",
   "execution_count": 0,
   "metadata": {
    "application/vnd.databricks.v1+cell": {
     "cellMetadata": {
      "byteLimit": 2048000,
      "rowLimit": 10000
     },
     "inputWidgets": {},
     "nuid": "1219cbaa-39f5-405e-9bfe-49ad638b6522",
     "showTitle": false,
     "title": ""
    }
   },
   "outputs": [
    {
     "output_type": "stream",
     "name": "stdout",
     "output_type": "stream",
     "text": [
      "+--------------------+--------------------+--------------------+\n|                from|                  e0|                  to|\n+--------------------+--------------------+--------------------+\n|{65, Townsend at ...|{913371, 663, 8/3...|{49, Spear at Fol...|\n|{65, Townsend at ...|{913265, 658, 8/3...|{49, Spear at Fol...|\n|{65, Townsend at ...|{911919, 722, 8/3...|{49, Spear at Fol...|\n|{65, Townsend at ...|{910777, 704, 8/2...|{49, Spear at Fol...|\n|{65, Townsend at ...|{908994, 1115, 8/...|{49, Spear at Fol...|\n|{65, Townsend at ...|{906912, 892, 8/2...|{49, Spear at Fol...|\n|{65, Townsend at ...|{905201, 980, 8/2...|{49, Spear at Fol...|\n|{65, Townsend at ...|{904010, 969, 8/2...|{49, Spear at Fol...|\n|{65, Townsend at ...|{903375, 850, 8/2...|{49, Spear at Fol...|\n|{65, Townsend at ...|{899944, 910, 8/2...|{49, Spear at Fol...|\n+--------------------+--------------------+--------------------+\nonly showing top 10 rows\n\n"
     ]
    }
   ],
   "source": [
    "#Breadth-First Search\n",
    "stationGraph.bfs(fromExpr=\"id = 'Townsend at 7th'\",\n",
    "  toExpr=\"id = 'Spear at Folsom'\", maxPathLength=2).show(10)\n"
   ]
  }
 ],
 "metadata": {
  "application/vnd.databricks.v1+notebook": {
   "dashboards": [],
   "language": "python",
   "notebookMetadata": {
    "mostRecentlyExecutedCommandWithImplicitDF": {
     "commandId": -1,
     "dataframes": [
      "_sqldf"
     ]
    },
    "pythonIndentUnit": 4
   },
   "notebookName": "Practical_4",
   "widgets": {}
  }
 },
 "nbformat": 4,
 "nbformat_minor": 0
}
